{
 "cells": [
  {
   "cell_type": "markdown",
   "metadata": {},
   "source": [
    "### Исследование результатов предсказаний"
   ]
  },
  {
   "cell_type": "markdown",
   "metadata": {},
   "source": [
    "Для того, чтобы лучше разобраться, что происходит, я написал скрипты, которые сравнивают получившиеся предсказания и помогаю понять по какой логике действуют алгоритмы."
   ]
  },
  {
   "cell_type": "code",
   "execution_count": 1,
   "metadata": {
    "collapsed": true
   },
   "outputs": [],
   "source": [
    "def mismatch(a, b):\n",
    "    return [(x1, x2) for x1, x2 in zip(a, b) if x1[1] != x2[1]]"
   ]
  },
  {
   "cell_type": "code",
   "execution_count": 2,
   "metadata": {
    "collapsed": true
   },
   "outputs": [],
   "source": [
    "def read(ds):\n",
    "    with open(ds) as f:\n",
    "        r = [tuple([int(s) for s in l.split(',') if s != '']) for l in f.read().split('\\n')[1:] if l]\n",
    "    return r"
   ]
  },
  {
   "cell_type": "code",
   "execution_count": 3,
   "metadata": {
    "collapsed": true
   },
   "outputs": [],
   "source": [
    "def print_mismatch(a, b):\n",
    "    m = mismatch(a, b)\n",
    "    print(len(m))\n",
    "    for r in m:\n",
    "        print('{}-{}'.format(r[0], r[1]))"
   ]
  },
  {
   "cell_type": "code",
   "execution_count": 4,
   "metadata": {
    "collapsed": true
   },
   "outputs": [],
   "source": [
    "def survived(a):\n",
    "    survived = 0\n",
    "    not_survived = 0\n",
    "    for i in a:\n",
    "        if i[1] == 0:\n",
    "            not_survived += 1\n",
    "        else:\n",
    "            survived += 1\n",
    "    return survived, not_survived, len(a)"
   ]
  },
  {
   "cell_type": "code",
   "execution_count": 5,
   "metadata": {},
   "outputs": [],
   "source": [
    "def print_survived(a):\n",
    "    s = survived(a)\n",
    "    p = s[2] / 100\n",
    "    print('survived:', s[0], ', percent:', s[0] / p, '|', \n",
    "          'not_survived:', s[1], ', percent:', s[1] / p, '|', \n",
    "          'total:', s[2]\n",
    "         )"
   ]
  },
  {
   "cell_type": "code",
   "execution_count": 6,
   "metadata": {
    "collapsed": true,
    "scrolled": true
   },
   "outputs": [],
   "source": [
    "lr = read('sample_submission_lr.csv')"
   ]
  },
  {
   "cell_type": "code",
   "execution_count": 7,
   "metadata": {
    "collapsed": true
   },
   "outputs": [],
   "source": [
    "knn = read('sample_submission_knn.csv')"
   ]
  },
  {
   "cell_type": "code",
   "execution_count": 8,
   "metadata": {
    "collapsed": true
   },
   "outputs": [],
   "source": [
    "gbc = read('sample_submission_gbc.csv')"
   ]
  },
  {
   "cell_type": "code",
   "execution_count": 9,
   "metadata": {
    "collapsed": true
   },
   "outputs": [],
   "source": [
    "rf = read('sample_submission_rf.csv')"
   ]
  },
  {
   "cell_type": "markdown",
   "metadata": {},
   "source": [
    "#### Посмотрим как алгоритмы распределили количество выживших и погибших:"
   ]
  },
  {
   "cell_type": "markdown",
   "metadata": {},
   "source": [
    "#### Logit survived:"
   ]
  },
  {
   "cell_type": "code",
   "execution_count": 10,
   "metadata": {
    "scrolled": true
   },
   "outputs": [
    {
     "name": "stdout",
     "output_type": "stream",
     "text": [
      "survived: 146 , percent: 34.928229665071775 | not_survived: 272 , percent: 65.07177033492823 | total: 418\n"
     ]
    }
   ],
   "source": [
    "print_survived(lr)"
   ]
  },
  {
   "cell_type": "markdown",
   "metadata": {},
   "source": [
    "#### kNN survived:"
   ]
  },
  {
   "cell_type": "code",
   "execution_count": 11,
   "metadata": {},
   "outputs": [
    {
     "name": "stdout",
     "output_type": "stream",
     "text": [
      "survived: 130 , percent: 31.100478468899524 | not_survived: 288 , percent: 68.89952153110049 | total: 418\n"
     ]
    }
   ],
   "source": [
    "print_survived(knn)"
   ]
  },
  {
   "cell_type": "markdown",
   "metadata": {},
   "source": [
    "#### Gradient Boosting survived:"
   ]
  },
  {
   "cell_type": "code",
   "execution_count": 12,
   "metadata": {},
   "outputs": [
    {
     "name": "stdout",
     "output_type": "stream",
     "text": [
      "survived: 156 , percent: 37.32057416267943 | not_survived: 262 , percent: 62.67942583732058 | total: 418\n"
     ]
    }
   ],
   "source": [
    "print_survived(gbc)"
   ]
  },
  {
   "cell_type": "markdown",
   "metadata": {},
   "source": [
    "#### Random Forest survived:"
   ]
  },
  {
   "cell_type": "code",
   "execution_count": 13,
   "metadata": {
    "scrolled": true
   },
   "outputs": [
    {
     "name": "stdout",
     "output_type": "stream",
     "text": [
      "survived: 141 , percent: 33.73205741626794 | not_survived: 277 , percent: 66.26794258373207 | total: 418\n"
     ]
    }
   ],
   "source": [
    "print_survived(rf)"
   ]
  },
  {
   "cell_type": "markdown",
   "metadata": {},
   "source": [
    "Самым \"миролюбивым\" оказался Gradient Boosting, а самым \"кровожадным\" kNN, впрочем, он и самый неточный. Причем, распределение выживших/погибших у Gradient Boosting наиболее близкое к тренировочному датасету."
   ]
  },
  {
   "cell_type": "markdown",
   "metadata": {},
   "source": [
    "#### Gradient Boosting and Logit:"
   ]
  },
  {
   "cell_type": "code",
   "execution_count": 14,
   "metadata": {},
   "outputs": [
    {
     "name": "stdout",
     "output_type": "stream",
     "text": [
      "18\n",
      "(911, 0)-(911, 1)\n",
      "(913, 1)-(913, 0)\n",
      "(924, 1)-(924, 0)\n",
      "(925, 1)-(925, 0)\n",
      "(941, 1)-(941, 0)\n",
      "(967, 0)-(967, 1)\n",
      "(972, 1)-(972, 0)\n",
      "(1019, 1)-(1019, 0)\n",
      "(1045, 1)-(1045, 0)\n",
      "(1053, 1)-(1053, 0)\n",
      "(1084, 1)-(1084, 0)\n",
      "(1093, 1)-(1093, 0)\n",
      "(1173, 1)-(1173, 0)\n",
      "(1199, 1)-(1199, 0)\n",
      "(1268, 1)-(1268, 0)\n",
      "(1282, 0)-(1282, 1)\n",
      "(1284, 1)-(1284, 0)\n",
      "(1295, 0)-(1295, 1)\n"
     ]
    }
   ],
   "source": [
    "print_mismatch(gbc, lr)"
   ]
  },
  {
   "cell_type": "markdown",
   "metadata": {},
   "source": [
    "#### Random Forest and Logit:"
   ]
  },
  {
   "cell_type": "code",
   "execution_count": 15,
   "metadata": {
    "scrolled": false
   },
   "outputs": [
    {
     "name": "stdout",
     "output_type": "stream",
     "text": [
      "19\n",
      "(896, 0)-(896, 1)\n",
      "(911, 0)-(911, 1)\n",
      "(913, 1)-(913, 0)\n",
      "(967, 0)-(967, 1)\n",
      "(972, 1)-(972, 0)\n",
      "(996, 0)-(996, 1)\n",
      "(1019, 1)-(1019, 0)\n",
      "(1051, 0)-(1051, 1)\n",
      "(1053, 1)-(1053, 0)\n",
      "(1057, 0)-(1057, 1)\n",
      "(1093, 1)-(1093, 0)\n",
      "(1117, 0)-(1117, 1)\n",
      "(1173, 1)-(1173, 0)\n",
      "(1199, 1)-(1199, 0)\n",
      "(1205, 0)-(1205, 1)\n",
      "(1225, 0)-(1225, 1)\n",
      "(1239, 0)-(1239, 1)\n",
      "(1282, 0)-(1282, 1)\n",
      "(1295, 0)-(1295, 1)\n"
     ]
    }
   ],
   "source": [
    "print_mismatch(rf, lr)"
   ]
  },
  {
   "cell_type": "markdown",
   "metadata": {},
   "source": [
    "#### Gradient Boosting and Random Forest:"
   ]
  },
  {
   "cell_type": "code",
   "execution_count": 16,
   "metadata": {},
   "outputs": [
    {
     "name": "stdout",
     "output_type": "stream",
     "text": [
      "15\n",
      "(896, 1)-(896, 0)\n",
      "(924, 1)-(924, 0)\n",
      "(925, 1)-(925, 0)\n",
      "(941, 1)-(941, 0)\n",
      "(996, 1)-(996, 0)\n",
      "(1045, 1)-(1045, 0)\n",
      "(1051, 1)-(1051, 0)\n",
      "(1057, 1)-(1057, 0)\n",
      "(1084, 1)-(1084, 0)\n",
      "(1117, 1)-(1117, 0)\n",
      "(1205, 1)-(1205, 0)\n",
      "(1225, 1)-(1225, 0)\n",
      "(1239, 1)-(1239, 0)\n",
      "(1268, 1)-(1268, 0)\n",
      "(1284, 1)-(1284, 0)\n"
     ]
    }
   ],
   "source": [
    "print_mismatch(gbc, rf)"
   ]
  },
  {
   "cell_type": "markdown",
   "metadata": {},
   "source": [
    "#### KNN and Logit:"
   ]
  },
  {
   "cell_type": "code",
   "execution_count": 17,
   "metadata": {
    "scrolled": false
   },
   "outputs": [
    {
     "name": "stdout",
     "output_type": "stream",
     "text": [
      "70\n",
      "(895, 1)-(895, 0)\n",
      "(896, 0)-(896, 1)\n",
      "(898, 0)-(898, 1)\n",
      "(900, 0)-(900, 1)\n",
      "(910, 0)-(910, 1)\n",
      "(911, 0)-(911, 1)\n",
      "(913, 1)-(913, 0)\n",
      "(920, 1)-(920, 0)\n",
      "(928, 0)-(928, 1)\n",
      "(929, 0)-(929, 1)\n",
      "(931, 1)-(931, 0)\n",
      "(933, 1)-(933, 0)\n",
      "(958, 0)-(958, 1)\n",
      "(960, 1)-(960, 0)\n",
      "(962, 0)-(962, 1)\n",
      "(967, 0)-(967, 1)\n",
      "(971, 0)-(971, 1)\n",
      "(972, 1)-(972, 0)\n",
      "(973, 1)-(973, 0)\n",
      "(979, 0)-(979, 1)\n",
      "(980, 0)-(980, 1)\n",
      "(982, 0)-(982, 1)\n",
      "(986, 1)-(986, 0)\n",
      "(990, 0)-(990, 1)\n",
      "(996, 0)-(996, 1)\n",
      "(1003, 0)-(1003, 1)\n",
      "(1005, 0)-(1005, 1)\n",
      "(1019, 1)-(1019, 0)\n",
      "(1036, 1)-(1036, 0)\n",
      "(1040, 1)-(1040, 0)\n",
      "(1050, 1)-(1050, 0)\n",
      "(1052, 0)-(1052, 1)\n",
      "(1053, 1)-(1053, 0)\n",
      "(1057, 0)-(1057, 1)\n",
      "(1063, 1)-(1063, 0)\n",
      "(1083, 1)-(1083, 0)\n",
      "(1089, 0)-(1089, 1)\n",
      "(1091, 0)-(1091, 1)\n",
      "(1092, 0)-(1092, 1)\n",
      "(1093, 1)-(1093, 0)\n",
      "(1097, 1)-(1097, 0)\n",
      "(1098, 0)-(1098, 1)\n",
      "(1108, 0)-(1108, 1)\n",
      "(1117, 0)-(1117, 1)\n",
      "(1119, 0)-(1119, 1)\n",
      "(1141, 0)-(1141, 1)\n",
      "(1160, 0)-(1160, 1)\n",
      "(1172, 0)-(1172, 1)\n",
      "(1173, 1)-(1173, 0)\n",
      "(1174, 0)-(1174, 1)\n",
      "(1183, 0)-(1183, 1)\n",
      "(1196, 0)-(1196, 1)\n",
      "(1199, 1)-(1199, 0)\n",
      "(1205, 0)-(1205, 1)\n",
      "(1210, 1)-(1210, 0)\n",
      "(1215, 1)-(1215, 0)\n",
      "(1223, 1)-(1223, 0)\n",
      "(1225, 0)-(1225, 1)\n",
      "(1226, 1)-(1226, 0)\n",
      "(1227, 1)-(1227, 0)\n",
      "(1239, 0)-(1239, 1)\n",
      "(1255, 1)-(1255, 0)\n",
      "(1259, 0)-(1259, 1)\n",
      "(1274, 0)-(1274, 1)\n",
      "(1275, 0)-(1275, 1)\n",
      "(1282, 0)-(1282, 1)\n",
      "(1284, 1)-(1284, 0)\n",
      "(1295, 0)-(1295, 1)\n",
      "(1300, 0)-(1300, 1)\n",
      "(1302, 0)-(1302, 1)\n"
     ]
    }
   ],
   "source": [
    "print_mismatch(knn, lr)"
   ]
  },
  {
   "cell_type": "markdown",
   "metadata": {},
   "source": [
    "Наиболее интресные различия между Gradient Boosting и Random Forest, там где первый считает пассажира выжившим, второй - погибшим. Посмотрим, что это за пассажиры: "
   ]
  },
  {
   "cell_type": "code",
   "execution_count": 18,
   "metadata": {
    "collapsed": true
   },
   "outputs": [],
   "source": [
    "import pandas as pd"
   ]
  },
  {
   "cell_type": "code",
   "execution_count": 19,
   "metadata": {},
   "outputs": [],
   "source": [
    "df_test = pd.read_csv('test.csv')"
   ]
  },
  {
   "cell_type": "code",
   "execution_count": 20,
   "metadata": {},
   "outputs": [],
   "source": [
    "p_ids = []\n",
    "for m in mismatch(gbc, rf):\n",
    "    p_ids.append(m[0][0])"
   ]
  },
  {
   "cell_type": "code",
   "execution_count": 21,
   "metadata": {
    "scrolled": false
   },
   "outputs": [
    {
     "data": {
      "text/html": [
       "<div>\n",
       "<style>\n",
       "    .dataframe thead tr:only-child th {\n",
       "        text-align: right;\n",
       "    }\n",
       "\n",
       "    .dataframe thead th {\n",
       "        text-align: left;\n",
       "    }\n",
       "\n",
       "    .dataframe tbody tr th {\n",
       "        vertical-align: top;\n",
       "    }\n",
       "</style>\n",
       "<table border=\"1\" class=\"dataframe\">\n",
       "  <thead>\n",
       "    <tr style=\"text-align: right;\">\n",
       "      <th></th>\n",
       "      <th>PassengerId</th>\n",
       "      <th>Pclass</th>\n",
       "      <th>Name</th>\n",
       "      <th>Sex</th>\n",
       "      <th>Age</th>\n",
       "      <th>SibSp</th>\n",
       "      <th>Parch</th>\n",
       "      <th>Ticket</th>\n",
       "      <th>Fare</th>\n",
       "      <th>Cabin</th>\n",
       "      <th>Embarked</th>\n",
       "    </tr>\n",
       "  </thead>\n",
       "  <tbody>\n",
       "    <tr>\n",
       "      <th>4</th>\n",
       "      <td>896</td>\n",
       "      <td>3</td>\n",
       "      <td>Hirvonen, Mrs. Alexander (Helga E Lindqvist)</td>\n",
       "      <td>female</td>\n",
       "      <td>22.0</td>\n",
       "      <td>1</td>\n",
       "      <td>1</td>\n",
       "      <td>3101298</td>\n",
       "      <td>12.2875</td>\n",
       "      <td>NaN</td>\n",
       "      <td>S</td>\n",
       "    </tr>\n",
       "    <tr>\n",
       "      <th>32</th>\n",
       "      <td>924</td>\n",
       "      <td>3</td>\n",
       "      <td>Dean, Mrs. Bertram (Eva Georgetta Light)</td>\n",
       "      <td>female</td>\n",
       "      <td>33.0</td>\n",
       "      <td>1</td>\n",
       "      <td>2</td>\n",
       "      <td>C.A. 2315</td>\n",
       "      <td>20.5750</td>\n",
       "      <td>NaN</td>\n",
       "      <td>S</td>\n",
       "    </tr>\n",
       "    <tr>\n",
       "      <th>33</th>\n",
       "      <td>925</td>\n",
       "      <td>3</td>\n",
       "      <td>Johnston, Mrs. Andrew G (Elizabeth Lily\" Watson)\"</td>\n",
       "      <td>female</td>\n",
       "      <td>NaN</td>\n",
       "      <td>1</td>\n",
       "      <td>2</td>\n",
       "      <td>W./C. 6607</td>\n",
       "      <td>23.4500</td>\n",
       "      <td>NaN</td>\n",
       "      <td>S</td>\n",
       "    </tr>\n",
       "    <tr>\n",
       "      <th>49</th>\n",
       "      <td>941</td>\n",
       "      <td>3</td>\n",
       "      <td>Coutts, Mrs. William (Winnie Minnie\" Treanor)\"</td>\n",
       "      <td>female</td>\n",
       "      <td>36.0</td>\n",
       "      <td>0</td>\n",
       "      <td>2</td>\n",
       "      <td>C.A. 37671</td>\n",
       "      <td>15.9000</td>\n",
       "      <td>NaN</td>\n",
       "      <td>S</td>\n",
       "    </tr>\n",
       "    <tr>\n",
       "      <th>104</th>\n",
       "      <td>996</td>\n",
       "      <td>3</td>\n",
       "      <td>Thomas, Mrs. Alexander (Thamine Thelma\")\"</td>\n",
       "      <td>female</td>\n",
       "      <td>16.0</td>\n",
       "      <td>1</td>\n",
       "      <td>1</td>\n",
       "      <td>2625</td>\n",
       "      <td>8.5167</td>\n",
       "      <td>NaN</td>\n",
       "      <td>C</td>\n",
       "    </tr>\n",
       "    <tr>\n",
       "      <th>153</th>\n",
       "      <td>1045</td>\n",
       "      <td>3</td>\n",
       "      <td>Klasen, Mrs. (Hulda Kristina Eugenia Lofqvist)</td>\n",
       "      <td>female</td>\n",
       "      <td>36.0</td>\n",
       "      <td>0</td>\n",
       "      <td>2</td>\n",
       "      <td>350405</td>\n",
       "      <td>12.1833</td>\n",
       "      <td>NaN</td>\n",
       "      <td>S</td>\n",
       "    </tr>\n",
       "    <tr>\n",
       "      <th>159</th>\n",
       "      <td>1051</td>\n",
       "      <td>3</td>\n",
       "      <td>Peacock, Mrs. Benjamin (Edith Nile)</td>\n",
       "      <td>female</td>\n",
       "      <td>26.0</td>\n",
       "      <td>0</td>\n",
       "      <td>2</td>\n",
       "      <td>SOTON/O.Q. 3101315</td>\n",
       "      <td>13.7750</td>\n",
       "      <td>NaN</td>\n",
       "      <td>S</td>\n",
       "    </tr>\n",
       "    <tr>\n",
       "      <th>165</th>\n",
       "      <td>1057</td>\n",
       "      <td>3</td>\n",
       "      <td>Kink-Heilmann, Mrs. Anton (Luise Heilmann)</td>\n",
       "      <td>female</td>\n",
       "      <td>26.0</td>\n",
       "      <td>1</td>\n",
       "      <td>1</td>\n",
       "      <td>315153</td>\n",
       "      <td>22.0250</td>\n",
       "      <td>NaN</td>\n",
       "      <td>S</td>\n",
       "    </tr>\n",
       "    <tr>\n",
       "      <th>192</th>\n",
       "      <td>1084</td>\n",
       "      <td>3</td>\n",
       "      <td>van Billiard, Master. Walter John</td>\n",
       "      <td>male</td>\n",
       "      <td>11.5</td>\n",
       "      <td>1</td>\n",
       "      <td>1</td>\n",
       "      <td>A/5. 851</td>\n",
       "      <td>14.5000</td>\n",
       "      <td>NaN</td>\n",
       "      <td>S</td>\n",
       "    </tr>\n",
       "    <tr>\n",
       "      <th>225</th>\n",
       "      <td>1117</td>\n",
       "      <td>3</td>\n",
       "      <td>Moubarek, Mrs. George (Omine Amenia\" Alexander)\"</td>\n",
       "      <td>female</td>\n",
       "      <td>NaN</td>\n",
       "      <td>0</td>\n",
       "      <td>2</td>\n",
       "      <td>2661</td>\n",
       "      <td>15.2458</td>\n",
       "      <td>NaN</td>\n",
       "      <td>C</td>\n",
       "    </tr>\n",
       "    <tr>\n",
       "      <th>313</th>\n",
       "      <td>1205</td>\n",
       "      <td>3</td>\n",
       "      <td>Carr, Miss. Jeannie</td>\n",
       "      <td>female</td>\n",
       "      <td>37.0</td>\n",
       "      <td>0</td>\n",
       "      <td>0</td>\n",
       "      <td>368364</td>\n",
       "      <td>7.7500</td>\n",
       "      <td>NaN</td>\n",
       "      <td>Q</td>\n",
       "    </tr>\n",
       "    <tr>\n",
       "      <th>333</th>\n",
       "      <td>1225</td>\n",
       "      <td>3</td>\n",
       "      <td>Nakid, Mrs. Said (Waika Mary\" Mowad)\"</td>\n",
       "      <td>female</td>\n",
       "      <td>19.0</td>\n",
       "      <td>1</td>\n",
       "      <td>1</td>\n",
       "      <td>2653</td>\n",
       "      <td>15.7417</td>\n",
       "      <td>NaN</td>\n",
       "      <td>C</td>\n",
       "    </tr>\n",
       "    <tr>\n",
       "      <th>347</th>\n",
       "      <td>1239</td>\n",
       "      <td>3</td>\n",
       "      <td>Whabee, Mrs. George Joseph (Shawneene Abi-Saab)</td>\n",
       "      <td>female</td>\n",
       "      <td>38.0</td>\n",
       "      <td>0</td>\n",
       "      <td>0</td>\n",
       "      <td>2688</td>\n",
       "      <td>7.2292</td>\n",
       "      <td>NaN</td>\n",
       "      <td>C</td>\n",
       "    </tr>\n",
       "    <tr>\n",
       "      <th>376</th>\n",
       "      <td>1268</td>\n",
       "      <td>3</td>\n",
       "      <td>Kink, Miss. Maria</td>\n",
       "      <td>female</td>\n",
       "      <td>22.0</td>\n",
       "      <td>2</td>\n",
       "      <td>0</td>\n",
       "      <td>315152</td>\n",
       "      <td>8.6625</td>\n",
       "      <td>NaN</td>\n",
       "      <td>S</td>\n",
       "    </tr>\n",
       "    <tr>\n",
       "      <th>392</th>\n",
       "      <td>1284</td>\n",
       "      <td>3</td>\n",
       "      <td>Abbott, Master. Eugene Joseph</td>\n",
       "      <td>male</td>\n",
       "      <td>13.0</td>\n",
       "      <td>0</td>\n",
       "      <td>2</td>\n",
       "      <td>C.A. 2673</td>\n",
       "      <td>20.2500</td>\n",
       "      <td>NaN</td>\n",
       "      <td>S</td>\n",
       "    </tr>\n",
       "  </tbody>\n",
       "</table>\n",
       "</div>"
      ],
      "text/plain": [
       "     PassengerId  Pclass                                               Name  \\\n",
       "4            896       3       Hirvonen, Mrs. Alexander (Helga E Lindqvist)   \n",
       "32           924       3           Dean, Mrs. Bertram (Eva Georgetta Light)   \n",
       "33           925       3  Johnston, Mrs. Andrew G (Elizabeth Lily\" Watson)\"   \n",
       "49           941       3     Coutts, Mrs. William (Winnie Minnie\" Treanor)\"   \n",
       "104          996       3          Thomas, Mrs. Alexander (Thamine Thelma\")\"   \n",
       "153         1045       3     Klasen, Mrs. (Hulda Kristina Eugenia Lofqvist)   \n",
       "159         1051       3                Peacock, Mrs. Benjamin (Edith Nile)   \n",
       "165         1057       3         Kink-Heilmann, Mrs. Anton (Luise Heilmann)   \n",
       "192         1084       3                  van Billiard, Master. Walter John   \n",
       "225         1117       3   Moubarek, Mrs. George (Omine Amenia\" Alexander)\"   \n",
       "313         1205       3                                Carr, Miss. Jeannie   \n",
       "333         1225       3              Nakid, Mrs. Said (Waika Mary\" Mowad)\"   \n",
       "347         1239       3    Whabee, Mrs. George Joseph (Shawneene Abi-Saab)   \n",
       "376         1268       3                                  Kink, Miss. Maria   \n",
       "392         1284       3                      Abbott, Master. Eugene Joseph   \n",
       "\n",
       "        Sex   Age  SibSp  Parch              Ticket     Fare Cabin Embarked  \n",
       "4    female  22.0      1      1             3101298  12.2875   NaN        S  \n",
       "32   female  33.0      1      2           C.A. 2315  20.5750   NaN        S  \n",
       "33   female   NaN      1      2          W./C. 6607  23.4500   NaN        S  \n",
       "49   female  36.0      0      2          C.A. 37671  15.9000   NaN        S  \n",
       "104  female  16.0      1      1                2625   8.5167   NaN        C  \n",
       "153  female  36.0      0      2              350405  12.1833   NaN        S  \n",
       "159  female  26.0      0      2  SOTON/O.Q. 3101315  13.7750   NaN        S  \n",
       "165  female  26.0      1      1              315153  22.0250   NaN        S  \n",
       "192    male  11.5      1      1            A/5. 851  14.5000   NaN        S  \n",
       "225  female   NaN      0      2                2661  15.2458   NaN        C  \n",
       "313  female  37.0      0      0              368364   7.7500   NaN        Q  \n",
       "333  female  19.0      1      1                2653  15.7417   NaN        C  \n",
       "347  female  38.0      0      0                2688   7.2292   NaN        C  \n",
       "376  female  22.0      2      0              315152   8.6625   NaN        S  \n",
       "392    male  13.0      0      2           C.A. 2673  20.2500   NaN        S  "
      ]
     },
     "execution_count": 21,
     "metadata": {},
     "output_type": "execute_result"
    }
   ],
   "source": [
    "df_test[df_test['PassengerId'].isin(p_ids)]"
   ]
  },
  {
   "cell_type": "markdown",
   "metadata": {},
   "source": [
    "Как видно, Gradient Boosting больше учитывает влияние класса и пола пассажира, а также возраста в сочетании с ними. Интересно, что будет если сравнить Gradient Boosting с логистической регрессией:"
   ]
  },
  {
   "cell_type": "code",
   "execution_count": 22,
   "metadata": {
    "collapsed": true
   },
   "outputs": [],
   "source": [
    "p_ids = []\n",
    "for m in mismatch(gbc, lr):\n",
    "    if m[0][1] == 1:\n",
    "        p_ids.append(m[0][0])"
   ]
  },
  {
   "cell_type": "code",
   "execution_count": 23,
   "metadata": {},
   "outputs": [
    {
     "data": {
      "text/html": [
       "<div>\n",
       "<style>\n",
       "    .dataframe thead tr:only-child th {\n",
       "        text-align: right;\n",
       "    }\n",
       "\n",
       "    .dataframe thead th {\n",
       "        text-align: left;\n",
       "    }\n",
       "\n",
       "    .dataframe tbody tr th {\n",
       "        vertical-align: top;\n",
       "    }\n",
       "</style>\n",
       "<table border=\"1\" class=\"dataframe\">\n",
       "  <thead>\n",
       "    <tr style=\"text-align: right;\">\n",
       "      <th></th>\n",
       "      <th>PassengerId</th>\n",
       "      <th>Pclass</th>\n",
       "      <th>Name</th>\n",
       "      <th>Sex</th>\n",
       "      <th>Age</th>\n",
       "      <th>SibSp</th>\n",
       "      <th>Parch</th>\n",
       "      <th>Ticket</th>\n",
       "      <th>Fare</th>\n",
       "      <th>Cabin</th>\n",
       "      <th>Embarked</th>\n",
       "    </tr>\n",
       "  </thead>\n",
       "  <tbody>\n",
       "    <tr>\n",
       "      <th>21</th>\n",
       "      <td>913</td>\n",
       "      <td>3</td>\n",
       "      <td>Olsen, Master. Artur Karl</td>\n",
       "      <td>male</td>\n",
       "      <td>9.00</td>\n",
       "      <td>0</td>\n",
       "      <td>1</td>\n",
       "      <td>C 17368</td>\n",
       "      <td>3.1708</td>\n",
       "      <td>NaN</td>\n",
       "      <td>S</td>\n",
       "    </tr>\n",
       "    <tr>\n",
       "      <th>32</th>\n",
       "      <td>924</td>\n",
       "      <td>3</td>\n",
       "      <td>Dean, Mrs. Bertram (Eva Georgetta Light)</td>\n",
       "      <td>female</td>\n",
       "      <td>33.00</td>\n",
       "      <td>1</td>\n",
       "      <td>2</td>\n",
       "      <td>C.A. 2315</td>\n",
       "      <td>20.5750</td>\n",
       "      <td>NaN</td>\n",
       "      <td>S</td>\n",
       "    </tr>\n",
       "    <tr>\n",
       "      <th>33</th>\n",
       "      <td>925</td>\n",
       "      <td>3</td>\n",
       "      <td>Johnston, Mrs. Andrew G (Elizabeth Lily\" Watson)\"</td>\n",
       "      <td>female</td>\n",
       "      <td>NaN</td>\n",
       "      <td>1</td>\n",
       "      <td>2</td>\n",
       "      <td>W./C. 6607</td>\n",
       "      <td>23.4500</td>\n",
       "      <td>NaN</td>\n",
       "      <td>S</td>\n",
       "    </tr>\n",
       "    <tr>\n",
       "      <th>49</th>\n",
       "      <td>941</td>\n",
       "      <td>3</td>\n",
       "      <td>Coutts, Mrs. William (Winnie Minnie\" Treanor)\"</td>\n",
       "      <td>female</td>\n",
       "      <td>36.00</td>\n",
       "      <td>0</td>\n",
       "      <td>2</td>\n",
       "      <td>C.A. 37671</td>\n",
       "      <td>15.9000</td>\n",
       "      <td>NaN</td>\n",
       "      <td>S</td>\n",
       "    </tr>\n",
       "    <tr>\n",
       "      <th>80</th>\n",
       "      <td>972</td>\n",
       "      <td>3</td>\n",
       "      <td>Boulos, Master. Akar</td>\n",
       "      <td>male</td>\n",
       "      <td>6.00</td>\n",
       "      <td>1</td>\n",
       "      <td>1</td>\n",
       "      <td>2678</td>\n",
       "      <td>15.2458</td>\n",
       "      <td>NaN</td>\n",
       "      <td>C</td>\n",
       "    </tr>\n",
       "    <tr>\n",
       "      <th>127</th>\n",
       "      <td>1019</td>\n",
       "      <td>3</td>\n",
       "      <td>McCoy, Miss. Alicia</td>\n",
       "      <td>female</td>\n",
       "      <td>NaN</td>\n",
       "      <td>2</td>\n",
       "      <td>0</td>\n",
       "      <td>367226</td>\n",
       "      <td>23.2500</td>\n",
       "      <td>NaN</td>\n",
       "      <td>Q</td>\n",
       "    </tr>\n",
       "    <tr>\n",
       "      <th>153</th>\n",
       "      <td>1045</td>\n",
       "      <td>3</td>\n",
       "      <td>Klasen, Mrs. (Hulda Kristina Eugenia Lofqvist)</td>\n",
       "      <td>female</td>\n",
       "      <td>36.00</td>\n",
       "      <td>0</td>\n",
       "      <td>2</td>\n",
       "      <td>350405</td>\n",
       "      <td>12.1833</td>\n",
       "      <td>NaN</td>\n",
       "      <td>S</td>\n",
       "    </tr>\n",
       "    <tr>\n",
       "      <th>161</th>\n",
       "      <td>1053</td>\n",
       "      <td>3</td>\n",
       "      <td>Touma, Master. Georges Youssef</td>\n",
       "      <td>male</td>\n",
       "      <td>7.00</td>\n",
       "      <td>1</td>\n",
       "      <td>1</td>\n",
       "      <td>2650</td>\n",
       "      <td>15.2458</td>\n",
       "      <td>NaN</td>\n",
       "      <td>C</td>\n",
       "    </tr>\n",
       "    <tr>\n",
       "      <th>192</th>\n",
       "      <td>1084</td>\n",
       "      <td>3</td>\n",
       "      <td>van Billiard, Master. Walter John</td>\n",
       "      <td>male</td>\n",
       "      <td>11.50</td>\n",
       "      <td>1</td>\n",
       "      <td>1</td>\n",
       "      <td>A/5. 851</td>\n",
       "      <td>14.5000</td>\n",
       "      <td>NaN</td>\n",
       "      <td>S</td>\n",
       "    </tr>\n",
       "    <tr>\n",
       "      <th>201</th>\n",
       "      <td>1093</td>\n",
       "      <td>3</td>\n",
       "      <td>Danbom, Master. Gilbert Sigvard Emanuel</td>\n",
       "      <td>male</td>\n",
       "      <td>0.33</td>\n",
       "      <td>0</td>\n",
       "      <td>2</td>\n",
       "      <td>347080</td>\n",
       "      <td>14.4000</td>\n",
       "      <td>NaN</td>\n",
       "      <td>S</td>\n",
       "    </tr>\n",
       "    <tr>\n",
       "      <th>281</th>\n",
       "      <td>1173</td>\n",
       "      <td>3</td>\n",
       "      <td>Peacock, Master. Alfred Edward</td>\n",
       "      <td>male</td>\n",
       "      <td>0.75</td>\n",
       "      <td>1</td>\n",
       "      <td>1</td>\n",
       "      <td>SOTON/O.Q. 3101315</td>\n",
       "      <td>13.7750</td>\n",
       "      <td>NaN</td>\n",
       "      <td>S</td>\n",
       "    </tr>\n",
       "    <tr>\n",
       "      <th>307</th>\n",
       "      <td>1199</td>\n",
       "      <td>3</td>\n",
       "      <td>Aks, Master. Philip Frank</td>\n",
       "      <td>male</td>\n",
       "      <td>0.83</td>\n",
       "      <td>0</td>\n",
       "      <td>1</td>\n",
       "      <td>392091</td>\n",
       "      <td>9.3500</td>\n",
       "      <td>NaN</td>\n",
       "      <td>S</td>\n",
       "    </tr>\n",
       "    <tr>\n",
       "      <th>376</th>\n",
       "      <td>1268</td>\n",
       "      <td>3</td>\n",
       "      <td>Kink, Miss. Maria</td>\n",
       "      <td>female</td>\n",
       "      <td>22.00</td>\n",
       "      <td>2</td>\n",
       "      <td>0</td>\n",
       "      <td>315152</td>\n",
       "      <td>8.6625</td>\n",
       "      <td>NaN</td>\n",
       "      <td>S</td>\n",
       "    </tr>\n",
       "    <tr>\n",
       "      <th>392</th>\n",
       "      <td>1284</td>\n",
       "      <td>3</td>\n",
       "      <td>Abbott, Master. Eugene Joseph</td>\n",
       "      <td>male</td>\n",
       "      <td>13.00</td>\n",
       "      <td>0</td>\n",
       "      <td>2</td>\n",
       "      <td>C.A. 2673</td>\n",
       "      <td>20.2500</td>\n",
       "      <td>NaN</td>\n",
       "      <td>S</td>\n",
       "    </tr>\n",
       "  </tbody>\n",
       "</table>\n",
       "</div>"
      ],
      "text/plain": [
       "     PassengerId  Pclass                                               Name  \\\n",
       "21           913       3                          Olsen, Master. Artur Karl   \n",
       "32           924       3           Dean, Mrs. Bertram (Eva Georgetta Light)   \n",
       "33           925       3  Johnston, Mrs. Andrew G (Elizabeth Lily\" Watson)\"   \n",
       "49           941       3     Coutts, Mrs. William (Winnie Minnie\" Treanor)\"   \n",
       "80           972       3                               Boulos, Master. Akar   \n",
       "127         1019       3                                McCoy, Miss. Alicia   \n",
       "153         1045       3     Klasen, Mrs. (Hulda Kristina Eugenia Lofqvist)   \n",
       "161         1053       3                     Touma, Master. Georges Youssef   \n",
       "192         1084       3                  van Billiard, Master. Walter John   \n",
       "201         1093       3            Danbom, Master. Gilbert Sigvard Emanuel   \n",
       "281         1173       3                     Peacock, Master. Alfred Edward   \n",
       "307         1199       3                          Aks, Master. Philip Frank   \n",
       "376         1268       3                                  Kink, Miss. Maria   \n",
       "392         1284       3                      Abbott, Master. Eugene Joseph   \n",
       "\n",
       "        Sex    Age  SibSp  Parch              Ticket     Fare Cabin Embarked  \n",
       "21     male   9.00      0      1             C 17368   3.1708   NaN        S  \n",
       "32   female  33.00      1      2           C.A. 2315  20.5750   NaN        S  \n",
       "33   female    NaN      1      2          W./C. 6607  23.4500   NaN        S  \n",
       "49   female  36.00      0      2          C.A. 37671  15.9000   NaN        S  \n",
       "80     male   6.00      1      1                2678  15.2458   NaN        C  \n",
       "127  female    NaN      2      0              367226  23.2500   NaN        Q  \n",
       "153  female  36.00      0      2              350405  12.1833   NaN        S  \n",
       "161    male   7.00      1      1                2650  15.2458   NaN        C  \n",
       "192    male  11.50      1      1            A/5. 851  14.5000   NaN        S  \n",
       "201    male   0.33      0      2              347080  14.4000   NaN        S  \n",
       "281    male   0.75      1      1  SOTON/O.Q. 3101315  13.7750   NaN        S  \n",
       "307    male   0.83      0      1              392091   9.3500   NaN        S  \n",
       "376  female  22.00      2      0              315152   8.6625   NaN        S  \n",
       "392    male  13.00      0      2           C.A. 2673  20.2500   NaN        S  "
      ]
     },
     "execution_count": 23,
     "metadata": {},
     "output_type": "execute_result"
    }
   ],
   "source": [
    "df_test[df_test['PassengerId'].isin(p_ids)]"
   ]
  },
  {
   "cell_type": "code",
   "execution_count": 24,
   "metadata": {
    "collapsed": true
   },
   "outputs": [],
   "source": [
    "p_ids = []\n",
    "for m in mismatch(gbc, lr):\n",
    "    if m[0][1] == 0:\n",
    "        p_ids.append(m[0][0])"
   ]
  },
  {
   "cell_type": "code",
   "execution_count": 25,
   "metadata": {},
   "outputs": [
    {
     "data": {
      "text/html": [
       "<div>\n",
       "<style>\n",
       "    .dataframe thead tr:only-child th {\n",
       "        text-align: right;\n",
       "    }\n",
       "\n",
       "    .dataframe thead th {\n",
       "        text-align: left;\n",
       "    }\n",
       "\n",
       "    .dataframe tbody tr th {\n",
       "        vertical-align: top;\n",
       "    }\n",
       "</style>\n",
       "<table border=\"1\" class=\"dataframe\">\n",
       "  <thead>\n",
       "    <tr style=\"text-align: right;\">\n",
       "      <th></th>\n",
       "      <th>PassengerId</th>\n",
       "      <th>Pclass</th>\n",
       "      <th>Name</th>\n",
       "      <th>Sex</th>\n",
       "      <th>Age</th>\n",
       "      <th>SibSp</th>\n",
       "      <th>Parch</th>\n",
       "      <th>Ticket</th>\n",
       "      <th>Fare</th>\n",
       "      <th>Cabin</th>\n",
       "      <th>Embarked</th>\n",
       "    </tr>\n",
       "  </thead>\n",
       "  <tbody>\n",
       "    <tr>\n",
       "      <th>19</th>\n",
       "      <td>911</td>\n",
       "      <td>3</td>\n",
       "      <td>Assaf Khalil, Mrs. Mariana (Miriam\")\"</td>\n",
       "      <td>female</td>\n",
       "      <td>45.0</td>\n",
       "      <td>0</td>\n",
       "      <td>0</td>\n",
       "      <td>2696</td>\n",
       "      <td>7.225</td>\n",
       "      <td>NaN</td>\n",
       "      <td>C</td>\n",
       "    </tr>\n",
       "    <tr>\n",
       "      <th>75</th>\n",
       "      <td>967</td>\n",
       "      <td>1</td>\n",
       "      <td>Keeping, Mr. Edwin</td>\n",
       "      <td>male</td>\n",
       "      <td>32.5</td>\n",
       "      <td>0</td>\n",
       "      <td>0</td>\n",
       "      <td>113503</td>\n",
       "      <td>211.500</td>\n",
       "      <td>C132</td>\n",
       "      <td>C</td>\n",
       "    </tr>\n",
       "    <tr>\n",
       "      <th>390</th>\n",
       "      <td>1282</td>\n",
       "      <td>1</td>\n",
       "      <td>Payne, Mr. Vivian Ponsonby</td>\n",
       "      <td>male</td>\n",
       "      <td>23.0</td>\n",
       "      <td>0</td>\n",
       "      <td>0</td>\n",
       "      <td>12749</td>\n",
       "      <td>93.500</td>\n",
       "      <td>B24</td>\n",
       "      <td>S</td>\n",
       "    </tr>\n",
       "    <tr>\n",
       "      <th>403</th>\n",
       "      <td>1295</td>\n",
       "      <td>1</td>\n",
       "      <td>Carrau, Mr. Jose Pedro</td>\n",
       "      <td>male</td>\n",
       "      <td>17.0</td>\n",
       "      <td>0</td>\n",
       "      <td>0</td>\n",
       "      <td>113059</td>\n",
       "      <td>47.100</td>\n",
       "      <td>NaN</td>\n",
       "      <td>S</td>\n",
       "    </tr>\n",
       "  </tbody>\n",
       "</table>\n",
       "</div>"
      ],
      "text/plain": [
       "     PassengerId  Pclass                                   Name     Sex   Age  \\\n",
       "19           911       3  Assaf Khalil, Mrs. Mariana (Miriam\")\"  female  45.0   \n",
       "75           967       1                     Keeping, Mr. Edwin    male  32.5   \n",
       "390         1282       1             Payne, Mr. Vivian Ponsonby    male  23.0   \n",
       "403         1295       1                 Carrau, Mr. Jose Pedro    male  17.0   \n",
       "\n",
       "     SibSp  Parch  Ticket     Fare Cabin Embarked  \n",
       "19       0      0    2696    7.225   NaN        C  \n",
       "75       0      0  113503  211.500  C132        C  \n",
       "390      0      0   12749   93.500   B24        S  \n",
       "403      0      0  113059   47.100   NaN        S  "
      ]
     },
     "execution_count": 25,
     "metadata": {},
     "output_type": "execute_result"
    }
   ],
   "source": [
    "df_test[df_test['PassengerId'].isin(p_ids)]"
   ]
  },
  {
   "cell_type": "markdown",
   "metadata": {},
   "source": [
    "Как видно, Gradient Boosting и в данном случае больше учитывает влияние класса и возраста, а логичтическая регрессия, возможно, также принимает в рассчет признак Fare, который Gradient Boosting не учитывает как слишком искажающий результат."
   ]
  }
 ],
 "metadata": {
  "kernelspec": {
   "display_name": "Python 3",
   "language": "python",
   "name": "python3"
  },
  "language_info": {
   "codemirror_mode": {
    "name": "ipython",
    "version": 3
   },
   "file_extension": ".py",
   "mimetype": "text/x-python",
   "name": "python",
   "nbconvert_exporter": "python",
   "pygments_lexer": "ipython3",
   "version": "3.6.1"
  }
 },
 "nbformat": 4,
 "nbformat_minor": 2
}
