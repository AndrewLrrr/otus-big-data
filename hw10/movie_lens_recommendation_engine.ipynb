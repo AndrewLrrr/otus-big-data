{
 "cells": [
  {
   "cell_type": "code",
   "execution_count": null,
   "metadata": {
    "collapsed": true
   },
   "outputs": [],
   "source": [
    "import numpy as np\n",
    "import pandas as pd\n",
    "import matplotlib.pyplot as plt\n",
    "\n",
    "%matplotlib inline"
   ]
  },
  {
   "cell_type": "markdown",
   "metadata": {},
   "source": [
    "## EDA"
   ]
  },
  {
   "cell_type": "markdown",
   "metadata": {},
   "source": [
    "### 1. Оценить количество фильмов, пользователей и оценок:"
   ]
  },
  {
   "cell_type": "code",
   "execution_count": 2,
   "metadata": {},
   "outputs": [
    {
     "name": "stderr",
     "output_type": "stream",
     "text": [
      "/Users/andrewlarin/anaconda2/lib/python2.7/site-packages/ipykernel_launcher.py:1: ParserWarning: Falling back to the 'python' engine because the 'c' engine does not support regex separators (separators > 1 char and different from '\\s+' are interpreted as regex); you can avoid this warning by specifying engine='python'.\n",
      "  \"\"\"Entry point for launching an IPython kernel.\n"
     ]
    }
   ],
   "source": [
    "users = pd.read_csv('ml-1m/users.dat', sep='::', names=['user', 'gender', 'age', 'occupation', 'zip'])"
   ]
  },
  {
   "cell_type": "code",
   "execution_count": 3,
   "metadata": {},
   "outputs": [
    {
     "name": "stdout",
     "output_type": "stream",
     "text": [
      "<class 'pandas.core.frame.DataFrame'>\n",
      "RangeIndex: 6040 entries, 0 to 6039\n",
      "Data columns (total 5 columns):\n",
      "user          6040 non-null int64\n",
      "gender        6040 non-null object\n",
      "age           6040 non-null int64\n",
      "occupation    6040 non-null int64\n",
      "zip           6040 non-null object\n",
      "dtypes: int64(3), object(2)\n",
      "memory usage: 236.0+ KB\n"
     ]
    }
   ],
   "source": [
    "users.info()"
   ]
  },
  {
   "cell_type": "code",
   "execution_count": 4,
   "metadata": {
    "scrolled": true
   },
   "outputs": [
    {
     "data": {
      "text/html": [
       "<div>\n",
       "<style>\n",
       "    .dataframe thead tr:only-child th {\n",
       "        text-align: right;\n",
       "    }\n",
       "\n",
       "    .dataframe thead th {\n",
       "        text-align: left;\n",
       "    }\n",
       "\n",
       "    .dataframe tbody tr th {\n",
       "        vertical-align: top;\n",
       "    }\n",
       "</style>\n",
       "<table border=\"1\" class=\"dataframe\">\n",
       "  <thead>\n",
       "    <tr style=\"text-align: right;\">\n",
       "      <th></th>\n",
       "      <th>user</th>\n",
       "      <th>gender</th>\n",
       "      <th>age</th>\n",
       "      <th>occupation</th>\n",
       "      <th>zip</th>\n",
       "    </tr>\n",
       "  </thead>\n",
       "  <tbody>\n",
       "    <tr>\n",
       "      <th>0</th>\n",
       "      <td>1</td>\n",
       "      <td>F</td>\n",
       "      <td>1</td>\n",
       "      <td>10</td>\n",
       "      <td>48067</td>\n",
       "    </tr>\n",
       "    <tr>\n",
       "      <th>1</th>\n",
       "      <td>2</td>\n",
       "      <td>M</td>\n",
       "      <td>56</td>\n",
       "      <td>16</td>\n",
       "      <td>70072</td>\n",
       "    </tr>\n",
       "    <tr>\n",
       "      <th>2</th>\n",
       "      <td>3</td>\n",
       "      <td>M</td>\n",
       "      <td>25</td>\n",
       "      <td>15</td>\n",
       "      <td>55117</td>\n",
       "    </tr>\n",
       "    <tr>\n",
       "      <th>3</th>\n",
       "      <td>4</td>\n",
       "      <td>M</td>\n",
       "      <td>45</td>\n",
       "      <td>7</td>\n",
       "      <td>02460</td>\n",
       "    </tr>\n",
       "    <tr>\n",
       "      <th>4</th>\n",
       "      <td>5</td>\n",
       "      <td>M</td>\n",
       "      <td>25</td>\n",
       "      <td>20</td>\n",
       "      <td>55455</td>\n",
       "    </tr>\n",
       "  </tbody>\n",
       "</table>\n",
       "</div>"
      ],
      "text/plain": [
       "   user gender  age  occupation    zip\n",
       "0     1      F    1          10  48067\n",
       "1     2      M   56          16  70072\n",
       "2     3      M   25          15  55117\n",
       "3     4      M   45           7  02460\n",
       "4     5      M   25          20  55455"
      ]
     },
     "execution_count": 4,
     "metadata": {},
     "output_type": "execute_result"
    }
   ],
   "source": [
    "users.head(5)"
   ]
  },
  {
   "cell_type": "code",
   "execution_count": 5,
   "metadata": {
    "scrolled": false
   },
   "outputs": [
    {
     "name": "stderr",
     "output_type": "stream",
     "text": [
      "/Users/andrewlarin/anaconda2/lib/python2.7/site-packages/ipykernel_launcher.py:1: ParserWarning: Falling back to the 'python' engine because the 'c' engine does not support regex separators (separators > 1 char and different from '\\s+' are interpreted as regex); you can avoid this warning by specifying engine='python'.\n",
      "  \"\"\"Entry point for launching an IPython kernel.\n"
     ]
    }
   ],
   "source": [
    "ratings = pd.read_csv('ml-1m/ratings.dat', sep='::', names=['user', 'movie', 'rating', 'time'])"
   ]
  },
  {
   "cell_type": "code",
   "execution_count": 6,
   "metadata": {},
   "outputs": [
    {
     "name": "stdout",
     "output_type": "stream",
     "text": [
      "<class 'pandas.core.frame.DataFrame'>\n",
      "RangeIndex: 1000209 entries, 0 to 1000208\n",
      "Data columns (total 4 columns):\n",
      "user      1000209 non-null int64\n",
      "movie     1000209 non-null int64\n",
      "rating    1000209 non-null int64\n",
      "time      1000209 non-null int64\n",
      "dtypes: int64(4)\n",
      "memory usage: 30.5 MB\n"
     ]
    }
   ],
   "source": [
    "ratings.info()"
   ]
  },
  {
   "cell_type": "code",
   "execution_count": 7,
   "metadata": {
    "scrolled": true
   },
   "outputs": [
    {
     "data": {
      "text/html": [
       "<div>\n",
       "<style>\n",
       "    .dataframe thead tr:only-child th {\n",
       "        text-align: right;\n",
       "    }\n",
       "\n",
       "    .dataframe thead th {\n",
       "        text-align: left;\n",
       "    }\n",
       "\n",
       "    .dataframe tbody tr th {\n",
       "        vertical-align: top;\n",
       "    }\n",
       "</style>\n",
       "<table border=\"1\" class=\"dataframe\">\n",
       "  <thead>\n",
       "    <tr style=\"text-align: right;\">\n",
       "      <th></th>\n",
       "      <th>user</th>\n",
       "      <th>movie</th>\n",
       "      <th>rating</th>\n",
       "      <th>time</th>\n",
       "    </tr>\n",
       "  </thead>\n",
       "  <tbody>\n",
       "    <tr>\n",
       "      <th>0</th>\n",
       "      <td>1</td>\n",
       "      <td>1193</td>\n",
       "      <td>5</td>\n",
       "      <td>978300760</td>\n",
       "    </tr>\n",
       "    <tr>\n",
       "      <th>1</th>\n",
       "      <td>1</td>\n",
       "      <td>661</td>\n",
       "      <td>3</td>\n",
       "      <td>978302109</td>\n",
       "    </tr>\n",
       "    <tr>\n",
       "      <th>2</th>\n",
       "      <td>1</td>\n",
       "      <td>914</td>\n",
       "      <td>3</td>\n",
       "      <td>978301968</td>\n",
       "    </tr>\n",
       "    <tr>\n",
       "      <th>3</th>\n",
       "      <td>1</td>\n",
       "      <td>3408</td>\n",
       "      <td>4</td>\n",
       "      <td>978300275</td>\n",
       "    </tr>\n",
       "    <tr>\n",
       "      <th>4</th>\n",
       "      <td>1</td>\n",
       "      <td>2355</td>\n",
       "      <td>5</td>\n",
       "      <td>978824291</td>\n",
       "    </tr>\n",
       "  </tbody>\n",
       "</table>\n",
       "</div>"
      ],
      "text/plain": [
       "   user  movie  rating       time\n",
       "0     1   1193       5  978300760\n",
       "1     1    661       3  978302109\n",
       "2     1    914       3  978301968\n",
       "3     1   3408       4  978300275\n",
       "4     1   2355       5  978824291"
      ]
     },
     "execution_count": 7,
     "metadata": {},
     "output_type": "execute_result"
    }
   ],
   "source": [
    "ratings.head(5)"
   ]
  },
  {
   "cell_type": "code",
   "execution_count": 8,
   "metadata": {
    "scrolled": true
   },
   "outputs": [
    {
     "name": "stderr",
     "output_type": "stream",
     "text": [
      "/Users/andrewlarin/anaconda2/lib/python2.7/site-packages/ipykernel_launcher.py:1: ParserWarning: Falling back to the 'python' engine because the 'c' engine does not support regex separators (separators > 1 char and different from '\\s+' are interpreted as regex); you can avoid this warning by specifying engine='python'.\n",
      "  \"\"\"Entry point for launching an IPython kernel.\n"
     ]
    }
   ],
   "source": [
    "movies = pd.read_csv('ml-1m/movies.dat', sep='::', names=['movie', 'title', 'genre'])"
   ]
  },
  {
   "cell_type": "code",
   "execution_count": 9,
   "metadata": {},
   "outputs": [
    {
     "name": "stdout",
     "output_type": "stream",
     "text": [
      "<class 'pandas.core.frame.DataFrame'>\n",
      "RangeIndex: 3883 entries, 0 to 3882\n",
      "Data columns (total 3 columns):\n",
      "movie    3883 non-null int64\n",
      "title    3883 non-null object\n",
      "genre    3883 non-null object\n",
      "dtypes: int64(1), object(2)\n",
      "memory usage: 91.1+ KB\n"
     ]
    }
   ],
   "source": [
    "movies.info()"
   ]
  },
  {
   "cell_type": "code",
   "execution_count": 10,
   "metadata": {},
   "outputs": [
    {
     "data": {
      "text/html": [
       "<div>\n",
       "<style>\n",
       "    .dataframe thead tr:only-child th {\n",
       "        text-align: right;\n",
       "    }\n",
       "\n",
       "    .dataframe thead th {\n",
       "        text-align: left;\n",
       "    }\n",
       "\n",
       "    .dataframe tbody tr th {\n",
       "        vertical-align: top;\n",
       "    }\n",
       "</style>\n",
       "<table border=\"1\" class=\"dataframe\">\n",
       "  <thead>\n",
       "    <tr style=\"text-align: right;\">\n",
       "      <th></th>\n",
       "      <th>movie</th>\n",
       "      <th>title</th>\n",
       "      <th>genre</th>\n",
       "    </tr>\n",
       "  </thead>\n",
       "  <tbody>\n",
       "    <tr>\n",
       "      <th>0</th>\n",
       "      <td>1</td>\n",
       "      <td>Toy Story (1995)</td>\n",
       "      <td>Animation|Children's|Comedy</td>\n",
       "    </tr>\n",
       "    <tr>\n",
       "      <th>1</th>\n",
       "      <td>2</td>\n",
       "      <td>Jumanji (1995)</td>\n",
       "      <td>Adventure|Children's|Fantasy</td>\n",
       "    </tr>\n",
       "    <tr>\n",
       "      <th>2</th>\n",
       "      <td>3</td>\n",
       "      <td>Grumpier Old Men (1995)</td>\n",
       "      <td>Comedy|Romance</td>\n",
       "    </tr>\n",
       "    <tr>\n",
       "      <th>3</th>\n",
       "      <td>4</td>\n",
       "      <td>Waiting to Exhale (1995)</td>\n",
       "      <td>Comedy|Drama</td>\n",
       "    </tr>\n",
       "    <tr>\n",
       "      <th>4</th>\n",
       "      <td>5</td>\n",
       "      <td>Father of the Bride Part II (1995)</td>\n",
       "      <td>Comedy</td>\n",
       "    </tr>\n",
       "  </tbody>\n",
       "</table>\n",
       "</div>"
      ],
      "text/plain": [
       "   movie                               title                         genre\n",
       "0      1                    Toy Story (1995)   Animation|Children's|Comedy\n",
       "1      2                      Jumanji (1995)  Adventure|Children's|Fantasy\n",
       "2      3             Grumpier Old Men (1995)                Comedy|Romance\n",
       "3      4            Waiting to Exhale (1995)                  Comedy|Drama\n",
       "4      5  Father of the Bride Part II (1995)                        Comedy"
      ]
     },
     "execution_count": 10,
     "metadata": {},
     "output_type": "execute_result"
    }
   ],
   "source": [
    "movies.head(5)"
   ]
  },
  {
   "cell_type": "markdown",
   "metadata": {},
   "source": [
    "#### Как видно, жанры представленны в виде строки, что не очень удобно для поиска. Преобразуем это свойство в другой тип данных - множество:"
   ]
  },
  {
   "cell_type": "code",
   "execution_count": 11,
   "metadata": {
    "collapsed": true
   },
   "outputs": [],
   "source": [
    "movies['genre'] = movies['genre'].map(lambda x: set([x.strip() for x in x.split('|')]))"
   ]
  },
  {
   "cell_type": "code",
   "execution_count": 12,
   "metadata": {},
   "outputs": [
    {
     "data": {
      "text/html": [
       "<div>\n",
       "<style>\n",
       "    .dataframe thead tr:only-child th {\n",
       "        text-align: right;\n",
       "    }\n",
       "\n",
       "    .dataframe thead th {\n",
       "        text-align: left;\n",
       "    }\n",
       "\n",
       "    .dataframe tbody tr th {\n",
       "        vertical-align: top;\n",
       "    }\n",
       "</style>\n",
       "<table border=\"1\" class=\"dataframe\">\n",
       "  <thead>\n",
       "    <tr style=\"text-align: right;\">\n",
       "      <th></th>\n",
       "      <th>movie</th>\n",
       "      <th>title</th>\n",
       "      <th>genre</th>\n",
       "    </tr>\n",
       "  </thead>\n",
       "  <tbody>\n",
       "    <tr>\n",
       "      <th>0</th>\n",
       "      <td>1</td>\n",
       "      <td>Toy Story (1995)</td>\n",
       "      <td>{Comedy, Children's, Animation}</td>\n",
       "    </tr>\n",
       "    <tr>\n",
       "      <th>1</th>\n",
       "      <td>2</td>\n",
       "      <td>Jumanji (1995)</td>\n",
       "      <td>{Children's, Adventure, Fantasy}</td>\n",
       "    </tr>\n",
       "    <tr>\n",
       "      <th>2</th>\n",
       "      <td>3</td>\n",
       "      <td>Grumpier Old Men (1995)</td>\n",
       "      <td>{Romance, Comedy}</td>\n",
       "    </tr>\n",
       "    <tr>\n",
       "      <th>3</th>\n",
       "      <td>4</td>\n",
       "      <td>Waiting to Exhale (1995)</td>\n",
       "      <td>{Drama, Comedy}</td>\n",
       "    </tr>\n",
       "    <tr>\n",
       "      <th>4</th>\n",
       "      <td>5</td>\n",
       "      <td>Father of the Bride Part II (1995)</td>\n",
       "      <td>{Comedy}</td>\n",
       "    </tr>\n",
       "  </tbody>\n",
       "</table>\n",
       "</div>"
      ],
      "text/plain": [
       "   movie                               title                             genre\n",
       "0      1                    Toy Story (1995)   {Comedy, Children's, Animation}\n",
       "1      2                      Jumanji (1995)  {Children's, Adventure, Fantasy}\n",
       "2      3             Grumpier Old Men (1995)                 {Romance, Comedy}\n",
       "3      4            Waiting to Exhale (1995)                   {Drama, Comedy}\n",
       "4      5  Father of the Bride Part II (1995)                          {Comedy}"
      ]
     },
     "execution_count": 12,
     "metadata": {},
     "output_type": "execute_result"
    }
   ],
   "source": [
    "movies.head(5)"
   ]
  },
  {
   "cell_type": "markdown",
   "metadata": {},
   "source": [
    "### 2. Оценить распределения (предлагается построить распределения количества оценок по фильмам и пользователям и увидеть т.н. \"длинные хвосты\" в распределениях):"
   ]
  },
  {
   "cell_type": "markdown",
   "metadata": {},
   "source": [
    "#### Когда примерно стало понятно с какими данными предстоит работать, соединим их в один датасет, чтобы можно было провести более подробное исследование:"
   ]
  },
  {
   "cell_type": "code",
   "execution_count": 13,
   "metadata": {
    "collapsed": true
   },
   "outputs": [],
   "source": [
    "movie_lens = pd.merge(pd.merge(ratings, users), movies)"
   ]
  },
  {
   "cell_type": "code",
   "execution_count": 14,
   "metadata": {},
   "outputs": [
    {
     "name": "stdout",
     "output_type": "stream",
     "text": [
      "<class 'pandas.core.frame.DataFrame'>\n",
      "Int64Index: 1000209 entries, 0 to 1000208\n",
      "Data columns (total 10 columns):\n",
      "user          1000209 non-null int64\n",
      "movie         1000209 non-null int64\n",
      "rating        1000209 non-null int64\n",
      "time          1000209 non-null int64\n",
      "gender        1000209 non-null object\n",
      "age           1000209 non-null int64\n",
      "occupation    1000209 non-null int64\n",
      "zip           1000209 non-null object\n",
      "title         1000209 non-null object\n",
      "genre         1000209 non-null object\n",
      "dtypes: int64(6), object(4)\n",
      "memory usage: 83.9+ MB\n"
     ]
    }
   ],
   "source": [
    "movie_lens.info()"
   ]
  },
  {
   "cell_type": "code",
   "execution_count": 15,
   "metadata": {},
   "outputs": [
    {
     "data": {
      "text/html": [
       "<div>\n",
       "<style>\n",
       "    .dataframe thead tr:only-child th {\n",
       "        text-align: right;\n",
       "    }\n",
       "\n",
       "    .dataframe thead th {\n",
       "        text-align: left;\n",
       "    }\n",
       "\n",
       "    .dataframe tbody tr th {\n",
       "        vertical-align: top;\n",
       "    }\n",
       "</style>\n",
       "<table border=\"1\" class=\"dataframe\">\n",
       "  <thead>\n",
       "    <tr style=\"text-align: right;\">\n",
       "      <th></th>\n",
       "      <th>user</th>\n",
       "      <th>movie</th>\n",
       "      <th>rating</th>\n",
       "      <th>time</th>\n",
       "      <th>gender</th>\n",
       "      <th>age</th>\n",
       "      <th>occupation</th>\n",
       "      <th>zip</th>\n",
       "      <th>title</th>\n",
       "      <th>genre</th>\n",
       "    </tr>\n",
       "  </thead>\n",
       "  <tbody>\n",
       "    <tr>\n",
       "      <th>0</th>\n",
       "      <td>1</td>\n",
       "      <td>1193</td>\n",
       "      <td>5</td>\n",
       "      <td>978300760</td>\n",
       "      <td>F</td>\n",
       "      <td>1</td>\n",
       "      <td>10</td>\n",
       "      <td>48067</td>\n",
       "      <td>One Flew Over the Cuckoo's Nest (1975)</td>\n",
       "      <td>{Drama}</td>\n",
       "    </tr>\n",
       "    <tr>\n",
       "      <th>1</th>\n",
       "      <td>2</td>\n",
       "      <td>1193</td>\n",
       "      <td>5</td>\n",
       "      <td>978298413</td>\n",
       "      <td>M</td>\n",
       "      <td>56</td>\n",
       "      <td>16</td>\n",
       "      <td>70072</td>\n",
       "      <td>One Flew Over the Cuckoo's Nest (1975)</td>\n",
       "      <td>{Drama}</td>\n",
       "    </tr>\n",
       "    <tr>\n",
       "      <th>2</th>\n",
       "      <td>12</td>\n",
       "      <td>1193</td>\n",
       "      <td>4</td>\n",
       "      <td>978220179</td>\n",
       "      <td>M</td>\n",
       "      <td>25</td>\n",
       "      <td>12</td>\n",
       "      <td>32793</td>\n",
       "      <td>One Flew Over the Cuckoo's Nest (1975)</td>\n",
       "      <td>{Drama}</td>\n",
       "    </tr>\n",
       "    <tr>\n",
       "      <th>3</th>\n",
       "      <td>15</td>\n",
       "      <td>1193</td>\n",
       "      <td>4</td>\n",
       "      <td>978199279</td>\n",
       "      <td>M</td>\n",
       "      <td>25</td>\n",
       "      <td>7</td>\n",
       "      <td>22903</td>\n",
       "      <td>One Flew Over the Cuckoo's Nest (1975)</td>\n",
       "      <td>{Drama}</td>\n",
       "    </tr>\n",
       "    <tr>\n",
       "      <th>4</th>\n",
       "      <td>17</td>\n",
       "      <td>1193</td>\n",
       "      <td>5</td>\n",
       "      <td>978158471</td>\n",
       "      <td>M</td>\n",
       "      <td>50</td>\n",
       "      <td>1</td>\n",
       "      <td>95350</td>\n",
       "      <td>One Flew Over the Cuckoo's Nest (1975)</td>\n",
       "      <td>{Drama}</td>\n",
       "    </tr>\n",
       "  </tbody>\n",
       "</table>\n",
       "</div>"
      ],
      "text/plain": [
       "   user  movie  rating       time gender  age  occupation    zip  \\\n",
       "0     1   1193       5  978300760      F    1          10  48067   \n",
       "1     2   1193       5  978298413      M   56          16  70072   \n",
       "2    12   1193       4  978220179      M   25          12  32793   \n",
       "3    15   1193       4  978199279      M   25           7  22903   \n",
       "4    17   1193       5  978158471      M   50           1  95350   \n",
       "\n",
       "                                    title    genre  \n",
       "0  One Flew Over the Cuckoo's Nest (1975)  {Drama}  \n",
       "1  One Flew Over the Cuckoo's Nest (1975)  {Drama}  \n",
       "2  One Flew Over the Cuckoo's Nest (1975)  {Drama}  \n",
       "3  One Flew Over the Cuckoo's Nest (1975)  {Drama}  \n",
       "4  One Flew Over the Cuckoo's Nest (1975)  {Drama}  "
      ]
     },
     "execution_count": 15,
     "metadata": {},
     "output_type": "execute_result"
    }
   ],
   "source": [
    "movie_lens.head(5)"
   ]
  },
  {
   "cell_type": "code",
   "execution_count": 16,
   "metadata": {},
   "outputs": [
    {
     "data": {
      "text/html": [
       "<div>\n",
       "<style>\n",
       "    .dataframe thead tr:only-child th {\n",
       "        text-align: right;\n",
       "    }\n",
       "\n",
       "    .dataframe thead th {\n",
       "        text-align: left;\n",
       "    }\n",
       "\n",
       "    .dataframe tbody tr th {\n",
       "        vertical-align: top;\n",
       "    }\n",
       "</style>\n",
       "<table border=\"1\" class=\"dataframe\">\n",
       "  <thead>\n",
       "    <tr style=\"text-align: right;\">\n",
       "      <th></th>\n",
       "      <th>movie</th>\n",
       "      <th>title</th>\n",
       "      <th>count</th>\n",
       "    </tr>\n",
       "  </thead>\n",
       "  <tbody>\n",
       "    <tr>\n",
       "      <th>0</th>\n",
       "      <td>1</td>\n",
       "      <td>Toy Story (1995)</td>\n",
       "      <td>2077</td>\n",
       "    </tr>\n",
       "    <tr>\n",
       "      <th>1</th>\n",
       "      <td>2</td>\n",
       "      <td>Jumanji (1995)</td>\n",
       "      <td>701</td>\n",
       "    </tr>\n",
       "    <tr>\n",
       "      <th>2</th>\n",
       "      <td>3</td>\n",
       "      <td>Grumpier Old Men (1995)</td>\n",
       "      <td>478</td>\n",
       "    </tr>\n",
       "    <tr>\n",
       "      <th>3</th>\n",
       "      <td>4</td>\n",
       "      <td>Waiting to Exhale (1995)</td>\n",
       "      <td>170</td>\n",
       "    </tr>\n",
       "    <tr>\n",
       "      <th>4</th>\n",
       "      <td>5</td>\n",
       "      <td>Father of the Bride Part II (1995)</td>\n",
       "      <td>296</td>\n",
       "    </tr>\n",
       "    <tr>\n",
       "      <th>5</th>\n",
       "      <td>6</td>\n",
       "      <td>Heat (1995)</td>\n",
       "      <td>940</td>\n",
       "    </tr>\n",
       "    <tr>\n",
       "      <th>6</th>\n",
       "      <td>7</td>\n",
       "      <td>Sabrina (1995)</td>\n",
       "      <td>458</td>\n",
       "    </tr>\n",
       "    <tr>\n",
       "      <th>7</th>\n",
       "      <td>8</td>\n",
       "      <td>Tom and Huck (1995)</td>\n",
       "      <td>68</td>\n",
       "    </tr>\n",
       "    <tr>\n",
       "      <th>8</th>\n",
       "      <td>9</td>\n",
       "      <td>Sudden Death (1995)</td>\n",
       "      <td>102</td>\n",
       "    </tr>\n",
       "    <tr>\n",
       "      <th>9</th>\n",
       "      <td>10</td>\n",
       "      <td>GoldenEye (1995)</td>\n",
       "      <td>888</td>\n",
       "    </tr>\n",
       "  </tbody>\n",
       "</table>\n",
       "</div>"
      ],
      "text/plain": [
       "   movie                               title  count\n",
       "0      1                    Toy Story (1995)   2077\n",
       "1      2                      Jumanji (1995)    701\n",
       "2      3             Grumpier Old Men (1995)    478\n",
       "3      4            Waiting to Exhale (1995)    170\n",
       "4      5  Father of the Bride Part II (1995)    296\n",
       "5      6                         Heat (1995)    940\n",
       "6      7                      Sabrina (1995)    458\n",
       "7      8                 Tom and Huck (1995)     68\n",
       "8      9                 Sudden Death (1995)    102\n",
       "9     10                    GoldenEye (1995)    888"
      ]
     },
     "execution_count": 16,
     "metadata": {},
     "output_type": "execute_result"
    }
   ],
   "source": [
    "ratings_total = movie_lens.groupby(['movie', 'title'])['movie'] \\\n",
    "    .agg(['count']) \\\n",
    "    .reset_index()\n",
    "ratings_total.head(10)"
   ]
  },
  {
   "cell_type": "markdown",
   "metadata": {},
   "source": [
    "#### Посмотрим распределение:"
   ]
  },
  {
   "cell_type": "code",
   "execution_count": 17,
   "metadata": {
    "collapsed": true
   },
   "outputs": [],
   "source": [
    "ratings_total['rounded_count'] = ratings_total['count'].map(lambda x: (x // 100) * 100)"
   ]
  },
  {
   "cell_type": "code",
   "execution_count": 18,
   "metadata": {},
   "outputs": [
    {
     "data": {
      "text/html": [
       "<div>\n",
       "<style>\n",
       "    .dataframe thead tr:only-child th {\n",
       "        text-align: right;\n",
       "    }\n",
       "\n",
       "    .dataframe thead th {\n",
       "        text-align: left;\n",
       "    }\n",
       "\n",
       "    .dataframe tbody tr th {\n",
       "        vertical-align: top;\n",
       "    }\n",
       "</style>\n",
       "<table border=\"1\" class=\"dataframe\">\n",
       "  <thead>\n",
       "    <tr style=\"text-align: right;\">\n",
       "      <th></th>\n",
       "      <th>movie</th>\n",
       "      <th>title</th>\n",
       "      <th>count</th>\n",
       "      <th>rounded_count</th>\n",
       "    </tr>\n",
       "  </thead>\n",
       "  <tbody>\n",
       "    <tr>\n",
       "      <th>0</th>\n",
       "      <td>1</td>\n",
       "      <td>Toy Story (1995)</td>\n",
       "      <td>2077</td>\n",
       "      <td>2000</td>\n",
       "    </tr>\n",
       "    <tr>\n",
       "      <th>1</th>\n",
       "      <td>2</td>\n",
       "      <td>Jumanji (1995)</td>\n",
       "      <td>701</td>\n",
       "      <td>700</td>\n",
       "    </tr>\n",
       "    <tr>\n",
       "      <th>2</th>\n",
       "      <td>3</td>\n",
       "      <td>Grumpier Old Men (1995)</td>\n",
       "      <td>478</td>\n",
       "      <td>400</td>\n",
       "    </tr>\n",
       "    <tr>\n",
       "      <th>3</th>\n",
       "      <td>4</td>\n",
       "      <td>Waiting to Exhale (1995)</td>\n",
       "      <td>170</td>\n",
       "      <td>100</td>\n",
       "    </tr>\n",
       "    <tr>\n",
       "      <th>4</th>\n",
       "      <td>5</td>\n",
       "      <td>Father of the Bride Part II (1995)</td>\n",
       "      <td>296</td>\n",
       "      <td>200</td>\n",
       "    </tr>\n",
       "    <tr>\n",
       "      <th>5</th>\n",
       "      <td>6</td>\n",
       "      <td>Heat (1995)</td>\n",
       "      <td>940</td>\n",
       "      <td>900</td>\n",
       "    </tr>\n",
       "    <tr>\n",
       "      <th>6</th>\n",
       "      <td>7</td>\n",
       "      <td>Sabrina (1995)</td>\n",
       "      <td>458</td>\n",
       "      <td>400</td>\n",
       "    </tr>\n",
       "    <tr>\n",
       "      <th>7</th>\n",
       "      <td>8</td>\n",
       "      <td>Tom and Huck (1995)</td>\n",
       "      <td>68</td>\n",
       "      <td>0</td>\n",
       "    </tr>\n",
       "    <tr>\n",
       "      <th>8</th>\n",
       "      <td>9</td>\n",
       "      <td>Sudden Death (1995)</td>\n",
       "      <td>102</td>\n",
       "      <td>100</td>\n",
       "    </tr>\n",
       "    <tr>\n",
       "      <th>9</th>\n",
       "      <td>10</td>\n",
       "      <td>GoldenEye (1995)</td>\n",
       "      <td>888</td>\n",
       "      <td>800</td>\n",
       "    </tr>\n",
       "  </tbody>\n",
       "</table>\n",
       "</div>"
      ],
      "text/plain": [
       "   movie                               title  count  rounded_count\n",
       "0      1                    Toy Story (1995)   2077           2000\n",
       "1      2                      Jumanji (1995)    701            700\n",
       "2      3             Grumpier Old Men (1995)    478            400\n",
       "3      4            Waiting to Exhale (1995)    170            100\n",
       "4      5  Father of the Bride Part II (1995)    296            200\n",
       "5      6                         Heat (1995)    940            900\n",
       "6      7                      Sabrina (1995)    458            400\n",
       "7      8                 Tom and Huck (1995)     68              0\n",
       "8      9                 Sudden Death (1995)    102            100\n",
       "9     10                    GoldenEye (1995)    888            800"
      ]
     },
     "execution_count": 18,
     "metadata": {},
     "output_type": "execute_result"
    }
   ],
   "source": [
    "ratings_total.head(10)"
   ]
  },
  {
   "cell_type": "code",
   "execution_count": 19,
   "metadata": {},
   "outputs": [
    {
     "data": {
      "text/plain": [
       "0       0.455208\n",
       "100     0.160011\n",
       "200     0.099298\n",
       "300     0.070426\n",
       "400     0.048300\n",
       "500     0.032110\n",
       "600     0.027253\n",
       "700     0.022126\n",
       "800     0.016190\n",
       "900     0.013222\n",
       "1000    0.011333\n",
       "1100    0.009174\n",
       "1300    0.007016\n",
       "1200    0.005666\n",
       "1400    0.004587\n",
       "1700    0.003238\n",
       "1500    0.002698\n",
       "1600    0.002428\n",
       "2200    0.001889\n",
       "2500    0.001619\n",
       "1900    0.000809\n",
       "2000    0.000809\n",
       "2100    0.000809\n",
       "2300    0.000809\n",
       "2600    0.000809\n",
       "2900    0.000540\n",
       "1800    0.000540\n",
       "2400    0.000540\n",
       "2800    0.000270\n",
       "3400    0.000270\n",
       "Name: rounded_count, dtype: float64"
      ]
     },
     "execution_count": 19,
     "metadata": {},
     "output_type": "execute_result"
    }
   ],
   "source": [
    "ratings_total['rounded_count'].value_counts(normalize=True)"
   ]
  },
  {
   "cell_type": "markdown",
   "metadata": {},
   "source": [
    "Как видно, почти половина фильмов имеет меньше 100 голосов зрителей. 16% - от 100 до 200 голосов, в остальном, распределение очень неравномерно."
   ]
  },
  {
   "cell_type": "markdown",
   "metadata": {},
   "source": [
    "### 3. Посмотреть на смещение оценок, увидеть сколько пользователей занижают оценки и завышают оценки (посмотреть разницу со средним значением, например):"
   ]
  },
  {
   "cell_type": "code",
   "execution_count": 20,
   "metadata": {},
   "outputs": [
    {
     "data": {
      "text/plain": [
       "3.581564453029317"
      ]
     },
     "execution_count": 20,
     "metadata": {},
     "output_type": "execute_result"
    }
   ],
   "source": [
    "vote_average = movie_lens['rating'].mean()\n",
    "vote_average"
   ]
  },
  {
   "cell_type": "code",
   "execution_count": 21,
   "metadata": {
    "collapsed": true
   },
   "outputs": [],
   "source": [
    "def compare_mean_rating(x):\n",
    "    diff = x - vote_average\n",
    "    if diff > 0.5:\n",
    "        return 1\n",
    "    elif diff < -0.5:\n",
    "        return -1\n",
    "    else:\n",
    "        return 0"
   ]
  },
  {
   "cell_type": "code",
   "execution_count": 22,
   "metadata": {},
   "outputs": [
    {
     "data": {
      "text/html": [
       "<div>\n",
       "<style>\n",
       "    .dataframe thead tr:only-child th {\n",
       "        text-align: right;\n",
       "    }\n",
       "\n",
       "    .dataframe thead th {\n",
       "        text-align: left;\n",
       "    }\n",
       "\n",
       "    .dataframe tbody tr th {\n",
       "        vertical-align: top;\n",
       "    }\n",
       "</style>\n",
       "<table border=\"1\" class=\"dataframe\">\n",
       "  <thead>\n",
       "    <tr style=\"text-align: right;\">\n",
       "      <th></th>\n",
       "      <th>user</th>\n",
       "      <th>mean</th>\n",
       "      <th>compare_mean_rating</th>\n",
       "    </tr>\n",
       "  </thead>\n",
       "  <tbody>\n",
       "    <tr>\n",
       "      <th>0</th>\n",
       "      <td>1</td>\n",
       "      <td>4.188679</td>\n",
       "      <td>1</td>\n",
       "    </tr>\n",
       "    <tr>\n",
       "      <th>1</th>\n",
       "      <td>2</td>\n",
       "      <td>3.713178</td>\n",
       "      <td>0</td>\n",
       "    </tr>\n",
       "    <tr>\n",
       "      <th>2</th>\n",
       "      <td>3</td>\n",
       "      <td>3.901961</td>\n",
       "      <td>0</td>\n",
       "    </tr>\n",
       "    <tr>\n",
       "      <th>3</th>\n",
       "      <td>4</td>\n",
       "      <td>4.190476</td>\n",
       "      <td>1</td>\n",
       "    </tr>\n",
       "    <tr>\n",
       "      <th>4</th>\n",
       "      <td>5</td>\n",
       "      <td>3.146465</td>\n",
       "      <td>0</td>\n",
       "    </tr>\n",
       "  </tbody>\n",
       "</table>\n",
       "</div>"
      ],
      "text/plain": [
       "   user      mean  compare_mean_rating\n",
       "0     1  4.188679                    1\n",
       "1     2  3.713178                    0\n",
       "2     3  3.901961                    0\n",
       "3     4  4.190476                    1\n",
       "4     5  3.146465                    0"
      ]
     },
     "execution_count": 22,
     "metadata": {},
     "output_type": "execute_result"
    }
   ],
   "source": [
    "users_average = movie_lens.groupby(['user'])['rating'] \\\n",
    "    .agg(['mean']) \\\n",
    "    .reset_index()\n",
    "users_average['compare_mean_rating'] = users_average['mean'].map(compare_mean_rating)\n",
    "users_average.head(5)"
   ]
  },
  {
   "cell_type": "code",
   "execution_count": 23,
   "metadata": {},
   "outputs": [
    {
     "data": {
      "text/plain": [
       " 0    0.732616\n",
       " 1    0.186258\n",
       "-1    0.081126\n",
       "Name: compare_mean_rating, dtype: float64"
      ]
     },
     "execution_count": 23,
     "metadata": {},
     "output_type": "execute_result"
    }
   ],
   "source": [
    "users_average['compare_mean_rating'].value_counts(normalize=True)"
   ]
  },
  {
   "cell_type": "markdown",
   "metadata": {},
   "source": [
    "Как видно, большинство пользователей ставит оценку в пределах +- 0.5 от средней оценки всего датасета, еще 18 процентов склонны завышать оценку и только 8 процентов - занижать."
   ]
  },
  {
   "cell_type": "markdown",
   "metadata": {},
   "source": [
    "### 4. Оценить средние оценки по фильмам и по пользователям:"
   ]
  },
  {
   "cell_type": "markdown",
   "metadata": {},
   "source": [
    "#### Не очень понятно что здесь имеется ввиду, поэтому объединю его со следующим пунктом: "
   ]
  },
  {
   "cell_type": "markdown",
   "metadata": {},
   "source": [
    "### 5. Выбрать критерий, показывающий, что фильм нравится всем, или не нравится никому, и вывести топ фильмов из этих списков. Знаете ли вы эти фильмы, согласны ли с оценками?"
   ]
  },
  {
   "cell_type": "markdown",
   "metadata": {},
   "source": [
    "#### Чтобы учесть успешность/неуспешность фильма надо учитывать 2 параметра:\n",
    "#### 1) Средний рейтинг фильма;\n",
    "#### 2) Количество проголосовавших за этот фильм;\n",
    "#### Учитывать пользователей занижающих или завышающих рейтинг мы не будем, т.к. из количество не очень велико. Но при этом будем учитывать минимальное количество голосов, для которых можно считать оценку, так как очень много фильмов с малым количеством голосов и они могут сильно исказить истинную картину.\n",
    "#### Сама же формула выглядит следующим образом:"
   ]
  },
  {
   "cell_type": "markdown",
   "metadata": {},
   "source": [
    "<p>взвешенный вес (WR) = (v / (v+m)) * R + (m / (v+m)) * C</p>\n",
    "<p></p>\n",
    "<p>где:</p>\n",
    "<ul>\n",
    "<li>R = Средний рейтинг фильма</li>\n",
    "<li>v = Количество проголосовавших за этот фильм</li>\n",
    "<li>m = Минимальное количество голосов для оценка</li>\n",
    "<li>C = Средний рейтинг для всей выборки</li>\n",
    "</ul>"
   ]
  },
  {
   "cell_type": "code",
   "execution_count": 24,
   "metadata": {
    "collapsed": true
   },
   "outputs": [],
   "source": [
    "del users_average"
   ]
  },
  {
   "cell_type": "code",
   "execution_count": 25,
   "metadata": {
    "collapsed": true
   },
   "outputs": [],
   "source": [
    "ratings_total = ratings_total.rename(columns={'count': 'votes_count'})[['movie', 'votes_count']]"
   ]
  },
  {
   "cell_type": "code",
   "execution_count": 26,
   "metadata": {
    "collapsed": true
   },
   "outputs": [],
   "source": [
    "ratings_average = movie_lens.groupby(['movie'])['rating'] \\\n",
    "    .agg(['mean']) \\\n",
    "    .reset_index()"
   ]
  },
  {
   "cell_type": "code",
   "execution_count": 27,
   "metadata": {
    "collapsed": true
   },
   "outputs": [],
   "source": [
    "ratings_average = ratings_average.rename(columns={'mean': 'rating_average'})[['movie', 'rating_average']]"
   ]
  },
  {
   "cell_type": "code",
   "execution_count": 28,
   "metadata": {
    "collapsed": true
   },
   "outputs": [],
   "source": [
    "movie_ratings = pd.merge(pd.merge(movies, ratings_total), ratings_average)"
   ]
  },
  {
   "cell_type": "code",
   "execution_count": 29,
   "metadata": {
    "scrolled": true
   },
   "outputs": [
    {
     "data": {
      "text/html": [
       "<div>\n",
       "<style>\n",
       "    .dataframe thead tr:only-child th {\n",
       "        text-align: right;\n",
       "    }\n",
       "\n",
       "    .dataframe thead th {\n",
       "        text-align: left;\n",
       "    }\n",
       "\n",
       "    .dataframe tbody tr th {\n",
       "        vertical-align: top;\n",
       "    }\n",
       "</style>\n",
       "<table border=\"1\" class=\"dataframe\">\n",
       "  <thead>\n",
       "    <tr style=\"text-align: right;\">\n",
       "      <th></th>\n",
       "      <th>movie</th>\n",
       "      <th>title</th>\n",
       "      <th>genre</th>\n",
       "      <th>votes_count</th>\n",
       "      <th>rating_average</th>\n",
       "    </tr>\n",
       "  </thead>\n",
       "  <tbody>\n",
       "    <tr>\n",
       "      <th>0</th>\n",
       "      <td>1</td>\n",
       "      <td>Toy Story (1995)</td>\n",
       "      <td>{Comedy, Children's, Animation}</td>\n",
       "      <td>2077</td>\n",
       "      <td>4.146846</td>\n",
       "    </tr>\n",
       "    <tr>\n",
       "      <th>1</th>\n",
       "      <td>2</td>\n",
       "      <td>Jumanji (1995)</td>\n",
       "      <td>{Children's, Adventure, Fantasy}</td>\n",
       "      <td>701</td>\n",
       "      <td>3.201141</td>\n",
       "    </tr>\n",
       "    <tr>\n",
       "      <th>2</th>\n",
       "      <td>3</td>\n",
       "      <td>Grumpier Old Men (1995)</td>\n",
       "      <td>{Romance, Comedy}</td>\n",
       "      <td>478</td>\n",
       "      <td>3.016736</td>\n",
       "    </tr>\n",
       "    <tr>\n",
       "      <th>3</th>\n",
       "      <td>4</td>\n",
       "      <td>Waiting to Exhale (1995)</td>\n",
       "      <td>{Drama, Comedy}</td>\n",
       "      <td>170</td>\n",
       "      <td>2.729412</td>\n",
       "    </tr>\n",
       "    <tr>\n",
       "      <th>4</th>\n",
       "      <td>5</td>\n",
       "      <td>Father of the Bride Part II (1995)</td>\n",
       "      <td>{Comedy}</td>\n",
       "      <td>296</td>\n",
       "      <td>3.006757</td>\n",
       "    </tr>\n",
       "  </tbody>\n",
       "</table>\n",
       "</div>"
      ],
      "text/plain": [
       "   movie                               title  \\\n",
       "0      1                    Toy Story (1995)   \n",
       "1      2                      Jumanji (1995)   \n",
       "2      3             Grumpier Old Men (1995)   \n",
       "3      4            Waiting to Exhale (1995)   \n",
       "4      5  Father of the Bride Part II (1995)   \n",
       "\n",
       "                              genre  votes_count  rating_average  \n",
       "0   {Comedy, Children's, Animation}         2077        4.146846  \n",
       "1  {Children's, Adventure, Fantasy}          701        3.201141  \n",
       "2                 {Romance, Comedy}          478        3.016736  \n",
       "3                   {Drama, Comedy}          170        2.729412  \n",
       "4                          {Comedy}          296        3.006757  "
      ]
     },
     "execution_count": 29,
     "metadata": {},
     "output_type": "execute_result"
    }
   ],
   "source": [
    "movie_ratings.head(5)"
   ]
  },
  {
   "cell_type": "markdown",
   "metadata": {},
   "source": [
    "#### Средний рейтинг по выборке мы уже посчитали выше:"
   ]
  },
  {
   "cell_type": "code",
   "execution_count": 30,
   "metadata": {
    "collapsed": true
   },
   "outputs": [],
   "source": [
    "C = vote_average"
   ]
  },
  {
   "cell_type": "markdown",
   "metadata": {},
   "source": [
    "#### Минимальным количеством голосов будет 0,75-квантиль, т.е. фильм должен иметь больше голосов чем 75% фильмов в выборке:"
   ]
  },
  {
   "cell_type": "code",
   "execution_count": 31,
   "metadata": {},
   "outputs": [
    {
     "data": {
      "text/plain": [
       "350.0"
      ]
     },
     "execution_count": 31,
     "metadata": {},
     "output_type": "execute_result"
    }
   ],
   "source": [
    "m = ratings_total['votes_count'].quantile(0.75)\n",
    "m"
   ]
  },
  {
   "cell_type": "code",
   "execution_count": 32,
   "metadata": {
    "collapsed": true
   },
   "outputs": [],
   "source": [
    "def weighted_rating(x):\n",
    "    v = x['votes_count']\n",
    "    R = x['rating_average']\n",
    "    return (v / (v + m) * R) + (m / (m + v) * C)"
   ]
  },
  {
   "cell_type": "code",
   "execution_count": 33,
   "metadata": {
    "collapsed": true
   },
   "outputs": [],
   "source": [
    "del ratings_average"
   ]
  },
  {
   "cell_type": "code",
   "execution_count": 34,
   "metadata": {
    "collapsed": true
   },
   "outputs": [],
   "source": [
    "movie_ratings['wr'] = movie_ratings.apply(weighted_rating, axis=1)"
   ]
  },
  {
   "cell_type": "code",
   "execution_count": 35,
   "metadata": {},
   "outputs": [
    {
     "data": {
      "text/html": [
       "<div>\n",
       "<style>\n",
       "    .dataframe thead tr:only-child th {\n",
       "        text-align: right;\n",
       "    }\n",
       "\n",
       "    .dataframe thead th {\n",
       "        text-align: left;\n",
       "    }\n",
       "\n",
       "    .dataframe tbody tr th {\n",
       "        vertical-align: top;\n",
       "    }\n",
       "</style>\n",
       "<table border=\"1\" class=\"dataframe\">\n",
       "  <thead>\n",
       "    <tr style=\"text-align: right;\">\n",
       "      <th></th>\n",
       "      <th>movie</th>\n",
       "      <th>title</th>\n",
       "      <th>genre</th>\n",
       "      <th>votes_count</th>\n",
       "      <th>rating_average</th>\n",
       "      <th>wr</th>\n",
       "    </tr>\n",
       "  </thead>\n",
       "  <tbody>\n",
       "    <tr>\n",
       "      <th>0</th>\n",
       "      <td>1</td>\n",
       "      <td>Toy Story (1995)</td>\n",
       "      <td>{Comedy, Children's, Animation}</td>\n",
       "      <td>2077</td>\n",
       "      <td>4.146846</td>\n",
       "      <td>4.065327</td>\n",
       "    </tr>\n",
       "    <tr>\n",
       "      <th>1</th>\n",
       "      <td>2</td>\n",
       "      <td>Jumanji (1995)</td>\n",
       "      <td>{Children's, Adventure, Fantasy}</td>\n",
       "      <td>701</td>\n",
       "      <td>3.201141</td>\n",
       "      <td>3.327828</td>\n",
       "    </tr>\n",
       "    <tr>\n",
       "      <th>2</th>\n",
       "      <td>3</td>\n",
       "      <td>Grumpier Old Men (1995)</td>\n",
       "      <td>{Romance, Comedy}</td>\n",
       "      <td>478</td>\n",
       "      <td>3.016736</td>\n",
       "      <td>3.255492</td>\n",
       "    </tr>\n",
       "    <tr>\n",
       "      <th>3</th>\n",
       "      <td>4</td>\n",
       "      <td>Waiting to Exhale (1995)</td>\n",
       "      <td>{Drama, Comedy}</td>\n",
       "      <td>170</td>\n",
       "      <td>2.729412</td>\n",
       "      <td>3.302976</td>\n",
       "    </tr>\n",
       "    <tr>\n",
       "      <th>4</th>\n",
       "      <td>5</td>\n",
       "      <td>Father of the Bride Part II (1995)</td>\n",
       "      <td>{Comedy}</td>\n",
       "      <td>296</td>\n",
       "      <td>3.006757</td>\n",
       "      <td>3.318185</td>\n",
       "    </tr>\n",
       "  </tbody>\n",
       "</table>\n",
       "</div>"
      ],
      "text/plain": [
       "   movie                               title  \\\n",
       "0      1                    Toy Story (1995)   \n",
       "1      2                      Jumanji (1995)   \n",
       "2      3             Grumpier Old Men (1995)   \n",
       "3      4            Waiting to Exhale (1995)   \n",
       "4      5  Father of the Bride Part II (1995)   \n",
       "\n",
       "                              genre  votes_count  rating_average        wr  \n",
       "0   {Comedy, Children's, Animation}         2077        4.146846  4.065327  \n",
       "1  {Children's, Adventure, Fantasy}          701        3.201141  3.327828  \n",
       "2                 {Romance, Comedy}          478        3.016736  3.255492  \n",
       "3                   {Drama, Comedy}          170        2.729412  3.302976  \n",
       "4                          {Comedy}          296        3.006757  3.318185  "
      ]
     },
     "execution_count": 35,
     "metadata": {},
     "output_type": "execute_result"
    }
   ],
   "source": [
    "movie_ratings.head(5)"
   ]
  },
  {
   "cell_type": "markdown",
   "metadata": {},
   "source": [
    "#### Выведем 15 топ фильмов из списка:"
   ]
  },
  {
   "cell_type": "code",
   "execution_count": 36,
   "metadata": {},
   "outputs": [
    {
     "data": {
      "text/html": [
       "<div>\n",
       "<style>\n",
       "    .dataframe thead tr:only-child th {\n",
       "        text-align: right;\n",
       "    }\n",
       "\n",
       "    .dataframe thead th {\n",
       "        text-align: left;\n",
       "    }\n",
       "\n",
       "    .dataframe tbody tr th {\n",
       "        vertical-align: top;\n",
       "    }\n",
       "</style>\n",
       "<table border=\"1\" class=\"dataframe\">\n",
       "  <thead>\n",
       "    <tr style=\"text-align: right;\">\n",
       "      <th></th>\n",
       "      <th>title</th>\n",
       "      <th>genre</th>\n",
       "      <th>votes_count</th>\n",
       "      <th>rating_average</th>\n",
       "      <th>wr</th>\n",
       "    </tr>\n",
       "  </thead>\n",
       "  <tbody>\n",
       "    <tr>\n",
       "      <th>309</th>\n",
       "      <td>Shawshank Redemption, The (1994)</td>\n",
       "      <td>{Drama}</td>\n",
       "      <td>2227</td>\n",
       "      <td>4.554558</td>\n",
       "      <td>4.422409</td>\n",
       "    </tr>\n",
       "    <tr>\n",
       "      <th>802</th>\n",
       "      <td>Godfather, The (1972)</td>\n",
       "      <td>{Action, Drama, Crime}</td>\n",
       "      <td>2223</td>\n",
       "      <td>4.524966</td>\n",
       "      <td>4.396637</td>\n",
       "    </tr>\n",
       "    <tr>\n",
       "      <th>513</th>\n",
       "      <td>Schindler's List (1993)</td>\n",
       "      <td>{Drama, War}</td>\n",
       "      <td>2304</td>\n",
       "      <td>4.510417</td>\n",
       "      <td>4.387923</td>\n",
       "    </tr>\n",
       "    <tr>\n",
       "      <th>1108</th>\n",
       "      <td>Raiders of the Lost Ark (1981)</td>\n",
       "      <td>{Action, Adventure}</td>\n",
       "      <td>2514</td>\n",
       "      <td>4.477725</td>\n",
       "      <td>4.368208</td>\n",
       "    </tr>\n",
       "    <tr>\n",
       "      <th>49</th>\n",
       "      <td>Usual Suspects, The (1995)</td>\n",
       "      <td>{Thriller, Crime}</td>\n",
       "      <td>1783</td>\n",
       "      <td>4.517106</td>\n",
       "      <td>4.363595</td>\n",
       "    </tr>\n",
       "    <tr>\n",
       "      <th>253</th>\n",
       "      <td>Star Wars: Episode IV - A New Hope (1977)</td>\n",
       "      <td>{Action, Fantasy, Adventure, Sci-Fi}</td>\n",
       "      <td>2991</td>\n",
       "      <td>4.453694</td>\n",
       "      <td>4.362331</td>\n",
       "    </tr>\n",
       "    <tr>\n",
       "      <th>2557</th>\n",
       "      <td>Sixth Sense, The (1999)</td>\n",
       "      <td>{Thriller}</td>\n",
       "      <td>2459</td>\n",
       "      <td>4.406263</td>\n",
       "      <td>4.303506</td>\n",
       "    </tr>\n",
       "    <tr>\n",
       "      <th>713</th>\n",
       "      <td>Dr. Strangelove or: How I Learned to Stop Worr...</td>\n",
       "      <td>{Sci-Fi, War}</td>\n",
       "      <td>1367</td>\n",
       "      <td>4.449890</td>\n",
       "      <td>4.272887</td>\n",
       "    </tr>\n",
       "    <tr>\n",
       "      <th>851</th>\n",
       "      <td>Casablanca (1942)</td>\n",
       "      <td>{Drama, Romance, War}</td>\n",
       "      <td>1669</td>\n",
       "      <td>4.412822</td>\n",
       "      <td>4.268721</td>\n",
       "    </tr>\n",
       "    <tr>\n",
       "      <th>579</th>\n",
       "      <td>Silence of the Lambs, The (1991)</td>\n",
       "      <td>{Drama, Thriller}</td>\n",
       "      <td>2578</td>\n",
       "      <td>4.351823</td>\n",
       "      <td>4.259750</td>\n",
       "    </tr>\n",
       "    <tr>\n",
       "      <th>1104</th>\n",
       "      <td>One Flew Over the Cuckoo's Nest (1975)</td>\n",
       "      <td>{Drama}</td>\n",
       "      <td>1725</td>\n",
       "      <td>4.390725</td>\n",
       "      <td>4.254240</td>\n",
       "    </tr>\n",
       "    <tr>\n",
       "      <th>843</th>\n",
       "      <td>Rear Window (1954)</td>\n",
       "      <td>{Mystery, Thriller}</td>\n",
       "      <td>1050</td>\n",
       "      <td>4.476190</td>\n",
       "      <td>4.252534</td>\n",
       "    </tr>\n",
       "    <tr>\n",
       "      <th>1848</th>\n",
       "      <td>Saving Private Ryan (1998)</td>\n",
       "      <td>{Action, Drama, War}</td>\n",
       "      <td>2653</td>\n",
       "      <td>4.337354</td>\n",
       "      <td>4.249267</td>\n",
       "    </tr>\n",
       "    <tr>\n",
       "      <th>2651</th>\n",
       "      <td>American Beauty (1999)</td>\n",
       "      <td>{Drama, Comedy}</td>\n",
       "      <td>3428</td>\n",
       "      <td>4.317386</td>\n",
       "      <td>4.249219</td>\n",
       "    </tr>\n",
       "    <tr>\n",
       "      <th>1066</th>\n",
       "      <td>Wrong Trousers, The (1993)</td>\n",
       "      <td>{Comedy, Animation}</td>\n",
       "      <td>882</td>\n",
       "      <td>4.507937</td>\n",
       "      <td>4.244763</td>\n",
       "    </tr>\n",
       "  </tbody>\n",
       "</table>\n",
       "</div>"
      ],
      "text/plain": [
       "                                                  title  \\\n",
       "309                    Shawshank Redemption, The (1994)   \n",
       "802                               Godfather, The (1972)   \n",
       "513                             Schindler's List (1993)   \n",
       "1108                     Raiders of the Lost Ark (1981)   \n",
       "49                           Usual Suspects, The (1995)   \n",
       "253           Star Wars: Episode IV - A New Hope (1977)   \n",
       "2557                            Sixth Sense, The (1999)   \n",
       "713   Dr. Strangelove or: How I Learned to Stop Worr...   \n",
       "851                                   Casablanca (1942)   \n",
       "579                    Silence of the Lambs, The (1991)   \n",
       "1104             One Flew Over the Cuckoo's Nest (1975)   \n",
       "843                                  Rear Window (1954)   \n",
       "1848                         Saving Private Ryan (1998)   \n",
       "2651                             American Beauty (1999)   \n",
       "1066                         Wrong Trousers, The (1993)   \n",
       "\n",
       "                                     genre  votes_count  rating_average  \\\n",
       "309                                {Drama}         2227        4.554558   \n",
       "802                 {Action, Drama, Crime}         2223        4.524966   \n",
       "513                           {Drama, War}         2304        4.510417   \n",
       "1108                   {Action, Adventure}         2514        4.477725   \n",
       "49                       {Thriller, Crime}         1783        4.517106   \n",
       "253   {Action, Fantasy, Adventure, Sci-Fi}         2991        4.453694   \n",
       "2557                            {Thriller}         2459        4.406263   \n",
       "713                          {Sci-Fi, War}         1367        4.449890   \n",
       "851                  {Drama, Romance, War}         1669        4.412822   \n",
       "579                      {Drama, Thriller}         2578        4.351823   \n",
       "1104                               {Drama}         1725        4.390725   \n",
       "843                    {Mystery, Thriller}         1050        4.476190   \n",
       "1848                  {Action, Drama, War}         2653        4.337354   \n",
       "2651                       {Drama, Comedy}         3428        4.317386   \n",
       "1066                   {Comedy, Animation}          882        4.507937   \n",
       "\n",
       "            wr  \n",
       "309   4.422409  \n",
       "802   4.396637  \n",
       "513   4.387923  \n",
       "1108  4.368208  \n",
       "49    4.363595  \n",
       "253   4.362331  \n",
       "2557  4.303506  \n",
       "713   4.272887  \n",
       "851   4.268721  \n",
       "579   4.259750  \n",
       "1104  4.254240  \n",
       "843   4.252534  \n",
       "1848  4.249267  \n",
       "2651  4.249219  \n",
       "1066  4.244763  "
      ]
     },
     "execution_count": 36,
     "metadata": {},
     "output_type": "execute_result"
    }
   ],
   "source": [
    "movie_ratings.sort_values('wr', ascending=False)[['title', 'genre', 'votes_count', 'rating_average', 'wr']] \\\n",
    "    .head(15)"
   ]
  },
  {
   "cell_type": "markdown",
   "metadata": {},
   "source": [
    "В общем и целом, с рейтингом я согласен, хотя не все фильмы мне знакомы, но поискав некоторые из них в гугле, оказалось, что рейтинги у них довольно высокие."
   ]
  },
  {
   "cell_type": "markdown",
   "metadata": {},
   "source": [
    "### 6. Выбрать лучшие фильмы:"
   ]
  },
  {
   "cell_type": "markdown",
   "metadata": {},
   "source": [
    "#### Для того, чтобы выбрать лучше фильмы, повысим минимальное количеством голосов до 0,99-квантиль, т.е. оставим 1% самых популярных фильмов:"
   ]
  },
  {
   "cell_type": "code",
   "execution_count": 37,
   "metadata": {},
   "outputs": [
    {
     "data": {
      "text/plain": [
       "1784.8999999999996"
      ]
     },
     "execution_count": 37,
     "metadata": {},
     "output_type": "execute_result"
    }
   ],
   "source": [
    "m = ratings_total['votes_count'].quantile(0.99)\n",
    "m"
   ]
  },
  {
   "cell_type": "code",
   "execution_count": 38,
   "metadata": {
    "collapsed": true
   },
   "outputs": [],
   "source": [
    "movie_ratings['wr_99'] = movie_ratings.apply(weighted_rating, axis=1)"
   ]
  },
  {
   "cell_type": "code",
   "execution_count": 39,
   "metadata": {},
   "outputs": [
    {
     "data": {
      "text/html": [
       "<div>\n",
       "<style>\n",
       "    .dataframe thead tr:only-child th {\n",
       "        text-align: right;\n",
       "    }\n",
       "\n",
       "    .dataframe thead th {\n",
       "        text-align: left;\n",
       "    }\n",
       "\n",
       "    .dataframe tbody tr th {\n",
       "        vertical-align: top;\n",
       "    }\n",
       "</style>\n",
       "<table border=\"1\" class=\"dataframe\">\n",
       "  <thead>\n",
       "    <tr style=\"text-align: right;\">\n",
       "      <th></th>\n",
       "      <th>title</th>\n",
       "      <th>genre</th>\n",
       "      <th>votes_count</th>\n",
       "      <th>rating_average</th>\n",
       "      <th>wr_99</th>\n",
       "    </tr>\n",
       "  </thead>\n",
       "  <tbody>\n",
       "    <tr>\n",
       "      <th>253</th>\n",
       "      <td>Star Wars: Episode IV - A New Hope (1977)</td>\n",
       "      <td>{Action, Fantasy, Adventure, Sci-Fi}</td>\n",
       "      <td>2991</td>\n",
       "      <td>4.453694</td>\n",
       "      <td>4.127753</td>\n",
       "    </tr>\n",
       "    <tr>\n",
       "      <th>309</th>\n",
       "      <td>Shawshank Redemption, The (1994)</td>\n",
       "      <td>{Drama}</td>\n",
       "      <td>2227</td>\n",
       "      <td>4.554558</td>\n",
       "      <td>4.121672</td>\n",
       "    </tr>\n",
       "    <tr>\n",
       "      <th>1108</th>\n",
       "      <td>Raiders of the Lost Ark (1981)</td>\n",
       "      <td>{Action, Adventure}</td>\n",
       "      <td>2514</td>\n",
       "      <td>4.477725</td>\n",
       "      <td>4.105640</td>\n",
       "    </tr>\n",
       "    <tr>\n",
       "      <th>513</th>\n",
       "      <td>Schindler's List (1993)</td>\n",
       "      <td>{Drama, War}</td>\n",
       "      <td>2304</td>\n",
       "      <td>4.510417</td>\n",
       "      <td>4.104951</td>\n",
       "    </tr>\n",
       "    <tr>\n",
       "      <th>802</th>\n",
       "      <td>Godfather, The (1972)</td>\n",
       "      <td>{Action, Drama, Crime}</td>\n",
       "      <td>2223</td>\n",
       "      <td>4.524966</td>\n",
       "      <td>4.104827</td>\n",
       "    </tr>\n",
       "    <tr>\n",
       "      <th>2651</th>\n",
       "      <td>American Beauty (1999)</td>\n",
       "      <td>{Drama, Comedy}</td>\n",
       "      <td>3428</td>\n",
       "      <td>4.317386</td>\n",
       "      <td>4.065440</td>\n",
       "    </tr>\n",
       "    <tr>\n",
       "      <th>2557</th>\n",
       "      <td>Sixth Sense, The (1999)</td>\n",
       "      <td>{Thriller}</td>\n",
       "      <td>2459</td>\n",
       "      <td>4.406263</td>\n",
       "      <td>4.059411</td>\n",
       "    </tr>\n",
       "    <tr>\n",
       "      <th>49</th>\n",
       "      <td>Usual Suspects, The (1995)</td>\n",
       "      <td>{Thriller, Crime}</td>\n",
       "      <td>1783</td>\n",
       "      <td>4.517106</td>\n",
       "      <td>4.049086</td>\n",
       "    </tr>\n",
       "    <tr>\n",
       "      <th>579</th>\n",
       "      <td>Silence of the Lambs, The (1991)</td>\n",
       "      <td>{Drama, Thriller}</td>\n",
       "      <td>2578</td>\n",
       "      <td>4.351823</td>\n",
       "      <td>4.036704</td>\n",
       "    </tr>\n",
       "    <tr>\n",
       "      <th>1848</th>\n",
       "      <td>Saving Private Ryan (1998)</td>\n",
       "      <td>{Action, Drama, War}</td>\n",
       "      <td>2653</td>\n",
       "      <td>4.337354</td>\n",
       "      <td>4.033379</td>\n",
       "    </tr>\n",
       "    <tr>\n",
       "      <th>1106</th>\n",
       "      <td>Star Wars: Episode V - The Empire Strikes Back...</td>\n",
       "      <td>{Action, Drama, War, Adventure, Sci-Fi}</td>\n",
       "      <td>2990</td>\n",
       "      <td>4.292977</td>\n",
       "      <td>4.027044</td>\n",
       "    </tr>\n",
       "    <tr>\n",
       "      <th>2374</th>\n",
       "      <td>Matrix, The (1999)</td>\n",
       "      <td>{Action, Sci-Fi, Thriller}</td>\n",
       "      <td>2590</td>\n",
       "      <td>4.315830</td>\n",
       "      <td>4.016260</td>\n",
       "    </tr>\n",
       "    <tr>\n",
       "      <th>1107</th>\n",
       "      <td>Princess Bride, The (1987)</td>\n",
       "      <td>{Action, Romance, Comedy, Adventure}</td>\n",
       "      <td>2318</td>\n",
       "      <td>4.303710</td>\n",
       "      <td>3.989552</td>\n",
       "    </tr>\n",
       "    <tr>\n",
       "      <th>851</th>\n",
       "      <td>Casablanca (1942)</td>\n",
       "      <td>{Drama, Romance, War}</td>\n",
       "      <td>1669</td>\n",
       "      <td>4.412822</td>\n",
       "      <td>3.983246</td>\n",
       "    </tr>\n",
       "    <tr>\n",
       "      <th>1104</th>\n",
       "      <td>One Flew Over the Cuckoo's Nest (1975)</td>\n",
       "      <td>{Drama}</td>\n",
       "      <td>1725</td>\n",
       "      <td>4.390725</td>\n",
       "      <td>3.979240</td>\n",
       "    </tr>\n",
       "  </tbody>\n",
       "</table>\n",
       "</div>"
      ],
      "text/plain": [
       "                                                  title  \\\n",
       "253           Star Wars: Episode IV - A New Hope (1977)   \n",
       "309                    Shawshank Redemption, The (1994)   \n",
       "1108                     Raiders of the Lost Ark (1981)   \n",
       "513                             Schindler's List (1993)   \n",
       "802                               Godfather, The (1972)   \n",
       "2651                             American Beauty (1999)   \n",
       "2557                            Sixth Sense, The (1999)   \n",
       "49                           Usual Suspects, The (1995)   \n",
       "579                    Silence of the Lambs, The (1991)   \n",
       "1848                         Saving Private Ryan (1998)   \n",
       "1106  Star Wars: Episode V - The Empire Strikes Back...   \n",
       "2374                                 Matrix, The (1999)   \n",
       "1107                         Princess Bride, The (1987)   \n",
       "851                                   Casablanca (1942)   \n",
       "1104             One Flew Over the Cuckoo's Nest (1975)   \n",
       "\n",
       "                                        genre  votes_count  rating_average  \\\n",
       "253      {Action, Fantasy, Adventure, Sci-Fi}         2991        4.453694   \n",
       "309                                   {Drama}         2227        4.554558   \n",
       "1108                      {Action, Adventure}         2514        4.477725   \n",
       "513                              {Drama, War}         2304        4.510417   \n",
       "802                    {Action, Drama, Crime}         2223        4.524966   \n",
       "2651                          {Drama, Comedy}         3428        4.317386   \n",
       "2557                               {Thriller}         2459        4.406263   \n",
       "49                          {Thriller, Crime}         1783        4.517106   \n",
       "579                         {Drama, Thriller}         2578        4.351823   \n",
       "1848                     {Action, Drama, War}         2653        4.337354   \n",
       "1106  {Action, Drama, War, Adventure, Sci-Fi}         2990        4.292977   \n",
       "2374               {Action, Sci-Fi, Thriller}         2590        4.315830   \n",
       "1107     {Action, Romance, Comedy, Adventure}         2318        4.303710   \n",
       "851                     {Drama, Romance, War}         1669        4.412822   \n",
       "1104                                  {Drama}         1725        4.390725   \n",
       "\n",
       "         wr_99  \n",
       "253   4.127753  \n",
       "309   4.121672  \n",
       "1108  4.105640  \n",
       "513   4.104951  \n",
       "802   4.104827  \n",
       "2651  4.065440  \n",
       "2557  4.059411  \n",
       "49    4.049086  \n",
       "579   4.036704  \n",
       "1848  4.033379  \n",
       "1106  4.027044  \n",
       "2374  4.016260  \n",
       "1107  3.989552  \n",
       "851   3.983246  \n",
       "1104  3.979240  "
      ]
     },
     "execution_count": 39,
     "metadata": {},
     "output_type": "execute_result"
    }
   ],
   "source": [
    "movie_ratings.sort_values('wr_99', ascending=False)[['title', 'genre', 'votes_count', 'rating_average', 'wr_99']] \\\n",
    "    .head(15)"
   ]
  },
  {
   "cell_type": "markdown",
   "metadata": {},
   "source": [
    "Как мне кажется, рейтинг получился вполне содержательный, хотя \"Звездные войны\" на первом месте выглядят немного странно."
   ]
  },
  {
   "cell_type": "markdown",
   "metadata": {},
   "source": [
    "## Создание рекомендательной системы"
   ]
  },
  {
   "cell_type": "markdown",
   "metadata": {},
   "source": [
    "### 1. Построить рекомендательную систему с помощью библиотеки surprise (или другой, по желанию). Применить подбор параметров модели на сетке, оценить качество полученной модели по выбранной вами метрике:"
   ]
  },
  {
   "cell_type": "code",
   "execution_count": 51,
   "metadata": {
    "collapsed": true
   },
   "outputs": [],
   "source": [
    "from surprise import Reader, Dataset, SVD"
   ]
  },
  {
   "cell_type": "code",
   "execution_count": 57,
   "metadata": {
    "collapsed": true
   },
   "outputs": [],
   "source": [
    "from surprise.model_selection import GridSearchCV"
   ]
  },
  {
   "cell_type": "code",
   "execution_count": 53,
   "metadata": {
    "collapsed": true
   },
   "outputs": [],
   "source": [
    "reader = Reader()"
   ]
  },
  {
   "cell_type": "code",
   "execution_count": 54,
   "metadata": {
    "collapsed": true
   },
   "outputs": [],
   "source": [
    "movie_data = Dataset.load_from_df(movie_lens[['user', 'movie', 'rating']], reader)"
   ]
  },
  {
   "cell_type": "markdown",
   "metadata": {},
   "source": [
    "#### При построении модели будем использовать алгоритм Singular Value Decomposition (SVD) и подборем параметры модели на сетке. В качестве метрики возьмем среднюю квадратичную ошибку RMSE:"
   ]
  },
  {
   "cell_type": "code",
   "execution_count": 58,
   "metadata": {
    "collapsed": true
   },
   "outputs": [],
   "source": [
    "# cross_validate(algo, movie_data, measures=['RMSE', 'MAE'], cv=5, verbose=True)\n",
    "param_grid = {'n_epochs': [5, 10], 'lr_all': [0.002, 0.005], 'reg_all': [0.4, 0.6]}\n",
    "gs = GridSearchCV(SVD, param_grid, measures=['rmse'], cv=3)"
   ]
  },
  {
   "cell_type": "code",
   "execution_count": 59,
   "metadata": {
    "collapsed": true
   },
   "outputs": [],
   "source": [
    "gs.fit(movie_data)"
   ]
  },
  {
   "cell_type": "code",
   "execution_count": 61,
   "metadata": {
    "scrolled": true
   },
   "outputs": [
    {
     "data": {
      "text/plain": [
       "0.92988692197353195"
      ]
     },
     "execution_count": 61,
     "metadata": {},
     "output_type": "execute_result"
    }
   ],
   "source": [
    "gs.best_score['rmse']"
   ]
  },
  {
   "cell_type": "code",
   "execution_count": 62,
   "metadata": {},
   "outputs": [
    {
     "data": {
      "text/plain": [
       "{'lr_all': 0.005, 'n_epochs': 10, 'reg_all': 0.4}"
      ]
     },
     "execution_count": 62,
     "metadata": {},
     "output_type": "execute_result"
    }
   ],
   "source": [
    "gs.best_params['rmse']"
   ]
  },
  {
   "cell_type": "code",
   "execution_count": 63,
   "metadata": {
    "collapsed": true
   },
   "outputs": [],
   "source": [
    "algo = gs.best_estimator['rmse']"
   ]
  },
  {
   "cell_type": "code",
   "execution_count": 64,
   "metadata": {},
   "outputs": [
    {
     "data": {
      "text/plain": [
       "<surprise.prediction_algorithms.matrix_factorization.SVD at 0x11a903cd0>"
      ]
     },
     "execution_count": 64,
     "metadata": {},
     "output_type": "execute_result"
    }
   ],
   "source": [
    "algo.fit(movie_data.build_full_trainset())"
   ]
  },
  {
   "cell_type": "markdown",
   "metadata": {},
   "source": [
    "Мы получили среднюю квадратичную ошибку RMSE в среднем равную 0.92989, что довольно неплохо."
   ]
  },
  {
   "cell_type": "markdown",
   "metadata": {},
   "source": [
    "### 2. Создать нового пользователя (имитируем регистрацию нового пользователя в системе). Получить рекомендации для нового пользователя:"
   ]
  },
  {
   "cell_type": "markdown",
   "metadata": {},
   "source": [
    "#### Я думаю, что для \"холодного старта\" лучше подойдет рекомендации по фильмам основанные на взвешенных весах (WR), а чтобы немного разнобразить выборку, можно распределить фильмы по жанрам, например, для каждого анра не более 2-х фильмов:"
   ]
  },
  {
   "cell_type": "code",
   "execution_count": 104,
   "metadata": {
    "collapsed": true
   },
   "outputs": [],
   "source": [
    "from collections import defaultdict\n",
    "\n",
    "FILMS_PER_GENRE = 3\n",
    "\n",
    "def separate_movies_by_genre(df, limit=1000):\n",
    "    visited_genres = set()\n",
    "    movies = defaultdict(list)\n",
    "    for index, row in df[:limit].iterrows():\n",
    "        untouched_genres = row['genre'] - visited_genres\n",
    "        if not untouched_genres:\n",
    "            continue\n",
    "        genre = untouched_genres.pop()\n",
    "        movies[genre].append(row['title'])\n",
    "        if len(movies[genre]) == FILMS_PER_GENRE:\n",
    "            visited_genres.add(genre)\n",
    "    return movies"
   ]
  },
  {
   "cell_type": "code",
   "execution_count": 108,
   "metadata": {
    "collapsed": true
   },
   "outputs": [],
   "source": [
    "best_movies = separate_movies_by_genre(movie_ratings.sort_values('wr_99', ascending=False)[['title', 'genre']])"
   ]
  },
  {
   "cell_type": "code",
   "execution_count": 109,
   "metadata": {},
   "outputs": [
    {
     "name": "stdout",
     "output_type": "stream",
     "text": [
      "Great Movies I Recommend you should watch at any cost:\n",
      "Mystery:\n",
      "\tL.A. Confidential (1997)\n",
      "\tRear Window (1954)\n",
      "\tChinatown (1974)\n",
      "Romance:\n",
      "\tPrincess Bride, The (1987)\n",
      "\tCasablanca (1942)\n",
      "\tShakespeare in Love (1998)\n",
      "Sci-Fi:\n",
      "\tStar Wars: Episode V - The Empire Strikes Back (1980)\n",
      "\tMatrix, The (1999)\n",
      "\tDr. Strangelove or: How I Learned to Stop Worrying and Love the Bomb (1963)\n",
      "Fantasy:\n",
      "\tE.T. the Extra-Terrestrial (1982)\n",
      "\tBig (1988)\n",
      "\tWilly Wonka and the Chocolate Factory (1971)\n",
      "Horror:\n",
      "\tAlien (1979)\n",
      "\tYoung Frankenstein (1974)\n",
      "\tPsycho (1960)\n",
      "Film-Noir:\n",
      "\tBlade Runner (1982)\n",
      "\tMaltese Falcon, The (1941)\n",
      "\tManchurian Candidate, The (1962)\n",
      "Crime:\n",
      "\tFargo (1996)\n",
      "\tPulp Fiction (1994)\n",
      "\tGodfather: Part II, The (1974)\n",
      "Drama:\n",
      "\tShawshank Redemption, The (1994)\n",
      "\tSchindler's List (1993)\n",
      "\tAmerican Beauty (1999)\n",
      "Children's:\n",
      "\tWizard of Oz, The (1939)\n",
      "\tToy Story (1995)\n",
      "\tToy Story 2 (1999)\n",
      "Musical:\n",
      "\tThis Is Spinal Tap (1984)\n",
      "\tSingin' in the Rain (1952)\n",
      "\tBlues Brothers, The (1980)\n",
      "Animation:\n",
      "\tClose Shave, A (1995)\n",
      "\tWallace & Gromit: The Best of Aardman Animation (1996)\n",
      "\tGrand Day Out, A (1992)\n",
      "Western:\n",
      "\tButch Cassidy and the Sundance Kid (1969)\n",
      "\tUnforgiven (1992)\n",
      "\tBlazing Saddles (1974)\n",
      "Action:\n",
      "\tStar Wars: Episode IV - A New Hope (1977)\n",
      "\tRaiders of the Lost Ark (1981)\n",
      "\tGodfather, The (1972)\n",
      "Comedy:\n",
      "\tMonty Python and the Holy Grail (1974)\n",
      "\tWrong Trousers, The (1993)\n",
      "\tBeing John Malkovich (1999)\n",
      "Documentary:\n",
      "\tHoop Dreams (1994)\n",
      "\tRoger & Me (1989)\n",
      "\tCrumb (1994)\n",
      "War:\n",
      "\tSaving Private Ryan (1998)\n",
      "\tBraveheart (1995)\n",
      "\tForrest Gump (1994)\n",
      "Thriller:\n",
      "\tSixth Sense, The (1999)\n",
      "\tUsual Suspects, The (1995)\n",
      "\tSilence of the Lambs, The (1991)\n",
      "Adventure:\n",
      "\tStar Wars: Episode VI - Return of the Jedi (1983)\n",
      "\tIndiana Jones and the Last Crusade (1989)\n",
      "\tLawrence of Arabia (1962)\n"
     ]
    }
   ],
   "source": [
    "print('Great Movies I Recommend you should watch at any cost:')\n",
    "for k, v in best_movies.items():\n",
    "    print('{}:'.format(k))\n",
    "    for m in v:\n",
    "        print('\\t{}'.format(m))"
   ]
  },
  {
   "cell_type": "markdown",
   "metadata": {},
   "source": [
    "По-моему, получились вполне себе неплохие рекомендации для нового пользователя!"
   ]
  },
  {
   "cell_type": "markdown",
   "metadata": {},
   "source": [
    "### 3. Поставьте оценку какому-нибудь фильму (который вы знаете и можете поставить оценку) и получите рекомендации, насколько они качественные по вашим ощущениям? Сделайте это для фильма с негативной оценкой и для фильма с позитивной оценкой:"
   ]
  },
  {
   "cell_type": "code",
   "execution_count": 111,
   "metadata": {},
   "outputs": [
    {
     "data": {
      "text/html": [
       "<div>\n",
       "<style>\n",
       "    .dataframe thead tr:only-child th {\n",
       "        text-align: right;\n",
       "    }\n",
       "\n",
       "    .dataframe thead th {\n",
       "        text-align: left;\n",
       "    }\n",
       "\n",
       "    .dataframe tbody tr th {\n",
       "        vertical-align: top;\n",
       "    }\n",
       "</style>\n",
       "<table border=\"1\" class=\"dataframe\">\n",
       "  <thead>\n",
       "    <tr style=\"text-align: right;\">\n",
       "      <th></th>\n",
       "      <th>user</th>\n",
       "      <th>gender</th>\n",
       "      <th>age</th>\n",
       "      <th>occupation</th>\n",
       "      <th>zip</th>\n",
       "    </tr>\n",
       "  </thead>\n",
       "  <tbody>\n",
       "    <tr>\n",
       "      <th>6039</th>\n",
       "      <td>6040</td>\n",
       "      <td>M</td>\n",
       "      <td>25</td>\n",
       "      <td>6</td>\n",
       "      <td>11106</td>\n",
       "    </tr>\n",
       "  </tbody>\n",
       "</table>\n",
       "</div>"
      ],
      "text/plain": [
       "      user gender  age  occupation    zip\n",
       "6039  6040      M   25           6  11106"
      ]
     },
     "execution_count": 111,
     "metadata": {},
     "output_type": "execute_result"
    }
   ],
   "source": [
    "# Последний пользователь в списке\n",
    "users.sort_values('user', ascending=False).head(1)"
   ]
  },
  {
   "cell_type": "code",
   "execution_count": 144,
   "metadata": {
    "collapsed": true
   },
   "outputs": [],
   "source": [
    "NEW_USER_ID = 6041\n",
    "\n",
    "new_user = pd.DataFrame([[NEW_USER_ID, 'M', 32, 6, 123456]],\n",
    "                        columns=['user', 'gender', 'age', 'occupation', 'zip'])"
   ]
  },
  {
   "cell_type": "code",
   "execution_count": 127,
   "metadata": {
    "scrolled": true
   },
   "outputs": [
    {
     "data": {
      "text/html": [
       "<div>\n",
       "<style>\n",
       "    .dataframe thead tr:only-child th {\n",
       "        text-align: right;\n",
       "    }\n",
       "\n",
       "    .dataframe thead th {\n",
       "        text-align: left;\n",
       "    }\n",
       "\n",
       "    .dataframe tbody tr th {\n",
       "        vertical-align: top;\n",
       "    }\n",
       "</style>\n",
       "<table border=\"1\" class=\"dataframe\">\n",
       "  <thead>\n",
       "    <tr style=\"text-align: right;\">\n",
       "      <th></th>\n",
       "      <th>user</th>\n",
       "      <th>gender</th>\n",
       "      <th>age</th>\n",
       "      <th>occupation</th>\n",
       "      <th>zip</th>\n",
       "    </tr>\n",
       "  </thead>\n",
       "  <tbody>\n",
       "    <tr>\n",
       "      <th>6036</th>\n",
       "      <td>6037</td>\n",
       "      <td>F</td>\n",
       "      <td>45</td>\n",
       "      <td>1</td>\n",
       "      <td>76006</td>\n",
       "    </tr>\n",
       "    <tr>\n",
       "      <th>6037</th>\n",
       "      <td>6038</td>\n",
       "      <td>F</td>\n",
       "      <td>56</td>\n",
       "      <td>1</td>\n",
       "      <td>14706</td>\n",
       "    </tr>\n",
       "    <tr>\n",
       "      <th>6038</th>\n",
       "      <td>6039</td>\n",
       "      <td>F</td>\n",
       "      <td>45</td>\n",
       "      <td>0</td>\n",
       "      <td>01060</td>\n",
       "    </tr>\n",
       "    <tr>\n",
       "      <th>6039</th>\n",
       "      <td>6040</td>\n",
       "      <td>M</td>\n",
       "      <td>25</td>\n",
       "      <td>6</td>\n",
       "      <td>11106</td>\n",
       "    </tr>\n",
       "    <tr>\n",
       "      <th>0</th>\n",
       "      <td>6041</td>\n",
       "      <td>M</td>\n",
       "      <td>32</td>\n",
       "      <td>6</td>\n",
       "      <td>123456</td>\n",
       "    </tr>\n",
       "  </tbody>\n",
       "</table>\n",
       "</div>"
      ],
      "text/plain": [
       "      user gender  age  occupation     zip\n",
       "6036  6037      F   45           1   76006\n",
       "6037  6038      F   56           1   14706\n",
       "6038  6039      F   45           0   01060\n",
       "6039  6040      M   25           6   11106\n",
       "0     6041      M   32           6  123456"
      ]
     },
     "execution_count": 127,
     "metadata": {},
     "output_type": "execute_result"
    }
   ],
   "source": [
    "users.append(new_user).tail(5)"
   ]
  },
  {
   "cell_type": "code",
   "execution_count": 137,
   "metadata": {
    "collapsed": true
   },
   "outputs": [],
   "source": [
    "def filter_by_genre(df, genres, limit=100):\n",
    "    movies = []\n",
    "    for index, row in df[:limit].iterrows():\n",
    "        if row['genre'] <= genres:\n",
    "            movies.append((row['movie'], row['title'], row['genre'], row['rating_average']))\n",
    "    return movies"
   ]
  },
  {
   "cell_type": "code",
   "execution_count": 138,
   "metadata": {},
   "outputs": [
    {
     "name": "stdout",
     "output_type": "stream",
     "text": [
      "(318, 'Shawshank Redemption, The (1994)', set(['Drama']), 4.554557700942973)\n",
      "(1198, 'Raiders of the Lost Ark (1981)', set(['Action', 'Adventure']), 4.477724741447892)\n",
      "(527, \"Schindler's List (1993)\", set(['Drama', 'War']), 4.510416666666667)\n",
      "(858, 'Godfather, The (1972)', set(['Action', 'Drama', 'Crime']), 4.524966261808367)\n",
      "(2762, 'Sixth Sense, The (1999)', set(['Thriller']), 4.406262708418057)\n",
      "(50, 'Usual Suspects, The (1995)', set(['Thriller', 'Crime']), 4.517106001121705)\n",
      "(593, 'Silence of the Lambs, The (1991)', set(['Drama', 'Thriller']), 4.3518231186966645)\n",
      "(2028, 'Saving Private Ryan (1998)', set(['Action', 'Drama', 'War']), 4.337353938937053)\n",
      "(1196, 'Star Wars: Episode V - The Empire Strikes Back (1980)', set(['Action', 'Drama', 'War', 'Adventure', 'Sci-Fi']), 4.292976588628763)\n",
      "(2571, 'Matrix, The (1999)', set(['Action', 'Sci-Fi', 'Thriller']), 4.315830115830116)\n",
      "(1193, \"One Flew Over the Cuckoo's Nest (1975)\", set(['Drama']), 4.390724637681159)\n",
      "(608, 'Fargo (1996)', set(['Drama', 'Thriller', 'Crime']), 4.254675686430561)\n",
      "(296, 'Pulp Fiction (1994)', set(['Drama', 'Crime']), 4.278212805158913)\n",
      "(1221, 'Godfather: Part II, The (1974)', set(['Action', 'Drama', 'Crime']), 4.357565011820331)\n",
      "(110, 'Braveheart (1995)', set(['Action', 'Drama', 'War']), 4.234957020057307)\n",
      "(750, 'Dr. Strangelove or: How I Learned to Stop Worrying and Love the Bomb (1963)', set(['Sci-Fi', 'War']), 4.4498902706656915)\n",
      "(908, 'North by Northwest (1959)', set(['Drama', 'Thriller']), 4.38403041825095)\n",
      "(1213, 'GoodFellas (1990)', set(['Drama', 'Crime']), 4.275196137598069)\n",
      "(904, 'Rear Window (1954)', set(['Mystery', 'Thriller']), 4.476190476190476)\n",
      "(923, 'Citizen Kane (1941)', set(['Drama']), 4.388888888888889)\n",
      "(1240, 'Terminator, The (1984)', set(['Action', 'Sci-Fi', 'Thriller']), 4.152049571020019)\n",
      "(1225, 'Amadeus (1984)', set(['Drama']), 4.251808972503618)\n",
      "(1207, 'To Kill a Mockingbird (1962)', set(['Drama']), 4.425646551724138)\n",
      "(589, 'Terminator 2: Judgment Day (1991)', set(['Action', 'Sci-Fi', 'Thriller']), 4.058512646281616)\n",
      "(1250, 'Bridge on the River Kwai, The (1957)', set(['Drama', 'War']), 4.386993603411514)\n",
      "(1704, 'Good Will Hunting (1997)', set(['Drama']), 4.176356589147287)\n",
      "(457, 'Fugitive, The (1993)', set(['Action', 'Thriller']), 4.103258145363409)\n",
      "(1200, 'Aliens (1986)', set(['Action', 'Sci-Fi', 'Thriller', 'War']), 4.125824175824176)\n",
      "(3578, 'Gladiator (2000)', set(['Action', 'Drama']), 4.106029106029106)\n",
      "(1291, 'Indiana Jones and the Last Crusade (1989)', set(['Action', 'Adventure']), 4.133292383292384)\n",
      "(1208, 'Apocalypse Now (1979)', set(['Drama', 'War']), 4.243197278911564)\n",
      "(1036, 'Die Hard (1988)', set(['Action', 'Thriller']), 4.121848739495798)\n",
      "(1204, 'Lawrence of Arabia (1962)', set(['Adventure', 'War']), 4.401925391095066)\n",
      "(1233, 'Boat, The (Das Boot) (1981)', set(['Action', 'Drama', 'War']), 4.302697302697303)\n",
      "(2019, 'Seven Samurai (The Magnificent Seven) (Shichinin no samurai) (1954)', set(['Action', 'Drama']), 4.560509554140127)\n",
      "(1358, 'Sling Blade (1996)', set(['Drama', 'Thriller']), 4.208156329651657)\n",
      "(111, 'Taxi Driver (1976)', set(['Drama', 'Thriller']), 4.183870967741935)\n",
      "(924, '2001: A Space Odyssey (1968)', set(['Drama', 'Mystery', 'Sci-Fi', 'Thriller']), 4.068764568764569)\n",
      "(1242, 'Glory (1989)', set(['Action', 'Drama', 'War']), 4.193345323741007)\n",
      "(3147, 'Green Mile, The (1999)', set(['Drama', 'Thriller']), 4.154664484451718)\n",
      "(903, 'Vertigo (1958)', set(['Mystery', 'Thriller']), 4.27292817679558)\n",
      "(1089, 'Reservoir Dogs (1992)', set(['Thriller', 'Crime']), 4.13582208101668)\n",
      "(1610, 'Hunt for Red October, The (1990)', set(['Action', 'Thriller']), 4.052058111380146)\n",
      "(1262, 'Great Escape, The (1963)', set(['Adventure', 'War']), 4.376436781609195)\n",
      "(2959, 'Fight Club (1999)', set(['Drama']), 4.077188146106134)\n",
      "(1222, 'Full Metal Jacket (1987)', set(['Action', 'Drama', 'War']), 4.110845295055821)\n",
      "(953, \"It's a Wonderful Life (1946)\", set(['Drama']), 4.299039780521262)\n",
      "(47, 'Seven (Se7en) (1995)', set(['Thriller', 'Crime']), 4.106420404573439)\n",
      "(150, 'Apollo 13 (1995)', set(['Drama']), 4.073541167066347)\n",
      "(1206, 'Clockwork Orange, A (1971)', set(['Sci-Fi']), 4.0781122864117165)\n",
      "(1961, 'Rain Man (1988)', set(['Drama']), 4.053383458646617)\n",
      "(1090, 'Platoon (1986)', set(['Drama', 'War']), 4.090113735783027)\n",
      "(3471, 'Close Encounters of the Third Kind (1977)', set(['Drama', 'Sci-Fi']), 4.0144727773949)\n",
      "(1299, 'Killing Fields, The (1984)', set(['Drama', 'War']), 4.248633879781421)\n"
     ]
    }
   ],
   "source": [
    "good_genres = {'Sci-Fi', 'Mystery', 'War', 'Thriller', 'Action', 'Adventure', 'Drama', 'Crime'}\n",
    "for m in filter_by_genre(movie_ratings.sort_values('wr_99', ascending=False), good_genres):\n",
    "    print(m)"
   ]
  },
  {
   "cell_type": "code",
   "execution_count": 143,
   "metadata": {
    "scrolled": false
   },
   "outputs": [
    {
     "name": "stdout",
     "output_type": "stream",
     "text": [
      "(3593, 'Battlefield Earth (2000)', set(['Action', 'Sci-Fi']), 1.6111111111111112)\n",
      "(1556, 'Speed 2: Cruise Control (1997)', set(['Action', 'Romance', 'Thriller']), 1.8719346049046321)\n",
      "(1562, 'Batman & Robin (1997)', set(['Action', 'Adventure', 'Crime']), 2.257425742574257)\n",
      "(160, 'Congo (1995)', set(['Action', 'Mystery', 'Adventure', 'Sci-Fi']), 2.2389380530973453)\n",
      "(2643, 'Superman IV: The Quest for Peace (1987)', set(['Action', 'Adventure', 'Sci-Fi']), 1.8885542168674698)\n",
      "(173, 'Judge Dredd (1995)', set(['Action', 'Adventure', 'Sci-Fi']), 2.3085106382978724)\n",
      "(2642, 'Superman III (1983)', set(['Action', 'Adventure', 'Sci-Fi']), 2.336594911937378)\n",
      "(1882, 'Godzilla (1998)', set(['Action', 'Sci-Fi']), 2.3246492985971945)\n",
      "(1499, 'Anaconda (1997)', set(['Action', 'Adventure', 'Thriller']), 2.200501253132832)\n",
      "(737, 'Barb Wire (1996)', set(['Action', 'Sci-Fi']), 2.03)\n",
      "(2153, 'Avengers, The (1998)', set(['Action', 'Adventure']), 1.9965277777777777)\n",
      "(2986, 'Robocop 2 (1990)', set(['Action', 'Sci-Fi', 'Crime']), 2.3813387423935093)\n",
      "(3354, 'Mission to Mars (2000)', set(['Sci-Fi']), 2.5952080706179066)\n",
      "(880, 'Island of Dr. Moreau, The (1996)', set(['Sci-Fi', 'Thriller']), 2.200617283950617)\n",
      "(2422, 'Karate Kid III, The (1989)', set(['Action', 'Drama', 'Adventure']), 2.1223776223776225)\n",
      "(1831, 'Lost in Space (1998)', set(['Action', 'Sci-Fi', 'Thriller']), 2.5847076461769114)\n",
      "(2412, 'Rocky V (1990)', set(['Action', 'Drama']), 2.102189781021898)\n",
      "(153, 'Batman Forever (1995)', set(['Action', 'Comedy', 'Adventure', 'Crime']), 2.642213642213642)\n",
      "(762, 'Striptease (1996)', set(['Comedy', 'Crime']), 2.184563758389262)\n",
      "(849, 'Escape from L.A. (1996)', set(['Action', 'Adventure', 'Thriller', 'Sci-Fi']), 2.5107632093933465)\n",
      "(485, 'Last Action Hero (1993)', set(['Action', 'Comedy']), 2.508)\n",
      "(3238, 'Eye of the Beholder (1999)', set(['Thriller']), 2.134831460674157)\n",
      "(1590, 'Event Horizon (1997)', set(['Action', 'Mystery', 'Sci-Fi', 'Thriller']), 2.5180722891566263)\n",
      "(2950, 'Blue Lagoon, The (1980)', set(['Drama', 'Romance', 'Adventure']), 2.332369942196532)\n",
      "(208, 'Waterworld (1995)', set(['Action', 'Adventure']), 2.6313364055299537)\n",
      "(3268, 'Stop! Or My Mom Will Shoot (1992)', set(['Action', 'Comedy']), 1.782122905027933)\n",
      "(519, 'Robocop 3 (1993)', set(['Sci-Fi', 'Thriller']), 1.9405940594059405)\n",
      "(2555, 'Baby Geniuses (1999)', set(['Comedy']), 1.701219512195122)\n",
      "(435, 'Coneheads (1993)', set(['Comedy', 'Sci-Fi']), 2.6060037523452158)\n",
      "(3113, 'End of Days (1999)', set(['Action', 'Thriller']), 2.629432624113475)\n",
      "(1037, 'Lawnmower Man, The (1992)', set(['Action', 'Sci-Fi', 'Thriller']), 2.6601626016260163)\n",
      "(193, 'Showgirls (1995)', set(['Drama']), 2.0506912442396312)\n",
      "(19, 'Ace Ventura: When Nature Calls (1995)', set(['Comedy']), 2.480719794344473)\n",
      "(2616, 'Dick Tracy (1990)', set(['Action', 'Crime']), 2.6826923076923075)\n",
      "(2383, 'Police Academy 6: City Under Siege (1989)', set(['Comedy']), 1.657718120805369)\n",
      "(2404, 'Rambo III (1988)', set(['Action', 'War']), 2.3421926910299002)\n",
      "(172, 'Johnny Mnemonic (1995)', set(['Action', 'Sci-Fi', 'Thriller']), 2.576419213973799)\n",
      "(2568, 'Mod Squad, The (1999)', set(['Action', 'Crime']), 2.107476635514019)\n",
      "(1779, 'Sphere (1998)', set(['Adventure', 'Thriller', 'Sci-Fi']), 2.6635859519408505)\n",
      "(2380, 'Police Academy 3: Back in Training (1986)', set(['Comedy']), 2.0306122448979593)\n",
      "(2381, 'Police Academy 4: Citizens on Patrol (1987)', set(['Comedy']), 1.9137931034482758)\n",
      "(2808, 'Universal Soldier (1992)', set(['Action', 'Sci-Fi']), 2.512)\n",
      "(1591, 'Spawn (1997)', set(['Action', 'Adventure', 'Thriller', 'Sci-Fi']), 2.6210526315789475)\n",
      "(2827, \"Astronaut's Wife, The (1999)\", set(['Sci-Fi', 'Thriller']), 2.442073170731707)\n",
      "(2382, 'Police Academy 5: Assignment: Miami Beach (1988)', set(['Comedy']), 1.7666666666666666)\n",
      "(3802, 'Freejack (1992)', set(['Action', 'Sci-Fi']), 2.4177631578947367)\n",
      "(420, 'Beverly Hills Cop III (1994)', set(['Action', 'Comedy']), 2.5056818181818183)\n",
      "(405, 'Highlander III: The Sorcerer (1994)', set(['Action', 'Sci-Fi']), 2.123152709359606)\n",
      "(1373, 'Star Trek V: The Final Frontier (1989)', set(['Action', 'Adventure', 'Sci-Fi']), 2.7487765089722673)\n",
      "(2906, 'Random Hearts (1999)', set(['Drama', 'Romance']), 2.328)\n",
      "(2421, 'Karate Kid, Part II, The (1986)', set(['Action', 'Drama', 'Adventure']), 2.6771488469601676)\n",
      "(2798, 'Problem Child (1990)', set(['Comedy']), 1.925)\n",
      "(3705, 'Bird on a Wire (1990)', set(['Action', 'Romance', 'Adventure', 'Thriller']), 2.5842105263157893)\n",
      "(2471, 'Crocodile Dundee II (1988)', set(['Comedy', 'Adventure']), 2.6280193236714977)\n",
      "(1391, 'Mars Attacks! (1996)', set(['Action', 'Comedy', 'Sci-Fi', 'War']), 2.9003724394785846)\n",
      "(2817, 'Aces: Iron Eagle III (1992)', set(['Action', 'War']), 1.64)\n",
      "(2816, 'Iron Eagle II (1988)', set(['Action', 'War']), 1.864864864864865)\n",
      "(3392, 'She-Devil (1989)', set(['Comedy']), 1.9363057324840764)\n",
      "(2392, 'Jack Frost (1998)', set(['Drama', 'Comedy']), 2.234146341463415)\n",
      "(688, 'Operation Dumbo Drop (1995)', set(['Action', 'Comedy', 'Adventure', 'War']), 2.276995305164319)\n",
      "(3243, 'Encino Man (1992)', set(['Comedy']), 2.5017064846416384)\n",
      "(2126, 'Snake Eyes (1998)', set(['Action', 'Mystery', 'Thriller', 'Crime']), 2.7454545454545456)\n",
      "(466, 'Hot Shots! Part Deux (1993)', set(['Action', 'Comedy', 'War']), 2.7958115183246073)\n",
      "(2411, 'Rocky IV (1985)', set(['Action', 'Drama']), 2.6453333333333333)\n",
      "(3285, 'Beach, The (2000)', set(['Drama', 'Adventure']), 2.702127659574468)\n",
      "(2379, 'Police Academy 2: Their First Assignment (1985)', set(['Comedy']), 2.3866666666666667)\n",
      "(3257, 'Bodyguard, The (1992)', set(['Action', 'Drama', 'Romance', 'Thriller']), 2.8594249201277955)\n",
      "(3697, 'Predator 2 (1990)', set(['Action', 'Sci-Fi', 'Thriller']), 2.8678071539657854)\n",
      "(3004, 'Bachelor, The (1999)', set(['Romance', 'Comedy']), 2.4801587301587302)\n",
      "(2699, 'Arachnophobia (1990)', set(['Action', 'Comedy', 'Sci-Fi', 'Thriller']), 3.0029261155815656)\n",
      "(3710, 'Action Jackson (1988)', set(['Action', 'Comedy']), 2.254054054054054)\n",
      "(95, 'Broken Arrow (1996)', set(['Action', 'Thriller']), 2.876175548589342)\n",
      "(1377, 'Batman Returns (1992)', set(['Action', 'Comedy', 'Adventure', 'Crime']), 2.9767216294859358)\n",
      "(3190, 'Supernova (2000)', set(['Adventure', 'Sci-Fi']), 2.1490683229813663)\n",
      "(2549, 'Wing Commander (1999)', set(['Action', 'Sci-Fi']), 2.2285714285714286)\n",
      "(2408, 'Cocoon: The Return (1988)', set(['Comedy', 'Sci-Fi']), 2.528957528957529)\n",
      "(2722, 'Deep Blue Sea (1999)', set(['Action', 'Sci-Fi', 'Thriller']), 2.8729096989966556)\n",
      "(2799, 'Problem Child 2 (1991)', set(['Comedy']), 1.5555555555555556)\n",
      "(784, 'Cable Guy, The (1996)', set(['Comedy']), 2.72987012987013)\n",
      "(540, 'Sliver (1993)', set(['Thriller']), 2.2189349112426036)\n",
      "(2369, 'Desperately Seeking Susan (1985)', set(['Romance', 'Comedy']), 2.954761904761905)\n",
      "(3689, \"Porky's II: The Next Day (1983)\", set(['Comedy']), 2.0425531914893615)\n",
      "(185, 'Net, The (1995)', set(['Sci-Fi', 'Thriller']), 2.869947275922671)\n",
      "(65, 'Bio-Dome (1996)', set(['Comedy']), 2.062937062937063)\n",
      "(1445, \"McHale's Navy (1997)\", set(['Comedy', 'War']), 2.173076923076923)\n",
      "(413, 'Airheads (1994)', set(['Comedy']), 2.5306122448979593)\n",
      "(2815, 'Iron Eagle (1986)', set(['Action', 'War']), 2.5940959409594098)\n",
      "(2748, 'Allan Quartermain and the Lost City of Gold (1987)', set(['Action', 'Adventure']), 2.051094890510949)\n",
      "(3299, 'Hanging Up (2000)', set(['Drama', 'Comedy']), 2.2954545454545454)\n",
      "(2907, 'Superstar (1999)', set(['Comedy']), 2.4460093896713615)\n",
      "(419, 'Beverly Hillbillies, The (1993)', set(['Comedy']), 2.1923076923076925)\n",
      "(1544, 'Lost World: Jurassic Park, The (1997)', set(['Action', 'Adventure', 'Thriller', 'Sci-Fi']), 3.036653386454183)\n",
      "(1100, 'Days of Thunder (1990)', set(['Action', 'Romance']), 2.807142857142857)\n",
      "(2468, \"Jumpin' Jack Flash (1986)\", set(['Action', 'Romance', 'Comedy', 'Thriller']), 2.770053475935829)\n",
      "(429, 'Cabin Boy (1994)', set(['Comedy']), 2.379679144385027)\n",
      "(3688, \"Porky's (1981)\", set(['Comedy']), 2.734513274336283)\n",
      "(2473, 'Soul Man (1986)', set(['Comedy']), 2.4093264248704664)\n",
      "(66, 'Lawnmower Man 2: Beyond Cyberspace (1996)', set(['Sci-Fi', 'Thriller']), 1.6701030927835052)\n",
      "(1431, 'Beverly Hills Ninja (1997)', set(['Action', 'Comedy']), 2.5474137931034484)\n",
      "(2147, 'Clan of the Cave Bear, The (1986)', set(['Drama']), 2.54978354978355)\n",
      "(473, 'In the Army Now (1994)', set(['Comedy', 'War']), 2.225165562913907)\n",
      "(3258, 'Death Becomes Her (1992)', set(['Comedy']), 2.752212389380531)\n",
      "(1091, \"Weekend at Bernie's (1989)\", set(['Comedy']), 2.7935656836461127)\n",
      "(2723, 'Mystery Men (1999)', set(['Action', 'Comedy', 'Adventure']), 3.0105509964830013)\n",
      "(2402, 'Rambo: First Blood Part II (1985)', set(['Action', 'War']), 2.825436408977556)\n",
      "(234, 'Exit to Eden (1994)', set(['Comedy']), 2.2244897959183674)\n",
      "(2805, 'Mickey Blue Eyes (1999)', set(['Romance', 'Comedy']), 2.8683035714285716)\n",
      "(3690, \"Porky's Revenge (1985)\", set(['Comedy']), 2.040983606557377)\n",
      "(393, 'Street Fighter (1994)', set(['Action']), 1.8571428571428572)\n",
      "(3388, 'Harry and the Hendersons (1987)', set(['Comedy']), 2.7181208053691277)\n",
      "(3484, 'Skulls, The (2000)', set(['Thriller']), 2.728476821192053)\n",
      "(1863, 'Major League: Back to the Minors (1998)', set(['Comedy']), 2.2183098591549295)\n",
      "(3325, 'Next Best Thing, The (2000)', set(['Drama', 'Comedy']), 2.33125)\n",
      "(1911, 'Doctor Dolittle (1998)', set(['Comedy']), 2.9297912713472485)\n",
      "(427, 'Boxing Helena (1993)', set(['Mystery', 'Romance', 'Thriller']), 2.3674698795180724)\n",
      "(3821, 'Nutty Professor II: The Klumps (2000)', set(['Comedy']), 2.6411290322580645)\n",
      "(1681, 'Mortal Kombat: Annihilation (1997)', set(['Action', 'Adventure']), 2.1791044776119404)\n",
      "(2735, 'Golden Child, The (1986)', set(['Action', 'Comedy', 'Adventure']), 2.89760348583878)\n",
      "(3764, 'F/X 2 (1992)', set(['Action', 'Thriller', 'Crime']), 2.6408163265306124)\n",
      "(3646, \"Big Momma's House (2000)\", set(['Comedy']), 2.4444444444444446)\n",
      "(2373, 'Red Sonja (1985)', set(['Action', 'Adventure']), 2.4814814814814814)\n",
      "(3841, 'Air America (1990)', set(['Action', 'Comedy']), 2.7549019607843137)\n",
      "(3254, \"Wayne's World 2 (1993)\", set(['Comedy']), 2.884526558891455)\n",
      "(1894, 'Six Days Seven Nights (1998)', set(['Romance', 'Comedy', 'Adventure']), 2.910828025477707)\n",
      "(1461, 'Vegas Vacation (1997)', set(['Comedy']), 2.574074074074074)\n",
      "(410, 'Addams Family Values (1993)', set(['Comedy']), 2.9071274298056156)\n",
      "(379, 'Timecop (1994)', set(['Action', 'Sci-Fi']), 2.889908256880734)\n",
      "(3146, 'Deuce Bigalow: Male Gigolo (1999)', set(['Comedy']), 2.762987012987013)\n",
      "(3248, 'Sister Act 2: Back in the Habit (1993)', set(['Comedy']), 2.5396039603960396)\n",
      "(442, 'Demolition Man (1993)', set(['Action', 'Sci-Fi']), 2.9921875)\n",
      "(839, 'Crow: City of Angels, The (1996)', set(['Action', 'Thriller']), 2.214814814814815)\n",
      "(3717, 'Gone in 60 Seconds (2000)', set(['Action', 'Crime']), 2.9743150684931505)\n",
      "(2410, 'Rocky III (1982)', set(['Action', 'Drama']), 2.8753117206982544)\n",
      "(2807, 'Universal Soldier: The Return (1999)', set(['Action', 'Sci-Fi']), 1.7582417582417582)\n",
      "(2375, 'Money Pit, The (1986)', set(['Comedy']), 2.8923444976076556)\n",
      "(836, 'Chain Reaction (1996)', set(['Action', 'Adventure', 'Thriller']), 2.654008438818565)\n",
      "(44, 'Mortal Kombat (1995)', set(['Action', 'Adventure']), 2.787781350482315)\n",
      "(2532, 'Conquest of the Planet of the Apes (1972)', set(['Action', 'Sci-Fi']), 2.8435754189944134)\n",
      "(415, 'Another Stakeout (1993)', set(['Comedy', 'Thriller']), 2.4804469273743015)\n",
      "(2840, 'Stigmata (1999)', set(['Thriller']), 2.899761336515513)\n",
      "(1503, '8 Heads in a Duffel Bag (1997)', set(['Comedy']), 2.317241379310345)\n",
      "(2034, 'Black Hole, The (1979)', set(['Sci-Fi']), 2.772881355932203)\n",
      "(370, 'Naked Gun 33 1/3: The Final Insult (1994)', set(['Comedy']), 2.8980582524271843)\n",
      "(2792, 'Airplane II: The Sequel (1982)', set(['Comedy']), 2.9802867383512543)\n",
      "(3766, 'Missing in Action (1984)', set(['Action', 'War']), 2.5392670157068062)\n",
      "(3316, 'Reindeer Games (2000)', set(['Action', 'Thriller']), 2.7681660899653977)\n",
      "(585, 'Brady Bunch Movie, The (1995)', set(['Comedy']), 2.9066985645933014)\n",
      "(1438, \"Dante's Peak (1997)\", set(['Action', 'Thriller']), 2.8161993769470404)\n",
      "(1513, \"Romy and Michele's High School Reunion (1997)\", set(['Comedy']), 3.0463576158940397)\n",
      "(3824, 'Autumn in New York (2000)', set(['Drama', 'Romance']), 2.128205128205128)\n",
      "(3401, 'Baby... Secret of the Lost Legend (1985)', set(['Adventure', 'Sci-Fi']), 2.106194690265487)\n",
      "(818, 'Very Brady Sequel, A (1996)', set(['Comedy']), 2.560846560846561)\n",
      "(3752, 'Me, Myself and Irene (2000)', set(['Comedy']), 3.0)\n",
      "(2335, 'Waterboy, The (1998)', set(['Comedy']), 2.926190476190476)\n",
      "(256, 'Junior (1994)', set(['Comedy', 'Sci-Fi']), 2.6513761467889907)\n",
      "(3286, 'Snow Day (2000)', set(['Comedy']), 2.2131147540983607)\n",
      "(3156, 'Bicentennial Man (1999)', set(['Drama', 'Comedy', 'Sci-Fi']), 2.906005221932115)\n",
      "(3208, 'Loaded Weapon 1 (1993)', set(['Action', 'Comedy']), 2.7613636363636362)\n",
      "(2531, 'Battle for the Planet of the Apes (1973)', set(['Action', 'Sci-Fi']), 2.8333333333333335)\n",
      "(276, 'Milk Money (1994)', set(['Romance', 'Comedy']), 2.692982456140351)\n",
      "(2296, 'Night at the Roxbury, A (1998)', set(['Comedy']), 2.3819444444444446)\n",
      "(1515, 'Volcano (1997)', set(['Drama', 'Thriller']), 2.5580110497237567)\n",
      "(2188, '54 (1998)', set(['Drama']), 2.7644787644787643)\n",
      "(2794, 'European Vacation (1985)', set(['Comedy']), 2.9220779220779223)\n",
      "(1676, 'Starship Troopers (1997)', set(['Action', 'War', 'Adventure', 'Sci-Fi']), 3.1332760103181427)\n",
      "(2806, 'Teaching Mrs. Tingle (1999)', set(['Comedy', 'Thriller']), 2.6331658291457285)\n",
      "(1752, 'Hard Rain (1998)', set(['Action', 'Thriller']), 2.6553398058252426)\n",
      "(3767, 'Missing in Action 2: The Beginning (1985)', set(['Action', 'War']), 2.0865384615384617)\n",
      "(1453, 'Beautician and the Beast, The (1997)', set(['Romance', 'Comedy']), 2.4324324324324325)\n",
      "(692, 'Solo (1996)', set(['Action', 'Sci-Fi', 'Thriller']), 2.1132075471698113)\n",
      "(3394, 'Blind Date (1987)', set(['Romance', 'Comedy']), 2.6714285714285713)\n",
      "(2598, 'Pushing Tin (1999)', set(['Comedy']), 3.016885553470919)\n",
      "(2961, 'Story of Us, The (1999)', set(['Drama', 'Comedy']), 2.817857142857143)\n",
      "(520, 'Robin Hood: Men in Tights (1993)', set(['Comedy']), 2.93048128342246)\n",
      "(2558, 'Forces of Nature (1999)', set(['Romance', 'Comedy']), 2.74468085106383)\n",
      "(518, 'Road to Wellville, The (1994)', set(['Comedy']), 2.4563758389261743)\n",
      "(542, 'Son in Law (1993)', set(['Comedy']), 2.674757281553398)\n",
      "(2574, 'Out-of-Towners, The (1999)', set(['Comedy']), 2.6683417085427137)\n",
      "(2526, 'Meteor (1979)', set(['Sci-Fi']), 2.366412213740458)\n",
      "(15, 'Cutthroat Island (1995)', set(['Action', 'Romance', 'Adventure']), 2.458904109589041)\n",
      "(434, 'Cliffhanger (1993)', set(['Action', 'Adventure', 'Crime']), 3.0845481049562684)\n",
      "(20, 'Money Train (1995)', set(['Action']), 2.5375)\n",
      "(1603, 'Mimic (1997)', set(['Sci-Fi', 'Thriller']), 2.925287356321839)\n",
      "(1488, \"Devil's Own, The (1997)\", set(['Action', 'Drama', 'War', 'Thriller']), 2.857638888888889)\n",
      "(3, 'Grumpier Old Men (1995)', set(['Romance', 'Comedy']), 3.01673640167364)\n"
     ]
    }
   ],
   "source": [
    "bad_genres = {'Comedy', 'Sci-Fi', 'Mystery', 'War', 'Thriller', 'Action', 'Adventure', 'Drama', 'Crime', 'Romance'}\n",
    "for m in filter_by_genre(movie_ratings.sort_values('wr', ascending=True), bad_genres, limit=300):\n",
    "    print(m)"
   ]
  },
  {
   "cell_type": "markdown",
   "metadata": {},
   "source": [
    "#### Для эксперимента я выбрал следующие фильмы:"
   ]
  },
  {
   "cell_type": "code",
   "execution_count": 155,
   "metadata": {
    "collapsed": true
   },
   "outputs": [],
   "source": [
    "my_movies = \"\"\"\n",
    "858 # 'Godfather, The (1972)' # 5\n",
    "593 # 'Silence of the Lambs, The (1991)' # 5\n",
    "1196 # 'Star Wars: Episode V - The Empire Strikes Back (1980)' # 4\n",
    "1233 # 'Boat, The (Das Boot) (1981)' # 4\n",
    "589 # 'Terminator 2: Judgment Day (1991)' # 5\n",
    "1240 # 'Terminator, The (1984)' # 5\n",
    "1221 # 'Godfather: Part II, The (1974)' # 5\n",
    "296 # 'Pulp Fiction (1994)' # 5\n",
    "1200 # 'Aliens (1986)' # 5\n",
    "3578 # 'Gladiator (2000)' # 4\n",
    "111 # 'Taxi Driver (1976)' # 5\n",
    "2959 # 'Fight Club (1999)' # 5\n",
    "608 # 'Fargo (1996)' # 4\n",
    "1556 # 'Speed 2: Cruise Control (1997)' # 2\n",
    "1562 # 'Batman & Robin (1997)' # 3\n",
    "153 # 'Batman Forever (1995)' # 3\n",
    "2404 # 'Rambo III (1988)' # 3\n",
    "2808 # 'Universal Soldier (1992)' # 3\n",
    "1499 # 'Anaconda (1997)' # 2\n",
    "\"\"\""
   ]
  },
  {
   "cell_type": "markdown",
   "metadata": {},
   "source": [
    "Сам я отношусь к тем пользователем, которые скорее поставят положительную оценку хорошему фильму, чем низкую плохому, поэтому в ретинге у меня больше позитивных оценок, и очень мало негативных."
   ]
  },
  {
   "cell_type": "code",
   "execution_count": 167,
   "metadata": {
    "scrolled": false
   },
   "outputs": [],
   "source": [
    "timestamp = 978300760\n",
    "\n",
    "new_ratings_list = []\n",
    "for l in my_movies.split('\\n'):\n",
    "    l = l.strip()\n",
    "    if l:\n",
    "        m_id, _, m_rating = l.split('#')\n",
    "        timestamp += 1000\n",
    "        new_ratings_list.append([NEW_USER_ID, int(m_id), int(m_rating), timestamp])\n",
    "\n",
    "new_ratings_df = pd.DataFrame(new_ratings_list, columns=['user', 'movie', 'rating', 'time'])"
   ]
  },
  {
   "cell_type": "code",
   "execution_count": 166,
   "metadata": {},
   "outputs": [
    {
     "data": {
      "text/html": [
       "<div>\n",
       "<style>\n",
       "    .dataframe thead tr:only-child th {\n",
       "        text-align: right;\n",
       "    }\n",
       "\n",
       "    .dataframe thead th {\n",
       "        text-align: left;\n",
       "    }\n",
       "\n",
       "    .dataframe tbody tr th {\n",
       "        vertical-align: top;\n",
       "    }\n",
       "</style>\n",
       "<table border=\"1\" class=\"dataframe\">\n",
       "  <thead>\n",
       "    <tr style=\"text-align: right;\">\n",
       "      <th></th>\n",
       "      <th>user</th>\n",
       "      <th>movie</th>\n",
       "      <th>rating</th>\n",
       "      <th>time</th>\n",
       "    </tr>\n",
       "  </thead>\n",
       "  <tbody>\n",
       "    <tr>\n",
       "      <th>0</th>\n",
       "      <td>6041</td>\n",
       "      <td>858</td>\n",
       "      <td>5</td>\n",
       "      <td>978301760</td>\n",
       "    </tr>\n",
       "    <tr>\n",
       "      <th>1</th>\n",
       "      <td>6041</td>\n",
       "      <td>593</td>\n",
       "      <td>5</td>\n",
       "      <td>978302760</td>\n",
       "    </tr>\n",
       "    <tr>\n",
       "      <th>2</th>\n",
       "      <td>6041</td>\n",
       "      <td>1196</td>\n",
       "      <td>4</td>\n",
       "      <td>978303760</td>\n",
       "    </tr>\n",
       "    <tr>\n",
       "      <th>3</th>\n",
       "      <td>6041</td>\n",
       "      <td>1233</td>\n",
       "      <td>4</td>\n",
       "      <td>978304760</td>\n",
       "    </tr>\n",
       "    <tr>\n",
       "      <th>4</th>\n",
       "      <td>6041</td>\n",
       "      <td>589</td>\n",
       "      <td>5</td>\n",
       "      <td>978305760</td>\n",
       "    </tr>\n",
       "    <tr>\n",
       "      <th>5</th>\n",
       "      <td>6041</td>\n",
       "      <td>1240</td>\n",
       "      <td>5</td>\n",
       "      <td>978306760</td>\n",
       "    </tr>\n",
       "    <tr>\n",
       "      <th>6</th>\n",
       "      <td>6041</td>\n",
       "      <td>1221</td>\n",
       "      <td>5</td>\n",
       "      <td>978307760</td>\n",
       "    </tr>\n",
       "    <tr>\n",
       "      <th>7</th>\n",
       "      <td>6041</td>\n",
       "      <td>296</td>\n",
       "      <td>5</td>\n",
       "      <td>978308760</td>\n",
       "    </tr>\n",
       "    <tr>\n",
       "      <th>8</th>\n",
       "      <td>6041</td>\n",
       "      <td>1200</td>\n",
       "      <td>5</td>\n",
       "      <td>978309760</td>\n",
       "    </tr>\n",
       "    <tr>\n",
       "      <th>9</th>\n",
       "      <td>6041</td>\n",
       "      <td>3578</td>\n",
       "      <td>4</td>\n",
       "      <td>978310760</td>\n",
       "    </tr>\n",
       "    <tr>\n",
       "      <th>10</th>\n",
       "      <td>6041</td>\n",
       "      <td>111</td>\n",
       "      <td>5</td>\n",
       "      <td>978311760</td>\n",
       "    </tr>\n",
       "    <tr>\n",
       "      <th>11</th>\n",
       "      <td>6041</td>\n",
       "      <td>2959</td>\n",
       "      <td>5</td>\n",
       "      <td>978312760</td>\n",
       "    </tr>\n",
       "    <tr>\n",
       "      <th>12</th>\n",
       "      <td>6041</td>\n",
       "      <td>608</td>\n",
       "      <td>4</td>\n",
       "      <td>978313760</td>\n",
       "    </tr>\n",
       "    <tr>\n",
       "      <th>13</th>\n",
       "      <td>6041</td>\n",
       "      <td>1556</td>\n",
       "      <td>2</td>\n",
       "      <td>978314760</td>\n",
       "    </tr>\n",
       "    <tr>\n",
       "      <th>14</th>\n",
       "      <td>6041</td>\n",
       "      <td>1562</td>\n",
       "      <td>3</td>\n",
       "      <td>978315760</td>\n",
       "    </tr>\n",
       "    <tr>\n",
       "      <th>15</th>\n",
       "      <td>6041</td>\n",
       "      <td>153</td>\n",
       "      <td>3</td>\n",
       "      <td>978316760</td>\n",
       "    </tr>\n",
       "    <tr>\n",
       "      <th>16</th>\n",
       "      <td>6041</td>\n",
       "      <td>2404</td>\n",
       "      <td>3</td>\n",
       "      <td>978317760</td>\n",
       "    </tr>\n",
       "    <tr>\n",
       "      <th>17</th>\n",
       "      <td>6041</td>\n",
       "      <td>2808</td>\n",
       "      <td>3</td>\n",
       "      <td>978318760</td>\n",
       "    </tr>\n",
       "    <tr>\n",
       "      <th>18</th>\n",
       "      <td>6041</td>\n",
       "      <td>1499</td>\n",
       "      <td>2</td>\n",
       "      <td>978319760</td>\n",
       "    </tr>\n",
       "  </tbody>\n",
       "</table>\n",
       "</div>"
      ],
      "text/plain": [
       "    user  movie  rating       time\n",
       "0   6041    858       5  978301760\n",
       "1   6041    593       5  978302760\n",
       "2   6041   1196       4  978303760\n",
       "3   6041   1233       4  978304760\n",
       "4   6041    589       5  978305760\n",
       "5   6041   1240       5  978306760\n",
       "6   6041   1221       5  978307760\n",
       "7   6041    296       5  978308760\n",
       "8   6041   1200       5  978309760\n",
       "9   6041   3578       4  978310760\n",
       "10  6041    111       5  978311760\n",
       "11  6041   2959       5  978312760\n",
       "12  6041    608       4  978313760\n",
       "13  6041   1556       2  978314760\n",
       "14  6041   1562       3  978315760\n",
       "15  6041    153       3  978316760\n",
       "16  6041   2404       3  978317760\n",
       "17  6041   2808       3  978318760\n",
       "18  6041   1499       2  978319760"
      ]
     },
     "execution_count": 166,
     "metadata": {},
     "output_type": "execute_result"
    }
   ],
   "source": [
    "ratings.append(new_ratings_df).tail(19)"
   ]
  },
  {
   "cell_type": "code",
   "execution_count": null,
   "metadata": {
    "collapsed": true
   },
   "outputs": [],
   "source": []
  }
 ],
 "metadata": {
  "kernelspec": {
   "display_name": "Python 2",
   "language": "python",
   "name": "python2"
  },
  "language_info": {
   "codemirror_mode": {
    "name": "ipython",
    "version": 2
   },
   "file_extension": ".py",
   "mimetype": "text/x-python",
   "name": "python",
   "nbconvert_exporter": "python",
   "pygments_lexer": "ipython2",
   "version": "2.7.13"
  }
 },
 "nbformat": 4,
 "nbformat_minor": 2
}
