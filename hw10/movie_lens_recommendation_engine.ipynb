{
 "cells": [
  {
   "cell_type": "code",
   "execution_count": 1,
   "metadata": {
    "collapsed": true
   },
   "outputs": [],
   "source": [
    "import numpy as np\n",
    "import pandas as pd\n",
    "import matplotlib.pyplot as plt\n",
    "\n",
    "%matplotlib inline"
   ]
  },
  {
   "cell_type": "markdown",
   "metadata": {},
   "source": [
    "## EDA"
   ]
  },
  {
   "cell_type": "markdown",
   "metadata": {},
   "source": [
    "### 1. Оценить количество фильмов, пользователей и оценок:"
   ]
  },
  {
   "cell_type": "code",
   "execution_count": 2,
   "metadata": {},
   "outputs": [
    {
     "name": "stderr",
     "output_type": "stream",
     "text": [
      "/Users/andrewlarin/anaconda2/lib/python2.7/site-packages/ipykernel_launcher.py:1: ParserWarning: Falling back to the 'python' engine because the 'c' engine does not support regex separators (separators > 1 char and different from '\\s+' are interpreted as regex); you can avoid this warning by specifying engine='python'.\n",
      "  \"\"\"Entry point for launching an IPython kernel.\n"
     ]
    }
   ],
   "source": [
    "users = pd.read_csv('ml-1m/users.dat', sep='::', names=['user', 'gender', 'age', 'occupation', 'zip'])"
   ]
  },
  {
   "cell_type": "code",
   "execution_count": 3,
   "metadata": {},
   "outputs": [
    {
     "name": "stdout",
     "output_type": "stream",
     "text": [
      "<class 'pandas.core.frame.DataFrame'>\n",
      "RangeIndex: 6040 entries, 0 to 6039\n",
      "Data columns (total 5 columns):\n",
      "user          6040 non-null int64\n",
      "gender        6040 non-null object\n",
      "age           6040 non-null int64\n",
      "occupation    6040 non-null int64\n",
      "zip           6040 non-null object\n",
      "dtypes: int64(3), object(2)\n",
      "memory usage: 236.0+ KB\n"
     ]
    }
   ],
   "source": [
    "users.info()"
   ]
  },
  {
   "cell_type": "code",
   "execution_count": 4,
   "metadata": {
    "scrolled": true
   },
   "outputs": [
    {
     "data": {
      "text/html": [
       "<div>\n",
       "<style>\n",
       "    .dataframe thead tr:only-child th {\n",
       "        text-align: right;\n",
       "    }\n",
       "\n",
       "    .dataframe thead th {\n",
       "        text-align: left;\n",
       "    }\n",
       "\n",
       "    .dataframe tbody tr th {\n",
       "        vertical-align: top;\n",
       "    }\n",
       "</style>\n",
       "<table border=\"1\" class=\"dataframe\">\n",
       "  <thead>\n",
       "    <tr style=\"text-align: right;\">\n",
       "      <th></th>\n",
       "      <th>user</th>\n",
       "      <th>gender</th>\n",
       "      <th>age</th>\n",
       "      <th>occupation</th>\n",
       "      <th>zip</th>\n",
       "    </tr>\n",
       "  </thead>\n",
       "  <tbody>\n",
       "    <tr>\n",
       "      <th>0</th>\n",
       "      <td>1</td>\n",
       "      <td>F</td>\n",
       "      <td>1</td>\n",
       "      <td>10</td>\n",
       "      <td>48067</td>\n",
       "    </tr>\n",
       "    <tr>\n",
       "      <th>1</th>\n",
       "      <td>2</td>\n",
       "      <td>M</td>\n",
       "      <td>56</td>\n",
       "      <td>16</td>\n",
       "      <td>70072</td>\n",
       "    </tr>\n",
       "    <tr>\n",
       "      <th>2</th>\n",
       "      <td>3</td>\n",
       "      <td>M</td>\n",
       "      <td>25</td>\n",
       "      <td>15</td>\n",
       "      <td>55117</td>\n",
       "    </tr>\n",
       "    <tr>\n",
       "      <th>3</th>\n",
       "      <td>4</td>\n",
       "      <td>M</td>\n",
       "      <td>45</td>\n",
       "      <td>7</td>\n",
       "      <td>02460</td>\n",
       "    </tr>\n",
       "    <tr>\n",
       "      <th>4</th>\n",
       "      <td>5</td>\n",
       "      <td>M</td>\n",
       "      <td>25</td>\n",
       "      <td>20</td>\n",
       "      <td>55455</td>\n",
       "    </tr>\n",
       "  </tbody>\n",
       "</table>\n",
       "</div>"
      ],
      "text/plain": [
       "   user gender  age  occupation    zip\n",
       "0     1      F    1          10  48067\n",
       "1     2      M   56          16  70072\n",
       "2     3      M   25          15  55117\n",
       "3     4      M   45           7  02460\n",
       "4     5      M   25          20  55455"
      ]
     },
     "execution_count": 4,
     "metadata": {},
     "output_type": "execute_result"
    }
   ],
   "source": [
    "users.head(5)"
   ]
  },
  {
   "cell_type": "code",
   "execution_count": 5,
   "metadata": {
    "scrolled": false
   },
   "outputs": [
    {
     "name": "stderr",
     "output_type": "stream",
     "text": [
      "/Users/andrewlarin/anaconda2/lib/python2.7/site-packages/ipykernel_launcher.py:1: ParserWarning: Falling back to the 'python' engine because the 'c' engine does not support regex separators (separators > 1 char and different from '\\s+' are interpreted as regex); you can avoid this warning by specifying engine='python'.\n",
      "  \"\"\"Entry point for launching an IPython kernel.\n"
     ]
    }
   ],
   "source": [
    "ratings = pd.read_csv('ml-1m/ratings.dat', sep='::', names=['user', 'movie', 'rating', 'time'])"
   ]
  },
  {
   "cell_type": "code",
   "execution_count": 6,
   "metadata": {},
   "outputs": [
    {
     "name": "stdout",
     "output_type": "stream",
     "text": [
      "<class 'pandas.core.frame.DataFrame'>\n",
      "RangeIndex: 1000209 entries, 0 to 1000208\n",
      "Data columns (total 4 columns):\n",
      "user      1000209 non-null int64\n",
      "movie     1000209 non-null int64\n",
      "rating    1000209 non-null int64\n",
      "time      1000209 non-null int64\n",
      "dtypes: int64(4)\n",
      "memory usage: 30.5 MB\n"
     ]
    }
   ],
   "source": [
    "ratings.info()"
   ]
  },
  {
   "cell_type": "code",
   "execution_count": 7,
   "metadata": {
    "scrolled": true
   },
   "outputs": [
    {
     "data": {
      "text/html": [
       "<div>\n",
       "<style>\n",
       "    .dataframe thead tr:only-child th {\n",
       "        text-align: right;\n",
       "    }\n",
       "\n",
       "    .dataframe thead th {\n",
       "        text-align: left;\n",
       "    }\n",
       "\n",
       "    .dataframe tbody tr th {\n",
       "        vertical-align: top;\n",
       "    }\n",
       "</style>\n",
       "<table border=\"1\" class=\"dataframe\">\n",
       "  <thead>\n",
       "    <tr style=\"text-align: right;\">\n",
       "      <th></th>\n",
       "      <th>user</th>\n",
       "      <th>movie</th>\n",
       "      <th>rating</th>\n",
       "      <th>time</th>\n",
       "    </tr>\n",
       "  </thead>\n",
       "  <tbody>\n",
       "    <tr>\n",
       "      <th>0</th>\n",
       "      <td>1</td>\n",
       "      <td>1193</td>\n",
       "      <td>5</td>\n",
       "      <td>978300760</td>\n",
       "    </tr>\n",
       "    <tr>\n",
       "      <th>1</th>\n",
       "      <td>1</td>\n",
       "      <td>661</td>\n",
       "      <td>3</td>\n",
       "      <td>978302109</td>\n",
       "    </tr>\n",
       "    <tr>\n",
       "      <th>2</th>\n",
       "      <td>1</td>\n",
       "      <td>914</td>\n",
       "      <td>3</td>\n",
       "      <td>978301968</td>\n",
       "    </tr>\n",
       "    <tr>\n",
       "      <th>3</th>\n",
       "      <td>1</td>\n",
       "      <td>3408</td>\n",
       "      <td>4</td>\n",
       "      <td>978300275</td>\n",
       "    </tr>\n",
       "    <tr>\n",
       "      <th>4</th>\n",
       "      <td>1</td>\n",
       "      <td>2355</td>\n",
       "      <td>5</td>\n",
       "      <td>978824291</td>\n",
       "    </tr>\n",
       "  </tbody>\n",
       "</table>\n",
       "</div>"
      ],
      "text/plain": [
       "   user  movie  rating       time\n",
       "0     1   1193       5  978300760\n",
       "1     1    661       3  978302109\n",
       "2     1    914       3  978301968\n",
       "3     1   3408       4  978300275\n",
       "4     1   2355       5  978824291"
      ]
     },
     "execution_count": 7,
     "metadata": {},
     "output_type": "execute_result"
    }
   ],
   "source": [
    "ratings.head(5)"
   ]
  },
  {
   "cell_type": "code",
   "execution_count": 8,
   "metadata": {
    "scrolled": true
   },
   "outputs": [
    {
     "name": "stderr",
     "output_type": "stream",
     "text": [
      "/Users/andrewlarin/anaconda2/lib/python2.7/site-packages/ipykernel_launcher.py:1: ParserWarning: Falling back to the 'python' engine because the 'c' engine does not support regex separators (separators > 1 char and different from '\\s+' are interpreted as regex); you can avoid this warning by specifying engine='python'.\n",
      "  \"\"\"Entry point for launching an IPython kernel.\n"
     ]
    }
   ],
   "source": [
    "movies = pd.read_csv('ml-1m/movies.dat', sep='::', names=['movie', 'title', 'genre'])"
   ]
  },
  {
   "cell_type": "code",
   "execution_count": 9,
   "metadata": {},
   "outputs": [
    {
     "name": "stdout",
     "output_type": "stream",
     "text": [
      "<class 'pandas.core.frame.DataFrame'>\n",
      "RangeIndex: 3883 entries, 0 to 3882\n",
      "Data columns (total 3 columns):\n",
      "movie    3883 non-null int64\n",
      "title    3883 non-null object\n",
      "genre    3883 non-null object\n",
      "dtypes: int64(1), object(2)\n",
      "memory usage: 91.1+ KB\n"
     ]
    }
   ],
   "source": [
    "movies.info()"
   ]
  },
  {
   "cell_type": "code",
   "execution_count": 10,
   "metadata": {},
   "outputs": [
    {
     "data": {
      "text/html": [
       "<div>\n",
       "<style>\n",
       "    .dataframe thead tr:only-child th {\n",
       "        text-align: right;\n",
       "    }\n",
       "\n",
       "    .dataframe thead th {\n",
       "        text-align: left;\n",
       "    }\n",
       "\n",
       "    .dataframe tbody tr th {\n",
       "        vertical-align: top;\n",
       "    }\n",
       "</style>\n",
       "<table border=\"1\" class=\"dataframe\">\n",
       "  <thead>\n",
       "    <tr style=\"text-align: right;\">\n",
       "      <th></th>\n",
       "      <th>movie</th>\n",
       "      <th>title</th>\n",
       "      <th>genre</th>\n",
       "    </tr>\n",
       "  </thead>\n",
       "  <tbody>\n",
       "    <tr>\n",
       "      <th>0</th>\n",
       "      <td>1</td>\n",
       "      <td>Toy Story (1995)</td>\n",
       "      <td>Animation|Children's|Comedy</td>\n",
       "    </tr>\n",
       "    <tr>\n",
       "      <th>1</th>\n",
       "      <td>2</td>\n",
       "      <td>Jumanji (1995)</td>\n",
       "      <td>Adventure|Children's|Fantasy</td>\n",
       "    </tr>\n",
       "    <tr>\n",
       "      <th>2</th>\n",
       "      <td>3</td>\n",
       "      <td>Grumpier Old Men (1995)</td>\n",
       "      <td>Comedy|Romance</td>\n",
       "    </tr>\n",
       "    <tr>\n",
       "      <th>3</th>\n",
       "      <td>4</td>\n",
       "      <td>Waiting to Exhale (1995)</td>\n",
       "      <td>Comedy|Drama</td>\n",
       "    </tr>\n",
       "    <tr>\n",
       "      <th>4</th>\n",
       "      <td>5</td>\n",
       "      <td>Father of the Bride Part II (1995)</td>\n",
       "      <td>Comedy</td>\n",
       "    </tr>\n",
       "  </tbody>\n",
       "</table>\n",
       "</div>"
      ],
      "text/plain": [
       "   movie                               title                         genre\n",
       "0      1                    Toy Story (1995)   Animation|Children's|Comedy\n",
       "1      2                      Jumanji (1995)  Adventure|Children's|Fantasy\n",
       "2      3             Grumpier Old Men (1995)                Comedy|Romance\n",
       "3      4            Waiting to Exhale (1995)                  Comedy|Drama\n",
       "4      5  Father of the Bride Part II (1995)                        Comedy"
      ]
     },
     "execution_count": 10,
     "metadata": {},
     "output_type": "execute_result"
    }
   ],
   "source": [
    "movies.head(5)"
   ]
  },
  {
   "cell_type": "markdown",
   "metadata": {},
   "source": [
    "#### Как видно, жанры представленны в виде строки, что не очень удобно для поиска. Преобразуем это свойство в другой тип данных - множество:"
   ]
  },
  {
   "cell_type": "code",
   "execution_count": 11,
   "metadata": {},
   "outputs": [],
   "source": [
    "movies['genre'] = movies['genre'].map(lambda x: set([x.strip() for x in x.split('|')]))"
   ]
  },
  {
   "cell_type": "code",
   "execution_count": 12,
   "metadata": {},
   "outputs": [
    {
     "data": {
      "text/html": [
       "<div>\n",
       "<style>\n",
       "    .dataframe thead tr:only-child th {\n",
       "        text-align: right;\n",
       "    }\n",
       "\n",
       "    .dataframe thead th {\n",
       "        text-align: left;\n",
       "    }\n",
       "\n",
       "    .dataframe tbody tr th {\n",
       "        vertical-align: top;\n",
       "    }\n",
       "</style>\n",
       "<table border=\"1\" class=\"dataframe\">\n",
       "  <thead>\n",
       "    <tr style=\"text-align: right;\">\n",
       "      <th></th>\n",
       "      <th>movie</th>\n",
       "      <th>title</th>\n",
       "      <th>genre</th>\n",
       "    </tr>\n",
       "  </thead>\n",
       "  <tbody>\n",
       "    <tr>\n",
       "      <th>0</th>\n",
       "      <td>1</td>\n",
       "      <td>Toy Story (1995)</td>\n",
       "      <td>{Comedy, Children's, Animation}</td>\n",
       "    </tr>\n",
       "    <tr>\n",
       "      <th>1</th>\n",
       "      <td>2</td>\n",
       "      <td>Jumanji (1995)</td>\n",
       "      <td>{Children's, Adventure, Fantasy}</td>\n",
       "    </tr>\n",
       "    <tr>\n",
       "      <th>2</th>\n",
       "      <td>3</td>\n",
       "      <td>Grumpier Old Men (1995)</td>\n",
       "      <td>{Romance, Comedy}</td>\n",
       "    </tr>\n",
       "    <tr>\n",
       "      <th>3</th>\n",
       "      <td>4</td>\n",
       "      <td>Waiting to Exhale (1995)</td>\n",
       "      <td>{Drama, Comedy}</td>\n",
       "    </tr>\n",
       "    <tr>\n",
       "      <th>4</th>\n",
       "      <td>5</td>\n",
       "      <td>Father of the Bride Part II (1995)</td>\n",
       "      <td>{Comedy}</td>\n",
       "    </tr>\n",
       "  </tbody>\n",
       "</table>\n",
       "</div>"
      ],
      "text/plain": [
       "   movie                               title                             genre\n",
       "0      1                    Toy Story (1995)   {Comedy, Children's, Animation}\n",
       "1      2                      Jumanji (1995)  {Children's, Adventure, Fantasy}\n",
       "2      3             Grumpier Old Men (1995)                 {Romance, Comedy}\n",
       "3      4            Waiting to Exhale (1995)                   {Drama, Comedy}\n",
       "4      5  Father of the Bride Part II (1995)                          {Comedy}"
      ]
     },
     "execution_count": 12,
     "metadata": {},
     "output_type": "execute_result"
    }
   ],
   "source": [
    "movies.head(5)"
   ]
  },
  {
   "cell_type": "markdown",
   "metadata": {},
   "source": [
    "### 2. Оценить распределения (предлагается построить распределения количества оценок по фильмам и пользователям и увидеть т.н. \"длинные хвосты\" в распределениях):"
   ]
  },
  {
   "cell_type": "markdown",
   "metadata": {},
   "source": [
    "#### Когда примерно стало понятно с какими данными предстоит работать, соединим их в один датасет, чтобы можно было провести более подробное исследование:"
   ]
  },
  {
   "cell_type": "code",
   "execution_count": 13,
   "metadata": {
    "collapsed": true
   },
   "outputs": [],
   "source": [
    "movie_lens = pd.merge(pd.merge(ratings, users), movies)"
   ]
  },
  {
   "cell_type": "code",
   "execution_count": 14,
   "metadata": {},
   "outputs": [
    {
     "name": "stdout",
     "output_type": "stream",
     "text": [
      "<class 'pandas.core.frame.DataFrame'>\n",
      "Int64Index: 1000209 entries, 0 to 1000208\n",
      "Data columns (total 10 columns):\n",
      "user          1000209 non-null int64\n",
      "movie         1000209 non-null int64\n",
      "rating        1000209 non-null int64\n",
      "time          1000209 non-null int64\n",
      "gender        1000209 non-null object\n",
      "age           1000209 non-null int64\n",
      "occupation    1000209 non-null int64\n",
      "zip           1000209 non-null object\n",
      "title         1000209 non-null object\n",
      "genre         1000209 non-null object\n",
      "dtypes: int64(6), object(4)\n",
      "memory usage: 83.9+ MB\n"
     ]
    }
   ],
   "source": [
    "movie_lens.info()"
   ]
  },
  {
   "cell_type": "code",
   "execution_count": 15,
   "metadata": {},
   "outputs": [
    {
     "data": {
      "text/html": [
       "<div>\n",
       "<style>\n",
       "    .dataframe thead tr:only-child th {\n",
       "        text-align: right;\n",
       "    }\n",
       "\n",
       "    .dataframe thead th {\n",
       "        text-align: left;\n",
       "    }\n",
       "\n",
       "    .dataframe tbody tr th {\n",
       "        vertical-align: top;\n",
       "    }\n",
       "</style>\n",
       "<table border=\"1\" class=\"dataframe\">\n",
       "  <thead>\n",
       "    <tr style=\"text-align: right;\">\n",
       "      <th></th>\n",
       "      <th>user</th>\n",
       "      <th>movie</th>\n",
       "      <th>rating</th>\n",
       "      <th>time</th>\n",
       "      <th>gender</th>\n",
       "      <th>age</th>\n",
       "      <th>occupation</th>\n",
       "      <th>zip</th>\n",
       "      <th>title</th>\n",
       "      <th>genre</th>\n",
       "    </tr>\n",
       "  </thead>\n",
       "  <tbody>\n",
       "    <tr>\n",
       "      <th>0</th>\n",
       "      <td>1</td>\n",
       "      <td>1193</td>\n",
       "      <td>5</td>\n",
       "      <td>978300760</td>\n",
       "      <td>F</td>\n",
       "      <td>1</td>\n",
       "      <td>10</td>\n",
       "      <td>48067</td>\n",
       "      <td>One Flew Over the Cuckoo's Nest (1975)</td>\n",
       "      <td>{Drama}</td>\n",
       "    </tr>\n",
       "    <tr>\n",
       "      <th>1</th>\n",
       "      <td>2</td>\n",
       "      <td>1193</td>\n",
       "      <td>5</td>\n",
       "      <td>978298413</td>\n",
       "      <td>M</td>\n",
       "      <td>56</td>\n",
       "      <td>16</td>\n",
       "      <td>70072</td>\n",
       "      <td>One Flew Over the Cuckoo's Nest (1975)</td>\n",
       "      <td>{Drama}</td>\n",
       "    </tr>\n",
       "    <tr>\n",
       "      <th>2</th>\n",
       "      <td>12</td>\n",
       "      <td>1193</td>\n",
       "      <td>4</td>\n",
       "      <td>978220179</td>\n",
       "      <td>M</td>\n",
       "      <td>25</td>\n",
       "      <td>12</td>\n",
       "      <td>32793</td>\n",
       "      <td>One Flew Over the Cuckoo's Nest (1975)</td>\n",
       "      <td>{Drama}</td>\n",
       "    </tr>\n",
       "    <tr>\n",
       "      <th>3</th>\n",
       "      <td>15</td>\n",
       "      <td>1193</td>\n",
       "      <td>4</td>\n",
       "      <td>978199279</td>\n",
       "      <td>M</td>\n",
       "      <td>25</td>\n",
       "      <td>7</td>\n",
       "      <td>22903</td>\n",
       "      <td>One Flew Over the Cuckoo's Nest (1975)</td>\n",
       "      <td>{Drama}</td>\n",
       "    </tr>\n",
       "    <tr>\n",
       "      <th>4</th>\n",
       "      <td>17</td>\n",
       "      <td>1193</td>\n",
       "      <td>5</td>\n",
       "      <td>978158471</td>\n",
       "      <td>M</td>\n",
       "      <td>50</td>\n",
       "      <td>1</td>\n",
       "      <td>95350</td>\n",
       "      <td>One Flew Over the Cuckoo's Nest (1975)</td>\n",
       "      <td>{Drama}</td>\n",
       "    </tr>\n",
       "  </tbody>\n",
       "</table>\n",
       "</div>"
      ],
      "text/plain": [
       "   user  movie  rating       time gender  age  occupation    zip  \\\n",
       "0     1   1193       5  978300760      F    1          10  48067   \n",
       "1     2   1193       5  978298413      M   56          16  70072   \n",
       "2    12   1193       4  978220179      M   25          12  32793   \n",
       "3    15   1193       4  978199279      M   25           7  22903   \n",
       "4    17   1193       5  978158471      M   50           1  95350   \n",
       "\n",
       "                                    title    genre  \n",
       "0  One Flew Over the Cuckoo's Nest (1975)  {Drama}  \n",
       "1  One Flew Over the Cuckoo's Nest (1975)  {Drama}  \n",
       "2  One Flew Over the Cuckoo's Nest (1975)  {Drama}  \n",
       "3  One Flew Over the Cuckoo's Nest (1975)  {Drama}  \n",
       "4  One Flew Over the Cuckoo's Nest (1975)  {Drama}  "
      ]
     },
     "execution_count": 15,
     "metadata": {},
     "output_type": "execute_result"
    }
   ],
   "source": [
    "movie_lens.head(5)"
   ]
  },
  {
   "cell_type": "code",
   "execution_count": 16,
   "metadata": {},
   "outputs": [
    {
     "data": {
      "text/html": [
       "<div>\n",
       "<style>\n",
       "    .dataframe thead tr:only-child th {\n",
       "        text-align: right;\n",
       "    }\n",
       "\n",
       "    .dataframe thead th {\n",
       "        text-align: left;\n",
       "    }\n",
       "\n",
       "    .dataframe tbody tr th {\n",
       "        vertical-align: top;\n",
       "    }\n",
       "</style>\n",
       "<table border=\"1\" class=\"dataframe\">\n",
       "  <thead>\n",
       "    <tr style=\"text-align: right;\">\n",
       "      <th></th>\n",
       "      <th>movie</th>\n",
       "      <th>title</th>\n",
       "      <th>count</th>\n",
       "    </tr>\n",
       "  </thead>\n",
       "  <tbody>\n",
       "    <tr>\n",
       "      <th>0</th>\n",
       "      <td>1</td>\n",
       "      <td>Toy Story (1995)</td>\n",
       "      <td>2077</td>\n",
       "    </tr>\n",
       "    <tr>\n",
       "      <th>1</th>\n",
       "      <td>2</td>\n",
       "      <td>Jumanji (1995)</td>\n",
       "      <td>701</td>\n",
       "    </tr>\n",
       "    <tr>\n",
       "      <th>2</th>\n",
       "      <td>3</td>\n",
       "      <td>Grumpier Old Men (1995)</td>\n",
       "      <td>478</td>\n",
       "    </tr>\n",
       "    <tr>\n",
       "      <th>3</th>\n",
       "      <td>4</td>\n",
       "      <td>Waiting to Exhale (1995)</td>\n",
       "      <td>170</td>\n",
       "    </tr>\n",
       "    <tr>\n",
       "      <th>4</th>\n",
       "      <td>5</td>\n",
       "      <td>Father of the Bride Part II (1995)</td>\n",
       "      <td>296</td>\n",
       "    </tr>\n",
       "    <tr>\n",
       "      <th>5</th>\n",
       "      <td>6</td>\n",
       "      <td>Heat (1995)</td>\n",
       "      <td>940</td>\n",
       "    </tr>\n",
       "    <tr>\n",
       "      <th>6</th>\n",
       "      <td>7</td>\n",
       "      <td>Sabrina (1995)</td>\n",
       "      <td>458</td>\n",
       "    </tr>\n",
       "    <tr>\n",
       "      <th>7</th>\n",
       "      <td>8</td>\n",
       "      <td>Tom and Huck (1995)</td>\n",
       "      <td>68</td>\n",
       "    </tr>\n",
       "    <tr>\n",
       "      <th>8</th>\n",
       "      <td>9</td>\n",
       "      <td>Sudden Death (1995)</td>\n",
       "      <td>102</td>\n",
       "    </tr>\n",
       "    <tr>\n",
       "      <th>9</th>\n",
       "      <td>10</td>\n",
       "      <td>GoldenEye (1995)</td>\n",
       "      <td>888</td>\n",
       "    </tr>\n",
       "  </tbody>\n",
       "</table>\n",
       "</div>"
      ],
      "text/plain": [
       "   movie                               title  count\n",
       "0      1                    Toy Story (1995)   2077\n",
       "1      2                      Jumanji (1995)    701\n",
       "2      3             Grumpier Old Men (1995)    478\n",
       "3      4            Waiting to Exhale (1995)    170\n",
       "4      5  Father of the Bride Part II (1995)    296\n",
       "5      6                         Heat (1995)    940\n",
       "6      7                      Sabrina (1995)    458\n",
       "7      8                 Tom and Huck (1995)     68\n",
       "8      9                 Sudden Death (1995)    102\n",
       "9     10                    GoldenEye (1995)    888"
      ]
     },
     "execution_count": 16,
     "metadata": {},
     "output_type": "execute_result"
    }
   ],
   "source": [
    "ratings_total = movie_lens.groupby(['movie', 'title'])['movie'] \\\n",
    "    .agg(['count']) \\\n",
    "    .reset_index()\n",
    "ratings_total.head(10)"
   ]
  },
  {
   "cell_type": "markdown",
   "metadata": {},
   "source": [
    "#### Посмотрим распределение:"
   ]
  },
  {
   "cell_type": "code",
   "execution_count": 17,
   "metadata": {
    "collapsed": true
   },
   "outputs": [],
   "source": [
    "ratings_total['rounded_count'] = ratings_total['count'].map(lambda x: (x // 100) * 100)"
   ]
  },
  {
   "cell_type": "code",
   "execution_count": 18,
   "metadata": {},
   "outputs": [
    {
     "data": {
      "text/html": [
       "<div>\n",
       "<style>\n",
       "    .dataframe thead tr:only-child th {\n",
       "        text-align: right;\n",
       "    }\n",
       "\n",
       "    .dataframe thead th {\n",
       "        text-align: left;\n",
       "    }\n",
       "\n",
       "    .dataframe tbody tr th {\n",
       "        vertical-align: top;\n",
       "    }\n",
       "</style>\n",
       "<table border=\"1\" class=\"dataframe\">\n",
       "  <thead>\n",
       "    <tr style=\"text-align: right;\">\n",
       "      <th></th>\n",
       "      <th>movie</th>\n",
       "      <th>title</th>\n",
       "      <th>count</th>\n",
       "      <th>rounded_count</th>\n",
       "    </tr>\n",
       "  </thead>\n",
       "  <tbody>\n",
       "    <tr>\n",
       "      <th>0</th>\n",
       "      <td>1</td>\n",
       "      <td>Toy Story (1995)</td>\n",
       "      <td>2077</td>\n",
       "      <td>2000</td>\n",
       "    </tr>\n",
       "    <tr>\n",
       "      <th>1</th>\n",
       "      <td>2</td>\n",
       "      <td>Jumanji (1995)</td>\n",
       "      <td>701</td>\n",
       "      <td>700</td>\n",
       "    </tr>\n",
       "    <tr>\n",
       "      <th>2</th>\n",
       "      <td>3</td>\n",
       "      <td>Grumpier Old Men (1995)</td>\n",
       "      <td>478</td>\n",
       "      <td>400</td>\n",
       "    </tr>\n",
       "    <tr>\n",
       "      <th>3</th>\n",
       "      <td>4</td>\n",
       "      <td>Waiting to Exhale (1995)</td>\n",
       "      <td>170</td>\n",
       "      <td>100</td>\n",
       "    </tr>\n",
       "    <tr>\n",
       "      <th>4</th>\n",
       "      <td>5</td>\n",
       "      <td>Father of the Bride Part II (1995)</td>\n",
       "      <td>296</td>\n",
       "      <td>200</td>\n",
       "    </tr>\n",
       "    <tr>\n",
       "      <th>5</th>\n",
       "      <td>6</td>\n",
       "      <td>Heat (1995)</td>\n",
       "      <td>940</td>\n",
       "      <td>900</td>\n",
       "    </tr>\n",
       "    <tr>\n",
       "      <th>6</th>\n",
       "      <td>7</td>\n",
       "      <td>Sabrina (1995)</td>\n",
       "      <td>458</td>\n",
       "      <td>400</td>\n",
       "    </tr>\n",
       "    <tr>\n",
       "      <th>7</th>\n",
       "      <td>8</td>\n",
       "      <td>Tom and Huck (1995)</td>\n",
       "      <td>68</td>\n",
       "      <td>0</td>\n",
       "    </tr>\n",
       "    <tr>\n",
       "      <th>8</th>\n",
       "      <td>9</td>\n",
       "      <td>Sudden Death (1995)</td>\n",
       "      <td>102</td>\n",
       "      <td>100</td>\n",
       "    </tr>\n",
       "    <tr>\n",
       "      <th>9</th>\n",
       "      <td>10</td>\n",
       "      <td>GoldenEye (1995)</td>\n",
       "      <td>888</td>\n",
       "      <td>800</td>\n",
       "    </tr>\n",
       "  </tbody>\n",
       "</table>\n",
       "</div>"
      ],
      "text/plain": [
       "   movie                               title  count  rounded_count\n",
       "0      1                    Toy Story (1995)   2077           2000\n",
       "1      2                      Jumanji (1995)    701            700\n",
       "2      3             Grumpier Old Men (1995)    478            400\n",
       "3      4            Waiting to Exhale (1995)    170            100\n",
       "4      5  Father of the Bride Part II (1995)    296            200\n",
       "5      6                         Heat (1995)    940            900\n",
       "6      7                      Sabrina (1995)    458            400\n",
       "7      8                 Tom and Huck (1995)     68              0\n",
       "8      9                 Sudden Death (1995)    102            100\n",
       "9     10                    GoldenEye (1995)    888            800"
      ]
     },
     "execution_count": 18,
     "metadata": {},
     "output_type": "execute_result"
    }
   ],
   "source": [
    "ratings_total.head(10)"
   ]
  },
  {
   "cell_type": "code",
   "execution_count": 19,
   "metadata": {},
   "outputs": [
    {
     "data": {
      "text/plain": [
       "0       0.455208\n",
       "100     0.160011\n",
       "200     0.099298\n",
       "300     0.070426\n",
       "400     0.048300\n",
       "500     0.032110\n",
       "600     0.027253\n",
       "700     0.022126\n",
       "800     0.016190\n",
       "900     0.013222\n",
       "1000    0.011333\n",
       "1100    0.009174\n",
       "1300    0.007016\n",
       "1200    0.005666\n",
       "1400    0.004587\n",
       "1700    0.003238\n",
       "1500    0.002698\n",
       "1600    0.002428\n",
       "2200    0.001889\n",
       "2500    0.001619\n",
       "1900    0.000809\n",
       "2000    0.000809\n",
       "2100    0.000809\n",
       "2300    0.000809\n",
       "2600    0.000809\n",
       "2900    0.000540\n",
       "1800    0.000540\n",
       "2400    0.000540\n",
       "2800    0.000270\n",
       "3400    0.000270\n",
       "Name: rounded_count, dtype: float64"
      ]
     },
     "execution_count": 19,
     "metadata": {},
     "output_type": "execute_result"
    }
   ],
   "source": [
    "ratings_total['rounded_count'].value_counts(normalize=True)"
   ]
  },
  {
   "cell_type": "markdown",
   "metadata": {},
   "source": [
    "Как видно, почти половина фильмов имеет меньше 100 голосов зрителей. 16% - от 100 до 200 голосов, в остальном, распределение очень неравномерно."
   ]
  },
  {
   "cell_type": "markdown",
   "metadata": {},
   "source": [
    "### 3. Посмотреть на смещение оценок, увидеть сколько пользователей занижают оценки и завышают оценки (посмотреть разницу со средним значением, например):"
   ]
  },
  {
   "cell_type": "code",
   "execution_count": 20,
   "metadata": {},
   "outputs": [
    {
     "data": {
      "text/plain": [
       "3.581564453029317"
      ]
     },
     "execution_count": 20,
     "metadata": {},
     "output_type": "execute_result"
    }
   ],
   "source": [
    "vote_average = movie_lens['rating'].mean()\n",
    "vote_average"
   ]
  },
  {
   "cell_type": "code",
   "execution_count": 21,
   "metadata": {},
   "outputs": [],
   "source": [
    "def compare_mean_rating(x):\n",
    "    diff = x - vote_average\n",
    "    if diff > 0.5:\n",
    "        return 1\n",
    "    elif diff < -0.5:\n",
    "        return -1\n",
    "    else:\n",
    "        return 0"
   ]
  },
  {
   "cell_type": "code",
   "execution_count": 22,
   "metadata": {},
   "outputs": [
    {
     "data": {
      "text/html": [
       "<div>\n",
       "<style>\n",
       "    .dataframe thead tr:only-child th {\n",
       "        text-align: right;\n",
       "    }\n",
       "\n",
       "    .dataframe thead th {\n",
       "        text-align: left;\n",
       "    }\n",
       "\n",
       "    .dataframe tbody tr th {\n",
       "        vertical-align: top;\n",
       "    }\n",
       "</style>\n",
       "<table border=\"1\" class=\"dataframe\">\n",
       "  <thead>\n",
       "    <tr style=\"text-align: right;\">\n",
       "      <th></th>\n",
       "      <th>user</th>\n",
       "      <th>mean</th>\n",
       "      <th>compare_mean_rating</th>\n",
       "    </tr>\n",
       "  </thead>\n",
       "  <tbody>\n",
       "    <tr>\n",
       "      <th>0</th>\n",
       "      <td>1</td>\n",
       "      <td>4.188679</td>\n",
       "      <td>1</td>\n",
       "    </tr>\n",
       "    <tr>\n",
       "      <th>1</th>\n",
       "      <td>2</td>\n",
       "      <td>3.713178</td>\n",
       "      <td>0</td>\n",
       "    </tr>\n",
       "    <tr>\n",
       "      <th>2</th>\n",
       "      <td>3</td>\n",
       "      <td>3.901961</td>\n",
       "      <td>0</td>\n",
       "    </tr>\n",
       "    <tr>\n",
       "      <th>3</th>\n",
       "      <td>4</td>\n",
       "      <td>4.190476</td>\n",
       "      <td>1</td>\n",
       "    </tr>\n",
       "    <tr>\n",
       "      <th>4</th>\n",
       "      <td>5</td>\n",
       "      <td>3.146465</td>\n",
       "      <td>0</td>\n",
       "    </tr>\n",
       "  </tbody>\n",
       "</table>\n",
       "</div>"
      ],
      "text/plain": [
       "   user      mean  compare_mean_rating\n",
       "0     1  4.188679                    1\n",
       "1     2  3.713178                    0\n",
       "2     3  3.901961                    0\n",
       "3     4  4.190476                    1\n",
       "4     5  3.146465                    0"
      ]
     },
     "execution_count": 22,
     "metadata": {},
     "output_type": "execute_result"
    }
   ],
   "source": [
    "users_average = movie_lens.groupby(['user'])['rating'] \\\n",
    "    .agg(['mean']) \\\n",
    "    .reset_index()\n",
    "users_average['compare_mean_rating'] = users_average['mean'].map(compare_mean_rating)\n",
    "users_average.head(5)"
   ]
  },
  {
   "cell_type": "code",
   "execution_count": 23,
   "metadata": {},
   "outputs": [
    {
     "data": {
      "text/plain": [
       " 0    0.732616\n",
       " 1    0.186258\n",
       "-1    0.081126\n",
       "Name: compare_mean_rating, dtype: float64"
      ]
     },
     "execution_count": 23,
     "metadata": {},
     "output_type": "execute_result"
    }
   ],
   "source": [
    "users_average['compare_mean_rating'].value_counts(normalize=True)"
   ]
  },
  {
   "cell_type": "markdown",
   "metadata": {},
   "source": [
    "Как видно, большинство пользователей ставит оценку в пределах +- 0.5 от средней оценки всего датасета, еще 18 процентов склонны завышать оценку и только 8 процентов - занижать."
   ]
  },
  {
   "cell_type": "markdown",
   "metadata": {},
   "source": [
    "### 4. Оценить средние оценки по фильмам и по пользователям:"
   ]
  },
  {
   "cell_type": "markdown",
   "metadata": {},
   "source": [
    "#### Не очень понятно что здесь имеется ввиду, поэтому объединю его со следующим пунктом: "
   ]
  },
  {
   "cell_type": "markdown",
   "metadata": {},
   "source": [
    "### 5. Выбрать критерий, показывающий, что фильм нравится всем, или не нравится никому, и вывести топ фильмов из этих списков. Знаете ли вы эти фильмы, согласны ли с оценками?"
   ]
  },
  {
   "cell_type": "markdown",
   "metadata": {},
   "source": [
    "#### Чтобы учесть успешность/неуспешность фильма надо учитывать 2 параметра:\n",
    "#### 1) Средний рейтинг фильма;\n",
    "#### 2) Количество проголосовавших за этот фильм;\n",
    "#### Учитывать пользователей занижающих или завышающих рейтинг мы не будем, т.к. из количество не очень велико. Но при этом будем учитывать минимальное количество голосов, для которых можно считать оценку, так как очень много фильмов с малым количеством голосов и они могут сильно исказить истинную картину.\n",
    "#### Сама же формула выглядит следующим образом:"
   ]
  },
  {
   "cell_type": "markdown",
   "metadata": {},
   "source": [
    "<p>взвешенный вес (WR) = (v / (v+m)) * R + (m / (v+m)) * C</p>\n",
    "<p></p>\n",
    "<p>где:</p>\n",
    "<ul>\n",
    "<li>R = Средний рейтинг фильма</li>\n",
    "<li>v = Количество проголосовавших за этот фильм</li>\n",
    "<li>m = Минимальное количество голосов для оценка</li>\n",
    "<li>C = Средний рейтинг для всей выборки</li>\n",
    "</ul>"
   ]
  },
  {
   "cell_type": "code",
   "execution_count": 24,
   "metadata": {},
   "outputs": [],
   "source": [
    "del users_average"
   ]
  },
  {
   "cell_type": "code",
   "execution_count": 25,
   "metadata": {},
   "outputs": [],
   "source": [
    "ratings_total = ratings_total.rename(columns={'count': 'votes_count'})[['movie', 'votes_count']]"
   ]
  },
  {
   "cell_type": "code",
   "execution_count": 26,
   "metadata": {},
   "outputs": [],
   "source": [
    "ratings_average = movie_lens.groupby(['movie'])['rating'] \\\n",
    "    .agg(['mean']) \\\n",
    "    .reset_index()"
   ]
  },
  {
   "cell_type": "code",
   "execution_count": 27,
   "metadata": {
    "collapsed": true
   },
   "outputs": [],
   "source": [
    "ratings_average = ratings_average.rename(columns={'mean': 'rating_average'})[['movie', 'rating_average']]"
   ]
  },
  {
   "cell_type": "code",
   "execution_count": 28,
   "metadata": {},
   "outputs": [],
   "source": [
    "movie_ratings = pd.merge(pd.merge(movies, ratings_total), ratings_average)"
   ]
  },
  {
   "cell_type": "code",
   "execution_count": 29,
   "metadata": {
    "scrolled": true
   },
   "outputs": [
    {
     "data": {
      "text/html": [
       "<div>\n",
       "<style>\n",
       "    .dataframe thead tr:only-child th {\n",
       "        text-align: right;\n",
       "    }\n",
       "\n",
       "    .dataframe thead th {\n",
       "        text-align: left;\n",
       "    }\n",
       "\n",
       "    .dataframe tbody tr th {\n",
       "        vertical-align: top;\n",
       "    }\n",
       "</style>\n",
       "<table border=\"1\" class=\"dataframe\">\n",
       "  <thead>\n",
       "    <tr style=\"text-align: right;\">\n",
       "      <th></th>\n",
       "      <th>movie</th>\n",
       "      <th>title</th>\n",
       "      <th>genre</th>\n",
       "      <th>votes_count</th>\n",
       "      <th>rating_average</th>\n",
       "    </tr>\n",
       "  </thead>\n",
       "  <tbody>\n",
       "    <tr>\n",
       "      <th>0</th>\n",
       "      <td>1</td>\n",
       "      <td>Toy Story (1995)</td>\n",
       "      <td>{Comedy, Children's, Animation}</td>\n",
       "      <td>2077</td>\n",
       "      <td>4.146846</td>\n",
       "    </tr>\n",
       "    <tr>\n",
       "      <th>1</th>\n",
       "      <td>2</td>\n",
       "      <td>Jumanji (1995)</td>\n",
       "      <td>{Children's, Adventure, Fantasy}</td>\n",
       "      <td>701</td>\n",
       "      <td>3.201141</td>\n",
       "    </tr>\n",
       "    <tr>\n",
       "      <th>2</th>\n",
       "      <td>3</td>\n",
       "      <td>Grumpier Old Men (1995)</td>\n",
       "      <td>{Romance, Comedy}</td>\n",
       "      <td>478</td>\n",
       "      <td>3.016736</td>\n",
       "    </tr>\n",
       "    <tr>\n",
       "      <th>3</th>\n",
       "      <td>4</td>\n",
       "      <td>Waiting to Exhale (1995)</td>\n",
       "      <td>{Drama, Comedy}</td>\n",
       "      <td>170</td>\n",
       "      <td>2.729412</td>\n",
       "    </tr>\n",
       "    <tr>\n",
       "      <th>4</th>\n",
       "      <td>5</td>\n",
       "      <td>Father of the Bride Part II (1995)</td>\n",
       "      <td>{Comedy}</td>\n",
       "      <td>296</td>\n",
       "      <td>3.006757</td>\n",
       "    </tr>\n",
       "  </tbody>\n",
       "</table>\n",
       "</div>"
      ],
      "text/plain": [
       "   movie                               title  \\\n",
       "0      1                    Toy Story (1995)   \n",
       "1      2                      Jumanji (1995)   \n",
       "2      3             Grumpier Old Men (1995)   \n",
       "3      4            Waiting to Exhale (1995)   \n",
       "4      5  Father of the Bride Part II (1995)   \n",
       "\n",
       "                              genre  votes_count  rating_average  \n",
       "0   {Comedy, Children's, Animation}         2077        4.146846  \n",
       "1  {Children's, Adventure, Fantasy}          701        3.201141  \n",
       "2                 {Romance, Comedy}          478        3.016736  \n",
       "3                   {Drama, Comedy}          170        2.729412  \n",
       "4                          {Comedy}          296        3.006757  "
      ]
     },
     "execution_count": 29,
     "metadata": {},
     "output_type": "execute_result"
    }
   ],
   "source": [
    "movie_ratings.head(5)"
   ]
  },
  {
   "cell_type": "markdown",
   "metadata": {},
   "source": [
    "#### Средний рейтинг по выборке мы уже посчитали выше:"
   ]
  },
  {
   "cell_type": "code",
   "execution_count": 30,
   "metadata": {
    "collapsed": true
   },
   "outputs": [],
   "source": [
    "C = vote_average"
   ]
  },
  {
   "cell_type": "markdown",
   "metadata": {},
   "source": [
    "#### Минимальным количеством голосов будет 0,75-квантиль, т.е. фильм должен иметь больше голосов чем 75% фильмов в выборке:"
   ]
  },
  {
   "cell_type": "code",
   "execution_count": 31,
   "metadata": {},
   "outputs": [
    {
     "data": {
      "text/plain": [
       "350.0"
      ]
     },
     "execution_count": 31,
     "metadata": {},
     "output_type": "execute_result"
    }
   ],
   "source": [
    "m = ratings_total['votes_count'].quantile(0.75)\n",
    "m"
   ]
  },
  {
   "cell_type": "code",
   "execution_count": 32,
   "metadata": {
    "collapsed": true
   },
   "outputs": [],
   "source": [
    "def weighted_rating(x):\n",
    "    v = x['votes_count']\n",
    "    R = x['rating_average']\n",
    "    return (v / (v + m) * R) + (m / (m + v) * C)"
   ]
  },
  {
   "cell_type": "code",
   "execution_count": 33,
   "metadata": {},
   "outputs": [],
   "source": [
    "del ratings_average\n",
    "del movie_lens"
   ]
  },
  {
   "cell_type": "code",
   "execution_count": 34,
   "metadata": {
    "collapsed": true
   },
   "outputs": [],
   "source": [
    "movie_ratings['wr'] = movie_ratings.apply(weighted_rating, axis=1)"
   ]
  },
  {
   "cell_type": "code",
   "execution_count": 35,
   "metadata": {},
   "outputs": [
    {
     "data": {
      "text/html": [
       "<div>\n",
       "<style>\n",
       "    .dataframe thead tr:only-child th {\n",
       "        text-align: right;\n",
       "    }\n",
       "\n",
       "    .dataframe thead th {\n",
       "        text-align: left;\n",
       "    }\n",
       "\n",
       "    .dataframe tbody tr th {\n",
       "        vertical-align: top;\n",
       "    }\n",
       "</style>\n",
       "<table border=\"1\" class=\"dataframe\">\n",
       "  <thead>\n",
       "    <tr style=\"text-align: right;\">\n",
       "      <th></th>\n",
       "      <th>movie</th>\n",
       "      <th>title</th>\n",
       "      <th>genre</th>\n",
       "      <th>votes_count</th>\n",
       "      <th>rating_average</th>\n",
       "      <th>wr</th>\n",
       "    </tr>\n",
       "  </thead>\n",
       "  <tbody>\n",
       "    <tr>\n",
       "      <th>0</th>\n",
       "      <td>1</td>\n",
       "      <td>Toy Story (1995)</td>\n",
       "      <td>{Comedy, Children's, Animation}</td>\n",
       "      <td>2077</td>\n",
       "      <td>4.146846</td>\n",
       "      <td>4.065327</td>\n",
       "    </tr>\n",
       "    <tr>\n",
       "      <th>1</th>\n",
       "      <td>2</td>\n",
       "      <td>Jumanji (1995)</td>\n",
       "      <td>{Children's, Adventure, Fantasy}</td>\n",
       "      <td>701</td>\n",
       "      <td>3.201141</td>\n",
       "      <td>3.327828</td>\n",
       "    </tr>\n",
       "    <tr>\n",
       "      <th>2</th>\n",
       "      <td>3</td>\n",
       "      <td>Grumpier Old Men (1995)</td>\n",
       "      <td>{Romance, Comedy}</td>\n",
       "      <td>478</td>\n",
       "      <td>3.016736</td>\n",
       "      <td>3.255492</td>\n",
       "    </tr>\n",
       "    <tr>\n",
       "      <th>3</th>\n",
       "      <td>4</td>\n",
       "      <td>Waiting to Exhale (1995)</td>\n",
       "      <td>{Drama, Comedy}</td>\n",
       "      <td>170</td>\n",
       "      <td>2.729412</td>\n",
       "      <td>3.302976</td>\n",
       "    </tr>\n",
       "    <tr>\n",
       "      <th>4</th>\n",
       "      <td>5</td>\n",
       "      <td>Father of the Bride Part II (1995)</td>\n",
       "      <td>{Comedy}</td>\n",
       "      <td>296</td>\n",
       "      <td>3.006757</td>\n",
       "      <td>3.318185</td>\n",
       "    </tr>\n",
       "  </tbody>\n",
       "</table>\n",
       "</div>"
      ],
      "text/plain": [
       "   movie                               title  \\\n",
       "0      1                    Toy Story (1995)   \n",
       "1      2                      Jumanji (1995)   \n",
       "2      3             Grumpier Old Men (1995)   \n",
       "3      4            Waiting to Exhale (1995)   \n",
       "4      5  Father of the Bride Part II (1995)   \n",
       "\n",
       "                              genre  votes_count  rating_average        wr  \n",
       "0   {Comedy, Children's, Animation}         2077        4.146846  4.065327  \n",
       "1  {Children's, Adventure, Fantasy}          701        3.201141  3.327828  \n",
       "2                 {Romance, Comedy}          478        3.016736  3.255492  \n",
       "3                   {Drama, Comedy}          170        2.729412  3.302976  \n",
       "4                          {Comedy}          296        3.006757  3.318185  "
      ]
     },
     "execution_count": 35,
     "metadata": {},
     "output_type": "execute_result"
    }
   ],
   "source": [
    "movie_ratings.head(5)"
   ]
  },
  {
   "cell_type": "markdown",
   "metadata": {},
   "source": [
    "#### Выведем 15 топ фильмов из списка:"
   ]
  },
  {
   "cell_type": "code",
   "execution_count": 36,
   "metadata": {},
   "outputs": [
    {
     "data": {
      "text/html": [
       "<div>\n",
       "<style>\n",
       "    .dataframe thead tr:only-child th {\n",
       "        text-align: right;\n",
       "    }\n",
       "\n",
       "    .dataframe thead th {\n",
       "        text-align: left;\n",
       "    }\n",
       "\n",
       "    .dataframe tbody tr th {\n",
       "        vertical-align: top;\n",
       "    }\n",
       "</style>\n",
       "<table border=\"1\" class=\"dataframe\">\n",
       "  <thead>\n",
       "    <tr style=\"text-align: right;\">\n",
       "      <th></th>\n",
       "      <th>title</th>\n",
       "      <th>genre</th>\n",
       "      <th>votes_count</th>\n",
       "      <th>rating_average</th>\n",
       "      <th>wr</th>\n",
       "    </tr>\n",
       "  </thead>\n",
       "  <tbody>\n",
       "    <tr>\n",
       "      <th>309</th>\n",
       "      <td>Shawshank Redemption, The (1994)</td>\n",
       "      <td>{Drama}</td>\n",
       "      <td>2227</td>\n",
       "      <td>4.554558</td>\n",
       "      <td>4.422409</td>\n",
       "    </tr>\n",
       "    <tr>\n",
       "      <th>802</th>\n",
       "      <td>Godfather, The (1972)</td>\n",
       "      <td>{Action, Drama, Crime}</td>\n",
       "      <td>2223</td>\n",
       "      <td>4.524966</td>\n",
       "      <td>4.396637</td>\n",
       "    </tr>\n",
       "    <tr>\n",
       "      <th>513</th>\n",
       "      <td>Schindler's List (1993)</td>\n",
       "      <td>{Drama, War}</td>\n",
       "      <td>2304</td>\n",
       "      <td>4.510417</td>\n",
       "      <td>4.387923</td>\n",
       "    </tr>\n",
       "    <tr>\n",
       "      <th>1108</th>\n",
       "      <td>Raiders of the Lost Ark (1981)</td>\n",
       "      <td>{Action, Adventure}</td>\n",
       "      <td>2514</td>\n",
       "      <td>4.477725</td>\n",
       "      <td>4.368208</td>\n",
       "    </tr>\n",
       "    <tr>\n",
       "      <th>49</th>\n",
       "      <td>Usual Suspects, The (1995)</td>\n",
       "      <td>{Thriller, Crime}</td>\n",
       "      <td>1783</td>\n",
       "      <td>4.517106</td>\n",
       "      <td>4.363595</td>\n",
       "    </tr>\n",
       "    <tr>\n",
       "      <th>253</th>\n",
       "      <td>Star Wars: Episode IV - A New Hope (1977)</td>\n",
       "      <td>{Action, Fantasy, Adventure, Sci-Fi}</td>\n",
       "      <td>2991</td>\n",
       "      <td>4.453694</td>\n",
       "      <td>4.362331</td>\n",
       "    </tr>\n",
       "    <tr>\n",
       "      <th>2557</th>\n",
       "      <td>Sixth Sense, The (1999)</td>\n",
       "      <td>{Thriller}</td>\n",
       "      <td>2459</td>\n",
       "      <td>4.406263</td>\n",
       "      <td>4.303506</td>\n",
       "    </tr>\n",
       "    <tr>\n",
       "      <th>713</th>\n",
       "      <td>Dr. Strangelove or: How I Learned to Stop Worr...</td>\n",
       "      <td>{Sci-Fi, War}</td>\n",
       "      <td>1367</td>\n",
       "      <td>4.449890</td>\n",
       "      <td>4.272887</td>\n",
       "    </tr>\n",
       "    <tr>\n",
       "      <th>851</th>\n",
       "      <td>Casablanca (1942)</td>\n",
       "      <td>{Drama, Romance, War}</td>\n",
       "      <td>1669</td>\n",
       "      <td>4.412822</td>\n",
       "      <td>4.268721</td>\n",
       "    </tr>\n",
       "    <tr>\n",
       "      <th>579</th>\n",
       "      <td>Silence of the Lambs, The (1991)</td>\n",
       "      <td>{Drama, Thriller}</td>\n",
       "      <td>2578</td>\n",
       "      <td>4.351823</td>\n",
       "      <td>4.259750</td>\n",
       "    </tr>\n",
       "    <tr>\n",
       "      <th>1104</th>\n",
       "      <td>One Flew Over the Cuckoo's Nest (1975)</td>\n",
       "      <td>{Drama}</td>\n",
       "      <td>1725</td>\n",
       "      <td>4.390725</td>\n",
       "      <td>4.254240</td>\n",
       "    </tr>\n",
       "    <tr>\n",
       "      <th>843</th>\n",
       "      <td>Rear Window (1954)</td>\n",
       "      <td>{Mystery, Thriller}</td>\n",
       "      <td>1050</td>\n",
       "      <td>4.476190</td>\n",
       "      <td>4.252534</td>\n",
       "    </tr>\n",
       "    <tr>\n",
       "      <th>1848</th>\n",
       "      <td>Saving Private Ryan (1998)</td>\n",
       "      <td>{Action, Drama, War}</td>\n",
       "      <td>2653</td>\n",
       "      <td>4.337354</td>\n",
       "      <td>4.249267</td>\n",
       "    </tr>\n",
       "    <tr>\n",
       "      <th>2651</th>\n",
       "      <td>American Beauty (1999)</td>\n",
       "      <td>{Drama, Comedy}</td>\n",
       "      <td>3428</td>\n",
       "      <td>4.317386</td>\n",
       "      <td>4.249219</td>\n",
       "    </tr>\n",
       "    <tr>\n",
       "      <th>1066</th>\n",
       "      <td>Wrong Trousers, The (1993)</td>\n",
       "      <td>{Comedy, Animation}</td>\n",
       "      <td>882</td>\n",
       "      <td>4.507937</td>\n",
       "      <td>4.244763</td>\n",
       "    </tr>\n",
       "  </tbody>\n",
       "</table>\n",
       "</div>"
      ],
      "text/plain": [
       "                                                  title  \\\n",
       "309                    Shawshank Redemption, The (1994)   \n",
       "802                               Godfather, The (1972)   \n",
       "513                             Schindler's List (1993)   \n",
       "1108                     Raiders of the Lost Ark (1981)   \n",
       "49                           Usual Suspects, The (1995)   \n",
       "253           Star Wars: Episode IV - A New Hope (1977)   \n",
       "2557                            Sixth Sense, The (1999)   \n",
       "713   Dr. Strangelove or: How I Learned to Stop Worr...   \n",
       "851                                   Casablanca (1942)   \n",
       "579                    Silence of the Lambs, The (1991)   \n",
       "1104             One Flew Over the Cuckoo's Nest (1975)   \n",
       "843                                  Rear Window (1954)   \n",
       "1848                         Saving Private Ryan (1998)   \n",
       "2651                             American Beauty (1999)   \n",
       "1066                         Wrong Trousers, The (1993)   \n",
       "\n",
       "                                     genre  votes_count  rating_average  \\\n",
       "309                                {Drama}         2227        4.554558   \n",
       "802                 {Action, Drama, Crime}         2223        4.524966   \n",
       "513                           {Drama, War}         2304        4.510417   \n",
       "1108                   {Action, Adventure}         2514        4.477725   \n",
       "49                       {Thriller, Crime}         1783        4.517106   \n",
       "253   {Action, Fantasy, Adventure, Sci-Fi}         2991        4.453694   \n",
       "2557                            {Thriller}         2459        4.406263   \n",
       "713                          {Sci-Fi, War}         1367        4.449890   \n",
       "851                  {Drama, Romance, War}         1669        4.412822   \n",
       "579                      {Drama, Thriller}         2578        4.351823   \n",
       "1104                               {Drama}         1725        4.390725   \n",
       "843                    {Mystery, Thriller}         1050        4.476190   \n",
       "1848                  {Action, Drama, War}         2653        4.337354   \n",
       "2651                       {Drama, Comedy}         3428        4.317386   \n",
       "1066                   {Comedy, Animation}          882        4.507937   \n",
       "\n",
       "            wr  \n",
       "309   4.422409  \n",
       "802   4.396637  \n",
       "513   4.387923  \n",
       "1108  4.368208  \n",
       "49    4.363595  \n",
       "253   4.362331  \n",
       "2557  4.303506  \n",
       "713   4.272887  \n",
       "851   4.268721  \n",
       "579   4.259750  \n",
       "1104  4.254240  \n",
       "843   4.252534  \n",
       "1848  4.249267  \n",
       "2651  4.249219  \n",
       "1066  4.244763  "
      ]
     },
     "execution_count": 36,
     "metadata": {},
     "output_type": "execute_result"
    }
   ],
   "source": [
    "movie_ratings.sort_values('wr', ascending=False)[['title', 'genre', 'votes_count', 'rating_average', 'wr']] \\\n",
    "    .head(15)"
   ]
  },
  {
   "cell_type": "markdown",
   "metadata": {},
   "source": [
    "В общем и целом, с рейтингом я согласен, хотя не все фильмы мне знакомы, но поискав некоторые из них в гугле, оказалось, что рейтинги у них довольно высокие."
   ]
  },
  {
   "cell_type": "markdown",
   "metadata": {},
   "source": [
    "### 6. Выбрать лучшие фильмы:"
   ]
  },
  {
   "cell_type": "markdown",
   "metadata": {},
   "source": [
    "#### Для того, чтобы выбрать лучше фильмы, повысим минимальное количеством голосов до 0,99-квантиль, т.е. оставим 1% самых популярных фильмов:"
   ]
  },
  {
   "cell_type": "code",
   "execution_count": 37,
   "metadata": {},
   "outputs": [
    {
     "data": {
      "text/plain": [
       "1784.8999999999996"
      ]
     },
     "execution_count": 37,
     "metadata": {},
     "output_type": "execute_result"
    }
   ],
   "source": [
    "m = ratings_total['votes_count'].quantile(0.99)\n",
    "m"
   ]
  },
  {
   "cell_type": "code",
   "execution_count": 38,
   "metadata": {
    "collapsed": true
   },
   "outputs": [],
   "source": [
    "movie_ratings['wr_99'] = movie_ratings.apply(weighted_rating, axis=1)"
   ]
  },
  {
   "cell_type": "code",
   "execution_count": 39,
   "metadata": {},
   "outputs": [
    {
     "data": {
      "text/html": [
       "<div>\n",
       "<style>\n",
       "    .dataframe thead tr:only-child th {\n",
       "        text-align: right;\n",
       "    }\n",
       "\n",
       "    .dataframe thead th {\n",
       "        text-align: left;\n",
       "    }\n",
       "\n",
       "    .dataframe tbody tr th {\n",
       "        vertical-align: top;\n",
       "    }\n",
       "</style>\n",
       "<table border=\"1\" class=\"dataframe\">\n",
       "  <thead>\n",
       "    <tr style=\"text-align: right;\">\n",
       "      <th></th>\n",
       "      <th>title</th>\n",
       "      <th>genre</th>\n",
       "      <th>votes_count</th>\n",
       "      <th>rating_average</th>\n",
       "      <th>wr_99</th>\n",
       "    </tr>\n",
       "  </thead>\n",
       "  <tbody>\n",
       "    <tr>\n",
       "      <th>253</th>\n",
       "      <td>Star Wars: Episode IV - A New Hope (1977)</td>\n",
       "      <td>{Action, Fantasy, Adventure, Sci-Fi}</td>\n",
       "      <td>2991</td>\n",
       "      <td>4.453694</td>\n",
       "      <td>4.127753</td>\n",
       "    </tr>\n",
       "    <tr>\n",
       "      <th>309</th>\n",
       "      <td>Shawshank Redemption, The (1994)</td>\n",
       "      <td>{Drama}</td>\n",
       "      <td>2227</td>\n",
       "      <td>4.554558</td>\n",
       "      <td>4.121672</td>\n",
       "    </tr>\n",
       "    <tr>\n",
       "      <th>1108</th>\n",
       "      <td>Raiders of the Lost Ark (1981)</td>\n",
       "      <td>{Action, Adventure}</td>\n",
       "      <td>2514</td>\n",
       "      <td>4.477725</td>\n",
       "      <td>4.105640</td>\n",
       "    </tr>\n",
       "    <tr>\n",
       "      <th>513</th>\n",
       "      <td>Schindler's List (1993)</td>\n",
       "      <td>{Drama, War}</td>\n",
       "      <td>2304</td>\n",
       "      <td>4.510417</td>\n",
       "      <td>4.104951</td>\n",
       "    </tr>\n",
       "    <tr>\n",
       "      <th>802</th>\n",
       "      <td>Godfather, The (1972)</td>\n",
       "      <td>{Action, Drama, Crime}</td>\n",
       "      <td>2223</td>\n",
       "      <td>4.524966</td>\n",
       "      <td>4.104827</td>\n",
       "    </tr>\n",
       "    <tr>\n",
       "      <th>2651</th>\n",
       "      <td>American Beauty (1999)</td>\n",
       "      <td>{Drama, Comedy}</td>\n",
       "      <td>3428</td>\n",
       "      <td>4.317386</td>\n",
       "      <td>4.065440</td>\n",
       "    </tr>\n",
       "    <tr>\n",
       "      <th>2557</th>\n",
       "      <td>Sixth Sense, The (1999)</td>\n",
       "      <td>{Thriller}</td>\n",
       "      <td>2459</td>\n",
       "      <td>4.406263</td>\n",
       "      <td>4.059411</td>\n",
       "    </tr>\n",
       "    <tr>\n",
       "      <th>49</th>\n",
       "      <td>Usual Suspects, The (1995)</td>\n",
       "      <td>{Thriller, Crime}</td>\n",
       "      <td>1783</td>\n",
       "      <td>4.517106</td>\n",
       "      <td>4.049086</td>\n",
       "    </tr>\n",
       "    <tr>\n",
       "      <th>579</th>\n",
       "      <td>Silence of the Lambs, The (1991)</td>\n",
       "      <td>{Drama, Thriller}</td>\n",
       "      <td>2578</td>\n",
       "      <td>4.351823</td>\n",
       "      <td>4.036704</td>\n",
       "    </tr>\n",
       "    <tr>\n",
       "      <th>1848</th>\n",
       "      <td>Saving Private Ryan (1998)</td>\n",
       "      <td>{Action, Drama, War}</td>\n",
       "      <td>2653</td>\n",
       "      <td>4.337354</td>\n",
       "      <td>4.033379</td>\n",
       "    </tr>\n",
       "    <tr>\n",
       "      <th>1106</th>\n",
       "      <td>Star Wars: Episode V - The Empire Strikes Back...</td>\n",
       "      <td>{Action, Drama, War, Adventure, Sci-Fi}</td>\n",
       "      <td>2990</td>\n",
       "      <td>4.292977</td>\n",
       "      <td>4.027044</td>\n",
       "    </tr>\n",
       "    <tr>\n",
       "      <th>2374</th>\n",
       "      <td>Matrix, The (1999)</td>\n",
       "      <td>{Action, Sci-Fi, Thriller}</td>\n",
       "      <td>2590</td>\n",
       "      <td>4.315830</td>\n",
       "      <td>4.016260</td>\n",
       "    </tr>\n",
       "    <tr>\n",
       "      <th>1107</th>\n",
       "      <td>Princess Bride, The (1987)</td>\n",
       "      <td>{Action, Romance, Comedy, Adventure}</td>\n",
       "      <td>2318</td>\n",
       "      <td>4.303710</td>\n",
       "      <td>3.989552</td>\n",
       "    </tr>\n",
       "    <tr>\n",
       "      <th>851</th>\n",
       "      <td>Casablanca (1942)</td>\n",
       "      <td>{Drama, Romance, War}</td>\n",
       "      <td>1669</td>\n",
       "      <td>4.412822</td>\n",
       "      <td>3.983246</td>\n",
       "    </tr>\n",
       "    <tr>\n",
       "      <th>1104</th>\n",
       "      <td>One Flew Over the Cuckoo's Nest (1975)</td>\n",
       "      <td>{Drama}</td>\n",
       "      <td>1725</td>\n",
       "      <td>4.390725</td>\n",
       "      <td>3.979240</td>\n",
       "    </tr>\n",
       "  </tbody>\n",
       "</table>\n",
       "</div>"
      ],
      "text/plain": [
       "                                                  title  \\\n",
       "253           Star Wars: Episode IV - A New Hope (1977)   \n",
       "309                    Shawshank Redemption, The (1994)   \n",
       "1108                     Raiders of the Lost Ark (1981)   \n",
       "513                             Schindler's List (1993)   \n",
       "802                               Godfather, The (1972)   \n",
       "2651                             American Beauty (1999)   \n",
       "2557                            Sixth Sense, The (1999)   \n",
       "49                           Usual Suspects, The (1995)   \n",
       "579                    Silence of the Lambs, The (1991)   \n",
       "1848                         Saving Private Ryan (1998)   \n",
       "1106  Star Wars: Episode V - The Empire Strikes Back...   \n",
       "2374                                 Matrix, The (1999)   \n",
       "1107                         Princess Bride, The (1987)   \n",
       "851                                   Casablanca (1942)   \n",
       "1104             One Flew Over the Cuckoo's Nest (1975)   \n",
       "\n",
       "                                        genre  votes_count  rating_average  \\\n",
       "253      {Action, Fantasy, Adventure, Sci-Fi}         2991        4.453694   \n",
       "309                                   {Drama}         2227        4.554558   \n",
       "1108                      {Action, Adventure}         2514        4.477725   \n",
       "513                              {Drama, War}         2304        4.510417   \n",
       "802                    {Action, Drama, Crime}         2223        4.524966   \n",
       "2651                          {Drama, Comedy}         3428        4.317386   \n",
       "2557                               {Thriller}         2459        4.406263   \n",
       "49                          {Thriller, Crime}         1783        4.517106   \n",
       "579                         {Drama, Thriller}         2578        4.351823   \n",
       "1848                     {Action, Drama, War}         2653        4.337354   \n",
       "1106  {Action, Drama, War, Adventure, Sci-Fi}         2990        4.292977   \n",
       "2374               {Action, Sci-Fi, Thriller}         2590        4.315830   \n",
       "1107     {Action, Romance, Comedy, Adventure}         2318        4.303710   \n",
       "851                     {Drama, Romance, War}         1669        4.412822   \n",
       "1104                                  {Drama}         1725        4.390725   \n",
       "\n",
       "         wr_99  \n",
       "253   4.127753  \n",
       "309   4.121672  \n",
       "1108  4.105640  \n",
       "513   4.104951  \n",
       "802   4.104827  \n",
       "2651  4.065440  \n",
       "2557  4.059411  \n",
       "49    4.049086  \n",
       "579   4.036704  \n",
       "1848  4.033379  \n",
       "1106  4.027044  \n",
       "2374  4.016260  \n",
       "1107  3.989552  \n",
       "851   3.983246  \n",
       "1104  3.979240  "
      ]
     },
     "execution_count": 39,
     "metadata": {},
     "output_type": "execute_result"
    }
   ],
   "source": [
    "movie_ratings.sort_values('wr_99', ascending=False)[['title', 'genre', 'votes_count', 'rating_average', 'wr_99']] \\\n",
    "    .head(15)"
   ]
  },
  {
   "cell_type": "markdown",
   "metadata": {},
   "source": [
    "Как мне кажется, рейтинг получился вполне содержательный, хотя \"Звездные войны\" на первом месте выглядят немного странно."
   ]
  },
  {
   "cell_type": "code",
   "execution_count": null,
   "metadata": {
    "collapsed": true
   },
   "outputs": [],
   "source": []
  }
 ],
 "metadata": {
  "kernelspec": {
   "display_name": "Python 2",
   "language": "python",
   "name": "python2"
  },
  "language_info": {
   "codemirror_mode": {
    "name": "ipython",
    "version": 2
   },
   "file_extension": ".py",
   "mimetype": "text/x-python",
   "name": "python",
   "nbconvert_exporter": "python",
   "pygments_lexer": "ipython2",
   "version": "2.7.13"
  }
 },
 "nbformat": 4,
 "nbformat_minor": 2
}
