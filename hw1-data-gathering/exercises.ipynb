{
 "cells": [
  {
   "cell_type": "markdown",
   "metadata": {},
   "source": [
    "## Numpy"
   ]
  },
  {
   "cell_type": "markdown",
   "metadata": {},
   "source": [
    "Импортировать NumPy под именем np"
   ]
  },
  {
   "cell_type": "code",
   "execution_count": 4,
   "metadata": {
    "collapsed": true
   },
   "outputs": [],
   "source": [
    "import numpy as np"
   ]
  },
  {
   "cell_type": "markdown",
   "metadata": {},
   "source": [
    "Создать вектор (одномерный массив) размера 10, заполненный нулями"
   ]
  },
  {
   "cell_type": "code",
   "execution_count": 26,
   "metadata": {},
   "outputs": [
    {
     "data": {
      "text/plain": [
       "array([ 0.,  0.,  0.,  0.,  0.,  0.,  0.,  0.,  0.,  0.])"
      ]
     },
     "execution_count": 26,
     "metadata": {},
     "output_type": "execute_result"
    }
   ],
   "source": [
    "np.zeros(10)"
   ]
  },
  {
   "cell_type": "markdown",
   "metadata": {},
   "source": [
    "Создать вектор размера 10, заполненный единицами"
   ]
  },
  {
   "cell_type": "code",
   "execution_count": 25,
   "metadata": {},
   "outputs": [
    {
     "data": {
      "text/plain": [
       "array([ 1.,  1.,  1.,  1.,  1.,  1.,  1.,  1.,  1.,  1.])"
      ]
     },
     "execution_count": 25,
     "metadata": {},
     "output_type": "execute_result"
    }
   ],
   "source": [
    "np.ones(10)"
   ]
  },
  {
   "cell_type": "markdown",
   "metadata": {},
   "source": [
    "Создать вектор размера 10, заполненный числом 2.5"
   ]
  },
  {
   "cell_type": "code",
   "execution_count": 24,
   "metadata": {},
   "outputs": [
    {
     "data": {
      "text/plain": [
       "array([ 2.5,  2.5,  2.5,  2.5,  2.5,  2.5,  2.5,  2.5,  2.5,  2.5])"
      ]
     },
     "execution_count": 24,
     "metadata": {},
     "output_type": "execute_result"
    }
   ],
   "source": [
    "np.array([2.5] * 10)"
   ]
  },
  {
   "cell_type": "markdown",
   "metadata": {},
   "source": [
    "Создать вектор размера 10, заполненный нулями, но пятый элемент равен 1"
   ]
  },
  {
   "cell_type": "code",
   "execution_count": 23,
   "metadata": {},
   "outputs": [
    {
     "data": {
      "text/plain": [
       "array([ 0.,  0.,  0.,  0.,  1.,  0.,  0.,  0.,  0.,  0.])"
      ]
     },
     "execution_count": 23,
     "metadata": {},
     "output_type": "execute_result"
    }
   ],
   "source": [
    "z = np.zeros(10)\n",
    "z[4] = 1\n",
    "z"
   ]
  },
  {
   "cell_type": "markdown",
   "metadata": {},
   "source": [
    "Развернуть вектор (первый становится последним)"
   ]
  },
  {
   "cell_type": "code",
   "execution_count": 12,
   "metadata": {},
   "outputs": [
    {
     "data": {
      "text/plain": [
       "array([5, 4, 3, 2, 1])"
      ]
     },
     "execution_count": 12,
     "metadata": {},
     "output_type": "execute_result"
    }
   ],
   "source": [
    "x = np.array([1, 2, 3, 4, 5])\n",
    "x[::-1]"
   ]
  },
  {
   "cell_type": "markdown",
   "metadata": {},
   "source": [
    "Создать матрицу (двумерный массив) 3x3 со значениями от 0 до 8"
   ]
  },
  {
   "cell_type": "code",
   "execution_count": 22,
   "metadata": {},
   "outputs": [
    {
     "data": {
      "text/plain": [
       "array([[0, 1, 2],\n",
       "       [3, 4, 5],\n",
       "       [6, 7, 8]])"
      ]
     },
     "execution_count": 22,
     "metadata": {},
     "output_type": "execute_result"
    }
   ],
   "source": [
    "np.arange(9).reshape((3, 3))"
   ]
  },
  {
   "cell_type": "markdown",
   "metadata": {},
   "source": [
    "Найти индексы ненулевых элементов в [1,2,0,0,4,0]"
   ]
  },
  {
   "cell_type": "code",
   "execution_count": 70,
   "metadata": {},
   "outputs": [
    {
     "data": {
      "text/plain": [
       "(array([0, 1, 4]),)"
      ]
     },
     "execution_count": 70,
     "metadata": {},
     "output_type": "execute_result"
    }
   ],
   "source": [
    "np.nonzero([1,2,0,0,4,0])"
   ]
  },
  {
   "cell_type": "markdown",
   "metadata": {},
   "source": [
    "Создать 3x3 единичную матрицу"
   ]
  },
  {
   "cell_type": "code",
   "execution_count": 21,
   "metadata": {},
   "outputs": [
    {
     "data": {
      "text/plain": [
       "array([[ 1.,  0.,  0.],\n",
       "       [ 0.,  1.,  0.],\n",
       "       [ 0.,  0.,  1.]])"
      ]
     },
     "execution_count": 21,
     "metadata": {},
     "output_type": "execute_result"
    }
   ],
   "source": [
    "np.identity(3)"
   ]
  },
  {
   "cell_type": "markdown",
   "metadata": {},
   "source": [
    "Создать массив 3x3x3 со случайными значениями"
   ]
  },
  {
   "cell_type": "code",
   "execution_count": 29,
   "metadata": {},
   "outputs": [
    {
     "data": {
      "text/plain": [
       "array([[[ 0.33070332,  0.61958056,  0.17244819],\n",
       "        [ 0.3411079 ,  0.4266128 ,  0.07118942],\n",
       "        [ 0.4821929 ,  0.6651722 ,  0.87420111]],\n",
       "\n",
       "       [[ 0.84958015,  0.415622  ,  0.76937087],\n",
       "        [ 0.98721471,  0.91816402,  0.34353655],\n",
       "        [ 0.51804746,  0.71269752,  0.74929745]],\n",
       "\n",
       "       [[ 0.83549201,  0.37361225,  0.1352717 ],\n",
       "        [ 0.25431775,  0.52905458,  0.13969939],\n",
       "        [ 0.87024192,  0.39096507,  0.08842392]]])"
      ]
     },
     "execution_count": 29,
     "metadata": {},
     "output_type": "execute_result"
    }
   ],
   "source": [
    "np.random.rand(3, 3, 3)"
   ]
  },
  {
   "cell_type": "markdown",
   "metadata": {},
   "source": [
    "Создать случайный вектор размера 30 и найти среднее значение всех элементов"
   ]
  },
  {
   "cell_type": "code",
   "execution_count": 32,
   "metadata": {},
   "outputs": [
    {
     "data": {
      "text/plain": [
       "0.60564529859321026"
      ]
     },
     "execution_count": 32,
     "metadata": {},
     "output_type": "execute_result"
    }
   ],
   "source": [
    "x = np.random.rand(30)\n",
    "np.average(x)"
   ]
  },
  {
   "cell_type": "markdown",
   "metadata": {},
   "source": [
    "Перемножить матрицы 5x3 и 3x2"
   ]
  },
  {
   "cell_type": "code",
   "execution_count": 147,
   "metadata": {},
   "outputs": [
    {
     "name": "stdout",
     "output_type": "stream",
     "text": [
      "[[ 0  1  2]\n",
      " [ 3  4  5]\n",
      " [ 6  7  8]\n",
      " [ 9 10 11]\n",
      " [12 13 14]]\n",
      "[[0 1]\n",
      " [2 3]\n",
      " [4 5]]\n"
     ]
    },
    {
     "data": {
      "text/plain": [
       "array([[ 10,  13],\n",
       "       [ 28,  40],\n",
       "       [ 46,  67],\n",
       "       [ 64,  94],\n",
       "       [ 82, 121]])"
      ]
     },
     "execution_count": 147,
     "metadata": {},
     "output_type": "execute_result"
    }
   ],
   "source": [
    "a = np.arange(15).reshape((5, 3))\n",
    "b = np.arange(6).reshape((3, 2))\n",
    "print(a)\n",
    "print(b)\n",
    "a.dot(b)"
   ]
  },
  {
   "cell_type": "markdown",
   "metadata": {},
   "source": [
    "Создать вектор размера 10 со значениями от 0 до 1, не включая ни то, ни другое"
   ]
  },
  {
   "cell_type": "code",
   "execution_count": 44,
   "metadata": {},
   "outputs": [
    {
     "data": {
      "text/plain": [
       "array([ 0.30880513,  0.1267198 ,  0.99762545,  0.46507179,  0.22554715,\n",
       "        0.62541927,  0.45439031,  0.64092231,  0.46907234,  0.52271578])"
      ]
     },
     "execution_count": 44,
     "metadata": {},
     "output_type": "execute_result"
    }
   ],
   "source": [
    "np.random.uniform(0, 1, 10)"
   ]
  },
  {
   "cell_type": "markdown",
   "metadata": {},
   "source": [
    "Заменить максимальный элемент на ноль"
   ]
  },
  {
   "cell_type": "code",
   "execution_count": 55,
   "metadata": {},
   "outputs": [
    {
     "data": {
      "text/plain": [
       "array([1, 2, 0, 4, 5])"
      ]
     },
     "execution_count": 55,
     "metadata": {},
     "output_type": "execute_result"
    }
   ],
   "source": [
    "x = np.array([1, 2, 6, 4, 5])\n",
    "x[x.argmax()] = 0\n",
    "x"
   ]
  },
  {
   "cell_type": "markdown",
   "metadata": {},
   "source": [
    "Преобразовать массив из float в int"
   ]
  },
  {
   "cell_type": "code",
   "execution_count": 56,
   "metadata": {},
   "outputs": [
    {
     "data": {
      "text/plain": [
       "array([1, 2, 3])"
      ]
     },
     "execution_count": 56,
     "metadata": {},
     "output_type": "execute_result"
    }
   ],
   "source": [
    "x = np.array([1.5, 2.6, 3.7])\n",
    "x.astype(int)"
   ]
  },
  {
   "cell_type": "markdown",
   "metadata": {},
   "source": [
    "Дан массив (10,2) координат, найти расстояние от каждой точки до каждой"
   ]
  },
  {
   "cell_type": "code",
   "execution_count": 142,
   "metadata": {},
   "outputs": [
    {
     "name": "stdout",
     "output_type": "stream",
     "text": [
      "[[ 0.73284566  0.03451513]\n",
      " [ 0.43815199  0.12896199]\n",
      " [ 0.59916677  0.11759519]\n",
      " [ 0.35073914  0.23640517]\n",
      " [ 0.7157424   0.35638015]\n",
      " [ 0.36534272  0.62824142]\n",
      " [ 0.40846213  0.11844359]\n",
      " [ 0.82819937  0.5223803 ]\n",
      " [ 0.11563321  0.6246321 ]\n",
      " [ 0.42203283  0.88197267]]\n",
      "[[ 0.         -0.29469367 -0.13367889 -0.38210652 -0.01710326 -0.36750294\n",
      "  -0.32438354  0.09535371 -0.61721245 -0.31081284]]\n",
      "[[-0.69833053 -0.60388367 -0.61525047 -0.49644049 -0.37646551 -0.10460424\n",
      "  -0.61440207 -0.21046536 -0.10821356  0.14912701]]\n",
      "[[ 0.29469367  0.          0.16101478 -0.08741285  0.27759041 -0.07280927\n",
      "  -0.02968987  0.39004738 -0.32251878 -0.01611917]]\n",
      "[[-0.40363686 -0.30919    -0.3205568  -0.20174682 -0.08177184  0.19008943\n",
      "  -0.3197084   0.08422831  0.18648011  0.44382068]]\n",
      "[[ 0.13367889 -0.16101478  0.         -0.24842763  0.11657563 -0.23382405\n",
      "  -0.19070465  0.2290326  -0.48353356 -0.17713395]]\n",
      "[[-0.56465164 -0.47020478 -0.48157158 -0.3627616  -0.24278662  0.02907464\n",
      "  -0.48072318 -0.07678647  0.02546533  0.2828059 ]]\n",
      "[[ 0.38210652  0.08741285  0.24842763  0.          0.36500326  0.01460358\n",
      "   0.05772299  0.47746023 -0.23510593  0.07129369]]\n",
      "[[-0.31622401 -0.22177715 -0.23314395 -0.11433397  0.00564101  0.27750228\n",
      "  -0.23229555  0.17164116  0.27389297  0.53123353]]\n",
      "[[ 0.01710326 -0.27759041 -0.11657563 -0.36500326  0.         -0.35039968\n",
      "  -0.30728028  0.11245697 -0.60010919 -0.29370958]]\n",
      "[[-0.68122727 -0.58678041 -0.59814721 -0.47933723 -0.35936225 -0.08750098\n",
      "  -0.59729881 -0.1933621  -0.0911103   0.16623027]]\n",
      "[[ 0.36750294  0.07280927  0.23382405 -0.01460358  0.35039968  0.\n",
      "   0.04311941  0.46285665 -0.24970951  0.0566901 ]]\n",
      "[[-0.33082759 -0.23638073 -0.24774753 -0.12893755 -0.00896257  0.2628987\n",
      "  -0.24689913  0.15703758  0.25928938  0.51662995]]\n",
      "[[ 0.32438354  0.02968987  0.19070465 -0.05772299  0.30728028 -0.04311941\n",
      "   0.          0.41973725 -0.29282891  0.0135707 ]]\n",
      "[[-0.37394699 -0.27950013 -0.29086694 -0.17205696 -0.05208197  0.21977929\n",
      "  -0.29001854  0.11391817  0.21616998  0.47351054]]\n",
      "[[-0.09535371 -0.39004738 -0.2290326  -0.47746023 -0.11245697 -0.46285665\n",
      "  -0.41973725  0.         -0.71256616 -0.40616655]]\n",
      "[[-0.79368424 -0.69923738 -0.71060418 -0.5917942  -0.47181922 -0.19995795\n",
      "  -0.70975578 -0.30581907 -0.20356727  0.0537733 ]]\n",
      "[[ 0.61721245  0.32251878  0.48353356  0.23510593  0.60010919  0.24970951\n",
      "   0.29282891  0.71256616  0.          0.30639961]]\n",
      "[[-0.08111808  0.01332878  0.00196197  0.12077195  0.24074694  0.5126082\n",
      "   0.00281038  0.40674709  0.50899889  0.76633946]]\n",
      "[[ 0.31081284  0.01611917  0.17713395 -0.07129369  0.29370958 -0.0566901\n",
      "  -0.0135707   0.40616655 -0.30639961  0.        ]]\n",
      "[[-0.38751769 -0.29307083 -0.30443764 -0.18562766 -0.06565267  0.20620859\n",
      "  -0.30358923  0.10034748  0.20259928  0.45993985]]\n",
      "[[ 0.69833053  0.40363686  0.56465164  0.31622401  0.68122727  0.33082759\n",
      "   0.37394699  0.79368424  0.08111808  0.38751769]]\n",
      "[[ 0.          0.09444686  0.08308006  0.20189004  0.32186502  0.59372629\n",
      "   0.08392846  0.48786517  0.59011697  0.84745754]]\n",
      "[[ 0.60388367  0.30919     0.47020478  0.22177715  0.58678041  0.23638073\n",
      "   0.27950013  0.69923738 -0.01332878  0.29307083]]\n",
      "[[-0.09444686  0.         -0.0113668   0.10744317  0.22741816  0.49927942\n",
      "  -0.0105184   0.39341831  0.49567011  0.75301068]]\n",
      "[[ 0.61525047  0.3205568   0.48157158  0.23314395  0.59814721  0.24774753\n",
      "   0.29086694  0.71060418 -0.00196197  0.30443764]]\n",
      "[[-0.08308006  0.0113668   0.          0.11880998  0.23878496  0.51064623\n",
      "   0.0008484   0.40478511  0.50703692  0.76437748]]\n",
      "[[ 0.49644049  0.20174682  0.3627616   0.11433397  0.47933723  0.12893755\n",
      "   0.17205696  0.5917942  -0.12077195  0.18562766]]\n",
      "[[-0.20189004 -0.10744317 -0.11880998  0.          0.11997498  0.39183625\n",
      "  -0.11796158  0.28597513  0.38822694  0.6455675 ]]\n",
      "[[ 0.37646551  0.08177184  0.24278662 -0.00564101  0.35936225  0.00896257\n",
      "   0.05208197  0.47181922 -0.24074694  0.06565267]]\n",
      "[[-0.32186502 -0.22741816 -0.23878496 -0.11997498  0.          0.27186126\n",
      "  -0.23793656  0.16600015  0.26825195  0.52559252]]\n",
      "[[ 0.10460424 -0.19008943 -0.02907464 -0.27750228  0.08750098 -0.2628987\n",
      "  -0.21977929  0.19995795 -0.5126082  -0.20620859]]\n",
      "[[-0.59372629 -0.49927942 -0.51064623 -0.39183625 -0.27186126  0.\n",
      "  -0.50979783 -0.10586112 -0.00360931  0.25373125]]\n",
      "[[ 0.61440207  0.3197084   0.48072318  0.23229555  0.59729881  0.24689913\n",
      "   0.29001854  0.70975578 -0.00281038  0.30358923]]\n",
      "[[-0.08392846  0.0105184  -0.0008484   0.11796158  0.23793656  0.50979783\n",
      "   0.          0.40393671  0.50618851  0.76352908]]\n",
      "[[ 0.21046536 -0.08422831  0.07678647 -0.17164116  0.1933621  -0.15703758\n",
      "  -0.11391817  0.30581907 -0.40674709 -0.10034748]]\n",
      "[[-0.48786517 -0.39341831 -0.40478511 -0.28597513 -0.16600015  0.10586112\n",
      "  -0.40393671  0.          0.1022518   0.35959237]]\n",
      "[[ 0.10821356 -0.18648011 -0.02546533 -0.27389297  0.0911103  -0.25928938\n",
      "  -0.21616998  0.20356727 -0.50899889 -0.20259928]]\n",
      "[[-0.59011697 -0.49567011 -0.50703692 -0.38822694 -0.26825195  0.00360931\n",
      "  -0.50618851 -0.1022518   0.          0.25734057]]\n",
      "[[-0.14912701 -0.44382068 -0.2828059  -0.53123353 -0.16623027 -0.51662995\n",
      "  -0.47351054 -0.0537733  -0.76633946 -0.45993985]]\n",
      "[[-0.84745754 -0.75301068 -0.76437748 -0.6455675  -0.52559252 -0.25373125\n",
      "  -0.76352908 -0.35959237 -0.25734057  0.        ]]\n"
     ]
    }
   ],
   "source": [
    "# Здесь я не совсем уверен что правильно понял, то что надо сделать\n",
    "coords = np.random.random((10, 2))\n",
    "print(coords)\n",
    "axes = coords[:,0], coords[:,1]\n",
    "for asix1 in axes:\n",
    "    for v1 in asix1:\n",
    "        s = np.array([v1] * 10)\n",
    "        for asix2 in axes:\n",
    "            print(np.diff([s, asix2], axis=0))"
   ]
  },
  {
   "cell_type": "markdown",
   "metadata": {},
   "source": [
    "Случайно расположить p элементов в 2D массив"
   ]
  },
  {
   "cell_type": "code",
   "execution_count": 126,
   "metadata": {},
   "outputs": [
    {
     "data": {
      "text/plain": [
       "array([[2, 0, 5, 6],\n",
       "       [7, 3, 4, 1]])"
      ]
     },
     "execution_count": 126,
     "metadata": {},
     "output_type": "execute_result"
    }
   ],
   "source": [
    "a = np.arange(8)\n",
    "np.random.shuffle(a)\n",
    "a = a.reshape((2, 4))\n",
    "a"
   ]
  },
  {
   "cell_type": "markdown",
   "metadata": {},
   "source": [
    "Дан вектор [1, 2, 3, 4, 5], построить новый вектор с тремя нулями между каждым значением"
   ]
  },
  {
   "cell_type": "code",
   "execution_count": 144,
   "metadata": {},
   "outputs": [
    {
     "data": {
      "text/plain": [
       "array([ 1.,  0.,  0.,  0.,  2.,  0.,  0.,  0.,  3.,  0.,  0.,  0.,  4.,\n",
       "        0.,  0.,  0.,  5.])"
      ]
     },
     "execution_count": 144,
     "metadata": {},
     "output_type": "execute_result"
    }
   ],
   "source": [
    "a = np.array([1, 2, 3, 4, 5])\n",
    "b = np.zeros(len(a) + (len(a) - 1) * 3)\n",
    "b[::3+1] = a\n",
    "b"
   ]
  },
  {
   "cell_type": "markdown",
   "metadata": {},
   "source": [
    "Найти наиболее частое значение в массиве"
   ]
  },
  {
   "cell_type": "code",
   "execution_count": 146,
   "metadata": {},
   "outputs": [
    {
     "data": {
      "text/plain": [
       "1"
      ]
     },
     "execution_count": 146,
     "metadata": {},
     "output_type": "execute_result"
    }
   ],
   "source": [
    "a = np.array([1, 2, 3, 1, 2, 1, 1, 1, 3, 2, 2, 1])\n",
    "counts = np.bincount(a)\n",
    "np.argmax(counts)"
   ]
  },
  {
   "cell_type": "markdown",
   "metadata": {},
   "source": [
    "Найти n наибольших значений в массиве"
   ]
  },
  {
   "cell_type": "code",
   "execution_count": 159,
   "metadata": {},
   "outputs": [
    {
     "name": "stdout",
     "output_type": "stream",
     "text": [
      "[ 1  2  5  7 10 12 13 21 21 31 81]\n"
     ]
    },
    {
     "data": {
      "text/plain": [
       "array([13, 21, 21, 31, 81])"
      ]
     },
     "execution_count": 159,
     "metadata": {},
     "output_type": "execute_result"
    }
   ],
   "source": [
    "n = 5\n",
    "a = np.array([10, 21, 13, 1, 2, 5, 7, 81, 31, 12, 21])\n",
    "a = np.sort(a)\n",
    "print(a)\n",
    "a[-n:]"
   ]
  },
  {
   "cell_type": "markdown",
   "metadata": {},
   "source": [
    "## Pandas - изучение данных"
   ]
  },
  {
   "cell_type": "markdown",
   "metadata": {
    "collapsed": true
   },
   "source": [
    "Перейти по ссылке [Kaggle]( https://www.kaggle.com/openfoodfacts/world-food-facts)"
   ]
  },
  {
   "cell_type": "markdown",
   "metadata": {
    "collapsed": true
   },
   "source": [
    "Скачать датасет на свой компьютер и распаковать"
   ]
  },
  {
   "cell_type": "markdown",
   "metadata": {
    "collapsed": true
   },
   "source": [
    "Считать csv файл в датафрейм food"
   ]
  },
  {
   "cell_type": "code",
   "execution_count": null,
   "metadata": {
    "collapsed": true
   },
   "outputs": [],
   "source": []
  },
  {
   "cell_type": "markdown",
   "metadata": {
    "collapsed": true
   },
   "source": [
    "Посмотреть первые 5 записей"
   ]
  },
  {
   "cell_type": "code",
   "execution_count": null,
   "metadata": {
    "collapsed": true
   },
   "outputs": [],
   "source": []
  },
  {
   "cell_type": "markdown",
   "metadata": {
    "collapsed": true
   },
   "source": [
    "Сколько наблюдений в наборе данных?\n"
   ]
  },
  {
   "cell_type": "code",
   "execution_count": null,
   "metadata": {
    "collapsed": true
   },
   "outputs": [],
   "source": []
  },
  {
   "cell_type": "markdown",
   "metadata": {
    "collapsed": true
   },
   "source": [
    "Сколько столбцов в наборе данных?"
   ]
  },
  {
   "cell_type": "code",
   "execution_count": null,
   "metadata": {
    "collapsed": true
   },
   "outputs": [],
   "source": []
  },
  {
   "cell_type": "markdown",
   "metadata": {
    "collapsed": true
   },
   "source": [
    "Напечатайте все названия столбцов"
   ]
  },
  {
   "cell_type": "code",
   "execution_count": null,
   "metadata": {
    "collapsed": true
   },
   "outputs": [],
   "source": []
  },
  {
   "cell_type": "markdown",
   "metadata": {
    "collapsed": true
   },
   "source": [
    "Какое название у 105 столбца?"
   ]
  },
  {
   "cell_type": "code",
   "execution_count": null,
   "metadata": {
    "collapsed": true
   },
   "outputs": [],
   "source": []
  },
  {
   "cell_type": "markdown",
   "metadata": {},
   "source": [
    "Какой тип наблюдений в 105 столбце?"
   ]
  },
  {
   "cell_type": "code",
   "execution_count": null,
   "metadata": {
    "collapsed": true
   },
   "outputs": [],
   "source": []
  },
  {
   "cell_type": "markdown",
   "metadata": {},
   "source": [
    "Как проиндексирован набор данных?"
   ]
  },
  {
   "cell_type": "code",
   "execution_count": null,
   "metadata": {
    "collapsed": true
   },
   "outputs": [],
   "source": []
  },
  {
   "cell_type": "markdown",
   "metadata": {},
   "source": [
    "Каково значение имени продукта в 19-м наблюдении?"
   ]
  },
  {
   "cell_type": "code",
   "execution_count": null,
   "metadata": {
    "collapsed": true
   },
   "outputs": [],
   "source": []
  },
  {
   "cell_type": "markdown",
   "metadata": {},
   "source": [
    "## Pandas - фильтрация данных"
   ]
  },
  {
   "cell_type": "markdown",
   "metadata": {},
   "source": [
    "Считать данные по  [адресу](https://raw.githubusercontent.com/justmarkham/DAT8/master/data/chipotle.tsv). \n",
    "Присвоить переменной chipo"
   ]
  },
  {
   "cell_type": "code",
   "execution_count": null,
   "metadata": {
    "collapsed": true
   },
   "outputs": [],
   "source": []
  },
  {
   "cell_type": "markdown",
   "metadata": {},
   "source": [
    "Как много продуктов стоят более чем $10.00?"
   ]
  },
  {
   "cell_type": "code",
   "execution_count": null,
   "metadata": {
    "collapsed": true
   },
   "outputs": [],
   "source": []
  },
  {
   "cell_type": "markdown",
   "metadata": {},
   "source": [
    "Какова цена каждого предмета? Напечатать столбцы item_name и item_price"
   ]
  },
  {
   "cell_type": "code",
   "execution_count": null,
   "metadata": {
    "collapsed": true
   },
   "outputs": [],
   "source": []
  },
  {
   "cell_type": "markdown",
   "metadata": {},
   "source": [
    "Отсортировать по имени предмета"
   ]
  },
  {
   "cell_type": "code",
   "execution_count": null,
   "metadata": {
    "collapsed": true
   },
   "outputs": [],
   "source": []
  },
  {
   "cell_type": "markdown",
   "metadata": {},
   "source": [
    "Сколько было заказано самого дорогого предмета?"
   ]
  },
  {
   "cell_type": "code",
   "execution_count": null,
   "metadata": {
    "collapsed": true
   },
   "outputs": [],
   "source": []
  },
  {
   "cell_type": "markdown",
   "metadata": {},
   "source": [
    "Сколько раз был заказан предмет \"Veggie Salad Bowl\"?"
   ]
  },
  {
   "cell_type": "code",
   "execution_count": null,
   "metadata": {
    "collapsed": true
   },
   "outputs": [],
   "source": []
  },
  {
   "cell_type": "markdown",
   "metadata": {},
   "source": [
    "Сколько раз люди заказали более чем 1 предмет \"Canned Soda\"?"
   ]
  },
  {
   "cell_type": "code",
   "execution_count": null,
   "metadata": {
    "collapsed": true
   },
   "outputs": [],
   "source": []
  }
 ],
 "metadata": {
  "kernelspec": {
   "display_name": "Python 3",
   "language": "python",
   "name": "python3"
  },
  "language_info": {
   "codemirror_mode": {
    "name": "ipython",
    "version": 3
   },
   "file_extension": ".py",
   "mimetype": "text/x-python",
   "name": "python",
   "nbconvert_exporter": "python",
   "pygments_lexer": "ipython3",
   "version": "3.6.1"
  }
 },
 "nbformat": 4,
 "nbformat_minor": 2
}
