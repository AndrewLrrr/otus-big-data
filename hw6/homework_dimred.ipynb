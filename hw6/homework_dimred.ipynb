{
 "cells": [
  {
   "cell_type": "markdown",
   "metadata": {},
   "source": [
    "<img src='pics/otus.png'>"
   ]
  },
  {
   "cell_type": "code",
   "execution_count": 1,
   "metadata": {
    "collapsed": true
   },
   "outputs": [],
   "source": [
    "from __future__ import print_function\n",
    "from collections import defaultdict\n",
    "import pandas as pd\n",
    "import numpy as np\n",
    "import matplotlib\n",
    "# import pandas_profiling\n",
    "import matplotlib.pyplot as plt\n",
    "import matplotlib.cm as cm\n",
    "import seaborn as sns\n",
    "\n",
    "%matplotlib inline\n",
    "plt.rcParams[\"figure.figsize\"] = (15, 8)\n",
    "pd.options.display.float_format = '{:.2f}'.format"
   ]
  },
  {
   "cell_type": "code",
   "execution_count": 2,
   "metadata": {
    "collapsed": true
   },
   "outputs": [],
   "source": [
    "fn = 'orders.csv'"
   ]
  },
  {
   "cell_type": "code",
   "execution_count": 3,
   "metadata": {},
   "outputs": [
    {
     "name": "stdout",
     "output_type": "stream",
     "text": [
      "DISCOUNT_VALUE,NAME,PRICE,QUANTITY,date_insert,discount,itemID,orderID,ordered_item_count,price,user_id\r\n",
      "23.55%,Хроники Амбера. Том 2,357.0,1,2017-03-19 22:25:20,110.0,169108,602051,1,527.0,911531\r\n",
      "4.07%,Хроники Амбера. Том 1,448.0,1,2017-03-19 22:19:58,19.0,1394744,602047,1,618.0,911531\r\n",
      "4.17%,Пищеводитель,414.0,1,2017-03-19 20:58:00,65.0,191276,602017,4,1503.0,911587\r\n",
      "4.17%,\"Аудиокн. Мясников. &quot;Ржавчина&quot;: что делать, чтобы сердце не болело\",253.0,1,2017-03-19 20:58:00,65.0,157945,602017,4,1503.0,911587\r\n",
      "4.09%,Инфекции. Как защитить себя и своего ребенка,422.0,1,2017-03-19 20:58:00,65.0,205173,602017,4,1503.0,911587\r\n",
      "4.17%,О самом главном с доктором Мясниковым,414.0,1,2017-03-19 20:58:00,65.0,189415,602017,4,1503.0,911587\r\n",
      "4.12%,Пеппи Длинныйчулок собирается в путь,489.0,1,2017-03-19 20:53:51,42.0,168183,602015,2,1238.0,201724\r\n",
      "4.12%,Пеппи Длинныйчулок в стране Веселии,489.0,1,2017-03-19 20:53:51,42.0,186112,602015,2,1238.0,201724\r\n",
      "4.09%,Серебряный шар. Драма за сценой,586.0,1,2017-03-19 20:28:54,25.0,181388,602005,1,586.0,77858\r\n"
     ]
    }
   ],
   "source": [
    "!head $fn"
   ]
  },
  {
   "cell_type": "markdown",
   "metadata": {},
   "source": [
    "# 1. Провести EDA\n",
    "Просмотреть структуру данных, значения каждого признака, поискать особенности в признаках и в данных вцелом"
   ]
  },
  {
   "cell_type": "code",
   "execution_count": 4,
   "metadata": {
    "collapsed": true
   },
   "outputs": [],
   "source": [
    "df = pd.read_csv('orders.csv')"
   ]
  },
  {
   "cell_type": "code",
   "execution_count": 5,
   "metadata": {},
   "outputs": [
    {
     "data": {
      "text/plain": [
       "(557818, 11)"
      ]
     },
     "execution_count": 5,
     "metadata": {},
     "output_type": "execute_result"
    }
   ],
   "source": [
    "df.shape"
   ]
  },
  {
   "cell_type": "code",
   "execution_count": 6,
   "metadata": {},
   "outputs": [
    {
     "data": {
      "text/html": [
       "<div>\n",
       "<style>\n",
       "    .dataframe thead tr:only-child th {\n",
       "        text-align: right;\n",
       "    }\n",
       "\n",
       "    .dataframe thead th {\n",
       "        text-align: left;\n",
       "    }\n",
       "\n",
       "    .dataframe tbody tr th {\n",
       "        vertical-align: top;\n",
       "    }\n",
       "</style>\n",
       "<table border=\"1\" class=\"dataframe\">\n",
       "  <thead>\n",
       "    <tr style=\"text-align: right;\">\n",
       "      <th></th>\n",
       "      <th>DISCOUNT_VALUE</th>\n",
       "      <th>NAME</th>\n",
       "      <th>PRICE</th>\n",
       "      <th>QUANTITY</th>\n",
       "      <th>date_insert</th>\n",
       "      <th>discount</th>\n",
       "      <th>itemID</th>\n",
       "      <th>orderID</th>\n",
       "      <th>ordered_item_count</th>\n",
       "      <th>price</th>\n",
       "      <th>user_id</th>\n",
       "    </tr>\n",
       "  </thead>\n",
       "  <tbody>\n",
       "    <tr>\n",
       "      <th>0</th>\n",
       "      <td>23.55%</td>\n",
       "      <td>Хроники Амбера. Том 2</td>\n",
       "      <td>357.00</td>\n",
       "      <td>1</td>\n",
       "      <td>2017-03-19 22:25:20</td>\n",
       "      <td>110.00</td>\n",
       "      <td>169108</td>\n",
       "      <td>602051</td>\n",
       "      <td>1</td>\n",
       "      <td>527.00</td>\n",
       "      <td>911531</td>\n",
       "    </tr>\n",
       "    <tr>\n",
       "      <th>1</th>\n",
       "      <td>4.07%</td>\n",
       "      <td>Хроники Амбера. Том 1</td>\n",
       "      <td>448.00</td>\n",
       "      <td>1</td>\n",
       "      <td>2017-03-19 22:19:58</td>\n",
       "      <td>19.00</td>\n",
       "      <td>1394744</td>\n",
       "      <td>602047</td>\n",
       "      <td>1</td>\n",
       "      <td>618.00</td>\n",
       "      <td>911531</td>\n",
       "    </tr>\n",
       "    <tr>\n",
       "      <th>2</th>\n",
       "      <td>4.17%</td>\n",
       "      <td>Пищеводитель</td>\n",
       "      <td>414.00</td>\n",
       "      <td>1</td>\n",
       "      <td>2017-03-19 20:58:00</td>\n",
       "      <td>65.00</td>\n",
       "      <td>191276</td>\n",
       "      <td>602017</td>\n",
       "      <td>4</td>\n",
       "      <td>1503.00</td>\n",
       "      <td>911587</td>\n",
       "    </tr>\n",
       "    <tr>\n",
       "      <th>3</th>\n",
       "      <td>4.17%</td>\n",
       "      <td>Аудиокн. Мясников. &amp;quot;Ржавчина&amp;quot;: что д...</td>\n",
       "      <td>253.00</td>\n",
       "      <td>1</td>\n",
       "      <td>2017-03-19 20:58:00</td>\n",
       "      <td>65.00</td>\n",
       "      <td>157945</td>\n",
       "      <td>602017</td>\n",
       "      <td>4</td>\n",
       "      <td>1503.00</td>\n",
       "      <td>911587</td>\n",
       "    </tr>\n",
       "    <tr>\n",
       "      <th>4</th>\n",
       "      <td>4.09%</td>\n",
       "      <td>Инфекции. Как защитить себя и своего ребенка</td>\n",
       "      <td>422.00</td>\n",
       "      <td>1</td>\n",
       "      <td>2017-03-19 20:58:00</td>\n",
       "      <td>65.00</td>\n",
       "      <td>205173</td>\n",
       "      <td>602017</td>\n",
       "      <td>4</td>\n",
       "      <td>1503.00</td>\n",
       "      <td>911587</td>\n",
       "    </tr>\n",
       "    <tr>\n",
       "      <th>5</th>\n",
       "      <td>4.17%</td>\n",
       "      <td>О самом главном с доктором Мясниковым</td>\n",
       "      <td>414.00</td>\n",
       "      <td>1</td>\n",
       "      <td>2017-03-19 20:58:00</td>\n",
       "      <td>65.00</td>\n",
       "      <td>189415</td>\n",
       "      <td>602017</td>\n",
       "      <td>4</td>\n",
       "      <td>1503.00</td>\n",
       "      <td>911587</td>\n",
       "    </tr>\n",
       "    <tr>\n",
       "      <th>6</th>\n",
       "      <td>4.12%</td>\n",
       "      <td>Пеппи Длинныйчулок собирается в путь</td>\n",
       "      <td>489.00</td>\n",
       "      <td>1</td>\n",
       "      <td>2017-03-19 20:53:51</td>\n",
       "      <td>42.00</td>\n",
       "      <td>168183</td>\n",
       "      <td>602015</td>\n",
       "      <td>2</td>\n",
       "      <td>1238.00</td>\n",
       "      <td>201724</td>\n",
       "    </tr>\n",
       "    <tr>\n",
       "      <th>7</th>\n",
       "      <td>4.12%</td>\n",
       "      <td>Пеппи Длинныйчулок в стране Веселии</td>\n",
       "      <td>489.00</td>\n",
       "      <td>1</td>\n",
       "      <td>2017-03-19 20:53:51</td>\n",
       "      <td>42.00</td>\n",
       "      <td>186112</td>\n",
       "      <td>602015</td>\n",
       "      <td>2</td>\n",
       "      <td>1238.00</td>\n",
       "      <td>201724</td>\n",
       "    </tr>\n",
       "    <tr>\n",
       "      <th>8</th>\n",
       "      <td>4.09%</td>\n",
       "      <td>Серебряный шар. Драма за сценой</td>\n",
       "      <td>586.00</td>\n",
       "      <td>1</td>\n",
       "      <td>2017-03-19 20:28:54</td>\n",
       "      <td>25.00</td>\n",
       "      <td>181388</td>\n",
       "      <td>602005</td>\n",
       "      <td>1</td>\n",
       "      <td>586.00</td>\n",
       "      <td>77858</td>\n",
       "    </tr>\n",
       "    <tr>\n",
       "      <th>9</th>\n",
       "      <td>4.49%</td>\n",
       "      <td>Тимур и его команда</td>\n",
       "      <td>170.00</td>\n",
       "      <td>1</td>\n",
       "      <td>2017-03-19 20:23:24</td>\n",
       "      <td>15.00</td>\n",
       "      <td>149381</td>\n",
       "      <td>602004</td>\n",
       "      <td>2</td>\n",
       "      <td>562.00</td>\n",
       "      <td>355403</td>\n",
       "    </tr>\n",
       "  </tbody>\n",
       "</table>\n",
       "</div>"
      ],
      "text/plain": [
       "  DISCOUNT_VALUE                                               NAME  PRICE  \\\n",
       "0         23.55%                              Хроники Амбера. Том 2 357.00   \n",
       "1          4.07%                              Хроники Амбера. Том 1 448.00   \n",
       "2          4.17%                                       Пищеводитель 414.00   \n",
       "3          4.17%  Аудиокн. Мясников. &quot;Ржавчина&quot;: что д... 253.00   \n",
       "4          4.09%       Инфекции. Как защитить себя и своего ребенка 422.00   \n",
       "5          4.17%              О самом главном с доктором Мясниковым 414.00   \n",
       "6          4.12%               Пеппи Длинныйчулок собирается в путь 489.00   \n",
       "7          4.12%                Пеппи Длинныйчулок в стране Веселии 489.00   \n",
       "8          4.09%                    Серебряный шар. Драма за сценой 586.00   \n",
       "9          4.49%                                Тимур и его команда 170.00   \n",
       "\n",
       "   QUANTITY          date_insert  discount   itemID  orderID  \\\n",
       "0         1  2017-03-19 22:25:20    110.00   169108   602051   \n",
       "1         1  2017-03-19 22:19:58     19.00  1394744   602047   \n",
       "2         1  2017-03-19 20:58:00     65.00   191276   602017   \n",
       "3         1  2017-03-19 20:58:00     65.00   157945   602017   \n",
       "4         1  2017-03-19 20:58:00     65.00   205173   602017   \n",
       "5         1  2017-03-19 20:58:00     65.00   189415   602017   \n",
       "6         1  2017-03-19 20:53:51     42.00   168183   602015   \n",
       "7         1  2017-03-19 20:53:51     42.00   186112   602015   \n",
       "8         1  2017-03-19 20:28:54     25.00   181388   602005   \n",
       "9         1  2017-03-19 20:23:24     15.00   149381   602004   \n",
       "\n",
       "   ordered_item_count   price  user_id  \n",
       "0                   1  527.00   911531  \n",
       "1                   1  618.00   911531  \n",
       "2                   4 1503.00   911587  \n",
       "3                   4 1503.00   911587  \n",
       "4                   4 1503.00   911587  \n",
       "5                   4 1503.00   911587  \n",
       "6                   2 1238.00   201724  \n",
       "7                   2 1238.00   201724  \n",
       "8                   1  586.00    77858  \n",
       "9                   2  562.00   355403  "
      ]
     },
     "execution_count": 6,
     "metadata": {},
     "output_type": "execute_result"
    }
   ],
   "source": [
    "df.head(10)"
   ]
  },
  {
   "cell_type": "code",
   "execution_count": 7,
   "metadata": {
    "scrolled": true
   },
   "outputs": [
    {
     "name": "stdout",
     "output_type": "stream",
     "text": [
      "<class 'pandas.core.frame.DataFrame'>\n",
      "RangeIndex: 557818 entries, 0 to 557817\n",
      "Data columns (total 11 columns):\n",
      "DISCOUNT_VALUE        553777 non-null object\n",
      "NAME                  557811 non-null object\n",
      "PRICE                 557818 non-null float64\n",
      "QUANTITY              557818 non-null int64\n",
      "date_insert           557818 non-null object\n",
      "discount              557818 non-null float64\n",
      "itemID                557818 non-null int64\n",
      "orderID               557818 non-null int64\n",
      "ordered_item_count    557818 non-null int64\n",
      "price                 557818 non-null float64\n",
      "user_id               557818 non-null int64\n",
      "dtypes: float64(3), int64(5), object(3)\n",
      "memory usage: 46.8+ MB\n"
     ]
    }
   ],
   "source": [
    "df.info()"
   ]
  },
  {
   "cell_type": "code",
   "execution_count": 8,
   "metadata": {},
   "outputs": [
    {
     "data": {
      "text/html": [
       "<div>\n",
       "<style>\n",
       "    .dataframe thead tr:only-child th {\n",
       "        text-align: right;\n",
       "    }\n",
       "\n",
       "    .dataframe thead th {\n",
       "        text-align: left;\n",
       "    }\n",
       "\n",
       "    .dataframe tbody tr th {\n",
       "        vertical-align: top;\n",
       "    }\n",
       "</style>\n",
       "<table border=\"1\" class=\"dataframe\">\n",
       "  <thead>\n",
       "    <tr style=\"text-align: right;\">\n",
       "      <th></th>\n",
       "      <th>PRICE</th>\n",
       "      <th>QUANTITY</th>\n",
       "      <th>discount</th>\n",
       "      <th>itemID</th>\n",
       "      <th>orderID</th>\n",
       "      <th>ordered_item_count</th>\n",
       "      <th>price</th>\n",
       "      <th>user_id</th>\n",
       "    </tr>\n",
       "  </thead>\n",
       "  <tbody>\n",
       "    <tr>\n",
       "      <th>count</th>\n",
       "      <td>557818.00</td>\n",
       "      <td>557818.00</td>\n",
       "      <td>557818.00</td>\n",
       "      <td>557818.00</td>\n",
       "      <td>557818.00</td>\n",
       "      <td>557818.00</td>\n",
       "      <td>557818.00</td>\n",
       "      <td>557818.00</td>\n",
       "    </tr>\n",
       "    <tr>\n",
       "      <th>mean</th>\n",
       "      <td>242.73</td>\n",
       "      <td>1.65</td>\n",
       "      <td>519.41</td>\n",
       "      <td>562126.66</td>\n",
       "      <td>662756.84</td>\n",
       "      <td>12.15</td>\n",
       "      <td>2797.27</td>\n",
       "      <td>641006.11</td>\n",
       "    </tr>\n",
       "    <tr>\n",
       "      <th>std</th>\n",
       "      <td>261.93</td>\n",
       "      <td>5.05</td>\n",
       "      <td>1032.42</td>\n",
       "      <td>557123.66</td>\n",
       "      <td>37746.44</td>\n",
       "      <td>19.61</td>\n",
       "      <td>7586.23</td>\n",
       "      <td>386439.17</td>\n",
       "    </tr>\n",
       "    <tr>\n",
       "      <th>min</th>\n",
       "      <td>0.00</td>\n",
       "      <td>1.00</td>\n",
       "      <td>-1963.00</td>\n",
       "      <td>131823.00</td>\n",
       "      <td>597731.00</td>\n",
       "      <td>1.00</td>\n",
       "      <td>1.00</td>\n",
       "      <td>3.00</td>\n",
       "    </tr>\n",
       "    <tr>\n",
       "      <th>25%</th>\n",
       "      <td>92.00</td>\n",
       "      <td>1.00</td>\n",
       "      <td>175.00</td>\n",
       "      <td>178533.00</td>\n",
       "      <td>630532.00</td>\n",
       "      <td>4.00</td>\n",
       "      <td>1053.00</td>\n",
       "      <td>194865.00</td>\n",
       "    </tr>\n",
       "    <tr>\n",
       "      <th>50%</th>\n",
       "      <td>185.74</td>\n",
       "      <td>1.00</td>\n",
       "      <td>313.00</td>\n",
       "      <td>196485.00</td>\n",
       "      <td>662686.00</td>\n",
       "      <td>7.00</td>\n",
       "      <td>1389.00</td>\n",
       "      <td>911644.00</td>\n",
       "    </tr>\n",
       "    <tr>\n",
       "      <th>75%</th>\n",
       "      <td>313.00</td>\n",
       "      <td>1.00</td>\n",
       "      <td>537.00</td>\n",
       "      <td>727802.00</td>\n",
       "      <td>694208.00</td>\n",
       "      <td>13.00</td>\n",
       "      <td>2276.40</td>\n",
       "      <td>948489.00</td>\n",
       "    </tr>\n",
       "    <tr>\n",
       "      <th>max</th>\n",
       "      <td>19792.18</td>\n",
       "      <td>500.00</td>\n",
       "      <td>23851.00</td>\n",
       "      <td>1787508.00</td>\n",
       "      <td>730392.00</td>\n",
       "      <td>277.00</td>\n",
       "      <td>386495.00</td>\n",
       "      <td>998104.00</td>\n",
       "    </tr>\n",
       "  </tbody>\n",
       "</table>\n",
       "</div>"
      ],
      "text/plain": [
       "          PRICE  QUANTITY  discount     itemID   orderID  ordered_item_count  \\\n",
       "count 557818.00 557818.00 557818.00  557818.00 557818.00           557818.00   \n",
       "mean     242.73      1.65    519.41  562126.66 662756.84               12.15   \n",
       "std      261.93      5.05   1032.42  557123.66  37746.44               19.61   \n",
       "min        0.00      1.00  -1963.00  131823.00 597731.00                1.00   \n",
       "25%       92.00      1.00    175.00  178533.00 630532.00                4.00   \n",
       "50%      185.74      1.00    313.00  196485.00 662686.00                7.00   \n",
       "75%      313.00      1.00    537.00  727802.00 694208.00               13.00   \n",
       "max    19792.18    500.00  23851.00 1787508.00 730392.00              277.00   \n",
       "\n",
       "          price   user_id  \n",
       "count 557818.00 557818.00  \n",
       "mean    2797.27 641006.11  \n",
       "std     7586.23 386439.17  \n",
       "min        1.00      3.00  \n",
       "25%     1053.00 194865.00  \n",
       "50%     1389.00 911644.00  \n",
       "75%     2276.40 948489.00  \n",
       "max   386495.00 998104.00  "
      ]
     },
     "execution_count": 8,
     "metadata": {},
     "output_type": "execute_result"
    }
   ],
   "source": [
    "df.describe()"
   ]
  },
  {
   "cell_type": "markdown",
   "metadata": {},
   "source": [
    "Как видно, количество признаков не так уж велико и кроме DISCOUNT_VALUE и NAME они заполненны полностью."
   ]
  },
  {
   "cell_type": "markdown",
   "metadata": {},
   "source": [
    "#### Попробуем составить описание признаков руководствуясь здравым смыслом:"
   ]
  },
  {
   "cell_type": "markdown",
   "metadata": {},
   "source": [
    "<ul>\n",
    "<li>DISCOUNT_VALUE - процент скидки, категориальный признак, который легко трансформируется в количественный</li>\n",
    "<li>NAME - имя товара, категориальный признак</li>\n",
    "<li>PRICE - цена товара, количественный признак</li>\n",
    "<li>QUANTITY - количество товаров в заказе, количественный признак</li>\n",
    "<li>date_insert - дата заказа или формирования заказа, порядковый признак</li>\n",
    "<li>discount - скидка, количественный признак</li>\n",
    "<li>itemID - идентификатор товара, порядковый признак</li>\n",
    "<li>orderID - идентификатор заказа, порядковый признак</li>\n",
    "<li>ordered_item_count - общее количество товаров в заказе, количественный признак</li>\n",
    "<li>price - сумма заказа, количественный признак</li>\n",
    "<li>user_id - идентификатор пользователя, порядковый признак</li>\n",
    "</ul>"
   ]
  },
  {
   "cell_type": "markdown",
   "metadata": {},
   "source": [
    "#### Помотрим сколько в датасете уникальных покупателей, заказов и товаров:"
   ]
  },
  {
   "cell_type": "code",
   "execution_count": 9,
   "metadata": {},
   "outputs": [
    {
     "data": {
      "text/plain": [
       "(51890,)"
      ]
     },
     "execution_count": 9,
     "metadata": {},
     "output_type": "execute_result"
    }
   ],
   "source": [
    "# товары\n",
    "df.itemID.unique().shape"
   ]
  },
  {
   "cell_type": "code",
   "execution_count": 10,
   "metadata": {},
   "outputs": [
    {
     "data": {
      "text/plain": [
       "(127683,)"
      ]
     },
     "execution_count": 10,
     "metadata": {},
     "output_type": "execute_result"
    }
   ],
   "source": [
    "# заказы\n",
    "df.orderID.unique().shape"
   ]
  },
  {
   "cell_type": "code",
   "execution_count": 11,
   "metadata": {},
   "outputs": [
    {
     "data": {
      "text/plain": [
       "(76258,)"
      ]
     },
     "execution_count": 11,
     "metadata": {},
     "output_type": "execute_result"
    }
   ],
   "source": [
    "# покупатели\n",
    "df.user_id.unique().shape"
   ]
  },
  {
   "cell_type": "markdown",
   "metadata": {},
   "source": [
    "# 2. Спланировать эксперимент \n",
    "\n",
    "Задача:\n",
    "* сегментация товаров + сегментация пользователей (по товарам, по поведению, скидкам и пр.)\n",
    "\n",
    "Дополнительнительные задачи (опционально, подумайте о них, могут появиться интересные идеи и находки):\n",
    "* поиск товаров-заменителей и товаров, дополняющих друг друга\n",
    "* поиск выбросов среди товаров\n",
    "* поиск выбросов среди заказов\n",
    "\n",
    "Эксперимент - составить план, по которому будет проделана исследовательская работа. Примерные пункты плана:\n",
    "* Составить первичный список признаков, необходимых для решения задачи\n",
    "* Сгенерировать список новых признаков, которые можно получить из данных\n",
    "* Применить понижение размерности для визуализации данных\n",
    "* Применить кластеризацию, визуализировать\n",
    "* Описание кластера\n",
    "* Любые другие пункты"
   ]
  },
  {
   "cell_type": "markdown",
   "metadata": {},
   "source": [
    "#### Так как объем данных очень большой, то ограничимся 10000 случайных записей, чтобы не перегружать системные ресурсы:"
   ]
  },
  {
   "cell_type": "code",
   "execution_count": 12,
   "metadata": {
    "collapsed": true
   },
   "outputs": [],
   "source": [
    "df = df.sample(n=10000)"
   ]
  },
  {
   "cell_type": "markdown",
   "metadata": {},
   "source": [
    "#### Проверим на дубликаты и удалим если такие имеются:"
   ]
  },
  {
   "cell_type": "code",
   "execution_count": 13,
   "metadata": {},
   "outputs": [
    {
     "data": {
      "text/plain": [
       "0"
      ]
     },
     "execution_count": 13,
     "metadata": {},
     "output_type": "execute_result"
    }
   ],
   "source": [
    "df.duplicated().sum()"
   ]
  },
  {
   "cell_type": "code",
   "execution_count": 14,
   "metadata": {
    "collapsed": true
   },
   "outputs": [],
   "source": [
    "df.drop_duplicates(inplace = True)"
   ]
  },
  {
   "cell_type": "markdown",
   "metadata": {},
   "source": [
    "#### Сразу переведем DISCOUNT_VALUE в количественный признак, чтобы можно было с ним работать, а пропущенные значиния заполним нулями:"
   ]
  },
  {
   "cell_type": "code",
   "execution_count": 15,
   "metadata": {
    "collapsed": true
   },
   "outputs": [],
   "source": [
    "df['DISCOUNT_VALUE'] = df['DISCOUNT_VALUE'] \\\n",
    "    .map(lambda x: float(x.replace('%', '')) if isinstance(x, str) else 0)"
   ]
  },
  {
   "cell_type": "code",
   "execution_count": 16,
   "metadata": {
    "scrolled": false
   },
   "outputs": [
    {
     "data": {
      "text/html": [
       "<div>\n",
       "<style>\n",
       "    .dataframe thead tr:only-child th {\n",
       "        text-align: right;\n",
       "    }\n",
       "\n",
       "    .dataframe thead th {\n",
       "        text-align: left;\n",
       "    }\n",
       "\n",
       "    .dataframe tbody tr th {\n",
       "        vertical-align: top;\n",
       "    }\n",
       "</style>\n",
       "<table border=\"1\" class=\"dataframe\">\n",
       "  <thead>\n",
       "    <tr style=\"text-align: right;\">\n",
       "      <th></th>\n",
       "      <th>DISCOUNT_VALUE</th>\n",
       "      <th>NAME</th>\n",
       "      <th>PRICE</th>\n",
       "      <th>QUANTITY</th>\n",
       "      <th>date_insert</th>\n",
       "      <th>discount</th>\n",
       "      <th>itemID</th>\n",
       "      <th>orderID</th>\n",
       "      <th>ordered_item_count</th>\n",
       "      <th>price</th>\n",
       "      <th>user_id</th>\n",
       "    </tr>\n",
       "  </thead>\n",
       "  <tbody>\n",
       "    <tr>\n",
       "      <th>460988</th>\n",
       "      <td>26.03</td>\n",
       "      <td>Биология. 10 класс. Базовый уровень. Рабочая т...</td>\n",
       "      <td>162.06</td>\n",
       "      <td>19</td>\n",
       "      <td>2017-09-09 13:13:17</td>\n",
       "      <td>106.08</td>\n",
       "      <td>741212</td>\n",
       "      <td>708109</td>\n",
       "      <td>2</td>\n",
       "      <td>6291.90</td>\n",
       "      <td>981968</td>\n",
       "    </tr>\n",
       "    <tr>\n",
       "      <th>194750</th>\n",
       "      <td>20.15</td>\n",
       "      <td>Стихи и сказки для самых маленьких</td>\n",
       "      <td>218.00</td>\n",
       "      <td>1</td>\n",
       "      <td>2017-05-31 07:44:40</td>\n",
       "      <td>289.00</td>\n",
       "      <td>185918</td>\n",
       "      <td>641691</td>\n",
       "      <td>4</td>\n",
       "      <td>1178.00</td>\n",
       "      <td>938159</td>\n",
       "    </tr>\n",
       "    <tr>\n",
       "      <th>519244</th>\n",
       "      <td>20.22</td>\n",
       "      <td>Русский язык. Русская словесность. 7 класс. Ра...</td>\n",
       "      <td>146.00</td>\n",
       "      <td>1</td>\n",
       "      <td>2017-09-19 13:06:00</td>\n",
       "      <td>37.00</td>\n",
       "      <td>1390477</td>\n",
       "      <td>718592</td>\n",
       "      <td>1</td>\n",
       "      <td>336.00</td>\n",
       "      <td>990376</td>\n",
       "    </tr>\n",
       "    <tr>\n",
       "      <th>306445</th>\n",
       "      <td>19.91</td>\n",
       "      <td>100 лучших рецептов для новогоднего стола</td>\n",
       "      <td>185.00</td>\n",
       "      <td>1</td>\n",
       "      <td>2017-07-19 14:48:01</td>\n",
       "      <td>434.00</td>\n",
       "      <td>150074</td>\n",
       "      <td>670545</td>\n",
       "      <td>7</td>\n",
       "      <td>1658.00</td>\n",
       "      <td>211818</td>\n",
       "    </tr>\n",
       "    <tr>\n",
       "      <th>216736</th>\n",
       "      <td>20.23</td>\n",
       "      <td>Хлеб с ветчиной</td>\n",
       "      <td>138.00</td>\n",
       "      <td>1</td>\n",
       "      <td>2017-06-11 15:21:00</td>\n",
       "      <td>280.00</td>\n",
       "      <td>713593</td>\n",
       "      <td>648703</td>\n",
       "      <td>12</td>\n",
       "      <td>1107.00</td>\n",
       "      <td>942946</td>\n",
       "    </tr>\n",
       "  </tbody>\n",
       "</table>\n",
       "</div>"
      ],
      "text/plain": [
       "        DISCOUNT_VALUE                                               NAME  \\\n",
       "460988           26.03  Биология. 10 класс. Базовый уровень. Рабочая т...   \n",
       "194750           20.15                 Стихи и сказки для самых маленьких   \n",
       "519244           20.22  Русский язык. Русская словесность. 7 класс. Ра...   \n",
       "306445           19.91          100 лучших рецептов для новогоднего стола   \n",
       "216736           20.23                                    Хлеб с ветчиной   \n",
       "\n",
       "        PRICE  QUANTITY          date_insert  discount   itemID  orderID  \\\n",
       "460988 162.06        19  2017-09-09 13:13:17    106.08   741212   708109   \n",
       "194750 218.00         1  2017-05-31 07:44:40    289.00   185918   641691   \n",
       "519244 146.00         1  2017-09-19 13:06:00     37.00  1390477   718592   \n",
       "306445 185.00         1  2017-07-19 14:48:01    434.00   150074   670545   \n",
       "216736 138.00         1  2017-06-11 15:21:00    280.00   713593   648703   \n",
       "\n",
       "        ordered_item_count   price  user_id  \n",
       "460988                   2 6291.90   981968  \n",
       "194750                   4 1178.00   938159  \n",
       "519244                   1  336.00   990376  \n",
       "306445                   7 1658.00   211818  \n",
       "216736                  12 1107.00   942946  "
      ]
     },
     "execution_count": 16,
     "metadata": {},
     "output_type": "execute_result"
    }
   ],
   "source": [
    "df.head(5)"
   ]
  },
  {
   "cell_type": "code",
   "execution_count": 17,
   "metadata": {
    "collapsed": true
   },
   "outputs": [],
   "source": [
    "nans = lambda df: df[df.isnull().any(axis=1)]"
   ]
  },
  {
   "cell_type": "code",
   "execution_count": 18,
   "metadata": {},
   "outputs": [
    {
     "name": "stdout",
     "output_type": "stream",
     "text": [
      "<class 'pandas.core.frame.DataFrame'>\n",
      "Int64Index: 10000 entries, 460988 to 359504\n",
      "Data columns (total 11 columns):\n",
      "DISCOUNT_VALUE        10000 non-null float64\n",
      "NAME                  9999 non-null object\n",
      "PRICE                 10000 non-null float64\n",
      "QUANTITY              10000 non-null int64\n",
      "date_insert           10000 non-null object\n",
      "discount              10000 non-null float64\n",
      "itemID                10000 non-null int64\n",
      "orderID               10000 non-null int64\n",
      "ordered_item_count    10000 non-null int64\n",
      "price                 10000 non-null float64\n",
      "user_id               10000 non-null int64\n",
      "dtypes: float64(4), int64(5), object(2)\n",
      "memory usage: 937.5+ KB\n"
     ]
    }
   ],
   "source": [
    "df.info()"
   ]
  },
  {
   "cell_type": "markdown",
   "metadata": {},
   "source": [
    "Если внимательно посмотреть на названия товаров, то можно заметить, что классифицировать их не так и просто. Можно отделить учебники от остальных книг, но дальше уже классификация будет не столь очевидна. Поэтому лучше ориентироваться на другие признаки."
   ]
  },
  {
   "cell_type": "markdown",
   "metadata": {},
   "source": [
    "#### Из имеющихся не количественных признаков можно особо выделить дату. Посмотрим как происходит распределение по месяцам:"
   ]
  },
  {
   "cell_type": "code",
   "execution_count": 19,
   "metadata": {
    "collapsed": true
   },
   "outputs": [],
   "source": [
    "import re"
   ]
  },
  {
   "cell_type": "code",
   "execution_count": 20,
   "metadata": {
    "collapsed": true
   },
   "outputs": [],
   "source": [
    "df_months = df['date_insert'].map(lambda x: int(re.sub(r'\\d{4}-(\\d{2})-\\d{2}.*', r'\\1', x)))"
   ]
  },
  {
   "cell_type": "code",
   "execution_count": 21,
   "metadata": {},
   "outputs": [
    {
     "data": {
      "image/png": "[encoded data removed]",
      "text/plain": [
       "<matplotlib.figure.Figure at 0x116d6a290>"
      ]
     },
     "metadata": {},
     "output_type": "display_data"
    }
   ],
   "source": [
    "df_months.value_counts().plot(kind='bar');"
   ]
  },
  {
   "cell_type": "markdown",
   "metadata": {},
   "source": [
    "Как видно, больше всего покупок было сделанно в августе и сентябре. Это наводит на определенные предположения, единственное \"но\", у нас есть статистика не за все месяцы, а для октября, скорее всего она не полная."
   ]
  },
  {
   "cell_type": "markdown",
   "metadata": {},
   "source": [
    "#### Это интересное свойство, поэтому выделим месяц в отдельную категорию:"
   ]
  },
  {
   "cell_type": "code",
   "execution_count": 22,
   "metadata": {
    "collapsed": true
   },
   "outputs": [],
   "source": [
    "df['month'] = df_months"
   ]
  },
  {
   "cell_type": "code",
   "execution_count": 23,
   "metadata": {},
   "outputs": [
    {
     "data": {
      "text/html": [
       "<div>\n",
       "<style>\n",
       "    .dataframe thead tr:only-child th {\n",
       "        text-align: right;\n",
       "    }\n",
       "\n",
       "    .dataframe thead th {\n",
       "        text-align: left;\n",
       "    }\n",
       "\n",
       "    .dataframe tbody tr th {\n",
       "        vertical-align: top;\n",
       "    }\n",
       "</style>\n",
       "<table border=\"1\" class=\"dataframe\">\n",
       "  <thead>\n",
       "    <tr style=\"text-align: right;\">\n",
       "      <th></th>\n",
       "      <th>DISCOUNT_VALUE</th>\n",
       "      <th>NAME</th>\n",
       "      <th>PRICE</th>\n",
       "      <th>QUANTITY</th>\n",
       "      <th>date_insert</th>\n",
       "      <th>discount</th>\n",
       "      <th>itemID</th>\n",
       "      <th>orderID</th>\n",
       "      <th>ordered_item_count</th>\n",
       "      <th>price</th>\n",
       "      <th>user_id</th>\n",
       "      <th>month</th>\n",
       "    </tr>\n",
       "  </thead>\n",
       "  <tbody>\n",
       "    <tr>\n",
       "      <th>460988</th>\n",
       "      <td>26.03</td>\n",
       "      <td>Биология. 10 класс. Базовый уровень. Рабочая т...</td>\n",
       "      <td>162.06</td>\n",
       "      <td>19</td>\n",
       "      <td>2017-09-09 13:13:17</td>\n",
       "      <td>106.08</td>\n",
       "      <td>741212</td>\n",
       "      <td>708109</td>\n",
       "      <td>2</td>\n",
       "      <td>6291.90</td>\n",
       "      <td>981968</td>\n",
       "      <td>9</td>\n",
       "    </tr>\n",
       "    <tr>\n",
       "      <th>194750</th>\n",
       "      <td>20.15</td>\n",
       "      <td>Стихи и сказки для самых маленьких</td>\n",
       "      <td>218.00</td>\n",
       "      <td>1</td>\n",
       "      <td>2017-05-31 07:44:40</td>\n",
       "      <td>289.00</td>\n",
       "      <td>185918</td>\n",
       "      <td>641691</td>\n",
       "      <td>4</td>\n",
       "      <td>1178.00</td>\n",
       "      <td>938159</td>\n",
       "      <td>5</td>\n",
       "    </tr>\n",
       "    <tr>\n",
       "      <th>519244</th>\n",
       "      <td>20.22</td>\n",
       "      <td>Русский язык. Русская словесность. 7 класс. Ра...</td>\n",
       "      <td>146.00</td>\n",
       "      <td>1</td>\n",
       "      <td>2017-09-19 13:06:00</td>\n",
       "      <td>37.00</td>\n",
       "      <td>1390477</td>\n",
       "      <td>718592</td>\n",
       "      <td>1</td>\n",
       "      <td>336.00</td>\n",
       "      <td>990376</td>\n",
       "      <td>9</td>\n",
       "    </tr>\n",
       "    <tr>\n",
       "      <th>306445</th>\n",
       "      <td>19.91</td>\n",
       "      <td>100 лучших рецептов для новогоднего стола</td>\n",
       "      <td>185.00</td>\n",
       "      <td>1</td>\n",
       "      <td>2017-07-19 14:48:01</td>\n",
       "      <td>434.00</td>\n",
       "      <td>150074</td>\n",
       "      <td>670545</td>\n",
       "      <td>7</td>\n",
       "      <td>1658.00</td>\n",
       "      <td>211818</td>\n",
       "      <td>7</td>\n",
       "    </tr>\n",
       "    <tr>\n",
       "      <th>216736</th>\n",
       "      <td>20.23</td>\n",
       "      <td>Хлеб с ветчиной</td>\n",
       "      <td>138.00</td>\n",
       "      <td>1</td>\n",
       "      <td>2017-06-11 15:21:00</td>\n",
       "      <td>280.00</td>\n",
       "      <td>713593</td>\n",
       "      <td>648703</td>\n",
       "      <td>12</td>\n",
       "      <td>1107.00</td>\n",
       "      <td>942946</td>\n",
       "      <td>6</td>\n",
       "    </tr>\n",
       "  </tbody>\n",
       "</table>\n",
       "</div>"
      ],
      "text/plain": [
       "        DISCOUNT_VALUE                                               NAME  \\\n",
       "460988           26.03  Биология. 10 класс. Базовый уровень. Рабочая т...   \n",
       "194750           20.15                 Стихи и сказки для самых маленьких   \n",
       "519244           20.22  Русский язык. Русская словесность. 7 класс. Ра...   \n",
       "306445           19.91          100 лучших рецептов для новогоднего стола   \n",
       "216736           20.23                                    Хлеб с ветчиной   \n",
       "\n",
       "        PRICE  QUANTITY          date_insert  discount   itemID  orderID  \\\n",
       "460988 162.06        19  2017-09-09 13:13:17    106.08   741212   708109   \n",
       "194750 218.00         1  2017-05-31 07:44:40    289.00   185918   641691   \n",
       "519244 146.00         1  2017-09-19 13:06:00     37.00  1390477   718592   \n",
       "306445 185.00         1  2017-07-19 14:48:01    434.00   150074   670545   \n",
       "216736 138.00         1  2017-06-11 15:21:00    280.00   713593   648703   \n",
       "\n",
       "        ordered_item_count   price  user_id  month  \n",
       "460988                   2 6291.90   981968      9  \n",
       "194750                   4 1178.00   938159      5  \n",
       "519244                   1  336.00   990376      9  \n",
       "306445                   7 1658.00   211818      7  \n",
       "216736                  12 1107.00   942946      6  "
      ]
     },
     "execution_count": 23,
     "metadata": {},
     "output_type": "execute_result"
    }
   ],
   "source": [
    "df.head(5)"
   ]
  },
  {
   "cell_type": "markdown",
   "metadata": {},
   "source": [
    "#### Для того, чтобы лучше понять как между собой коррелируют признаки (возьмем только количественные), построим тепловую карту для них:"
   ]
  },
  {
   "cell_type": "code",
   "execution_count": 24,
   "metadata": {
    "collapsed": true
   },
   "outputs": [],
   "source": [
    "features = [\n",
    "    'DISCOUNT_VALUE',\n",
    "    'PRICE',\n",
    "    'QUANTITY',\n",
    "    'discount',\n",
    "    'ordered_item_count',\n",
    "    'price',\n",
    "    'month',\n",
    "]"
   ]
  },
  {
   "cell_type": "code",
   "execution_count": 25,
   "metadata": {
    "collapsed": true
   },
   "outputs": [],
   "source": [
    "df_features = df[features]"
   ]
  },
  {
   "cell_type": "code",
   "execution_count": 26,
   "metadata": {},
   "outputs": [
    {
     "data": {
      "image/png": "[encoded data removed]",
      "text/plain": [
       "<matplotlib.figure.Figure at 0x116d6a5d0>"
      ]
     },
     "metadata": {},
     "output_type": "display_data"
    }
   ],
   "source": [
    "df_features_corr = np.corrcoef(df_features.values.T)\n",
    "sns.heatmap(df_features_corr, annot=True, square=True, yticklabels=features, xticklabels=features);"
   ]
  },
  {
   "cell_type": "markdown",
   "metadata": {},
   "source": [
    "Как видно, неплохая корреляция наблюдается между свойствами discount и ordered_item_count, discount и price, QUANTITY и price, ordered_item_count и price."
   ]
  },
  {
   "cell_type": "markdown",
   "metadata": {},
   "source": [
    "#### Проверим эти свойства на наличие выбросов:"
   ]
  },
  {
   "cell_type": "code",
   "execution_count": 27,
   "metadata": {},
   "outputs": [
    {
     "data": {
      "image/png": "[encoded data removed]",
      "text/plain": [
       "<matplotlib.figure.Figure at 0x11708bdd0>"
      ]
     },
     "metadata": {},
     "output_type": "display_data"
    }
   ],
   "source": [
    "df.plot.scatter('discount', 'ordered_item_count')\n",
    "plt.xlabel('discount')\n",
    "plt.ylabel('ordered_item_count');"
   ]
  },
  {
   "cell_type": "code",
   "execution_count": 28,
   "metadata": {},
   "outputs": [
    {
     "data": {
      "image/png": "[encoded data removed]",
      "text/plain": [
       "<matplotlib.figure.Figure at 0x1173b2b10>"
      ]
     },
     "metadata": {},
     "output_type": "display_data"
    }
   ],
   "source": [
    "df.plot.scatter('discount', 'price')\n",
    "plt.xlabel('discount')\n",
    "plt.ylabel('price');"
   ]
  },
  {
   "cell_type": "code",
   "execution_count": 29,
   "metadata": {},
   "outputs": [
    {
     "data": {
      "image/png": "[encoded data removed]",
      "text/plain": [
       "<matplotlib.figure.Figure at 0x1172bfd50>"
      ]
     },
     "metadata": {},
     "output_type": "display_data"
    }
   ],
   "source": [
    "df.plot.scatter('QUANTITY', 'price')\n",
    "plt.xlabel('QUANTITY')\n",
    "plt.ylabel('price');"
   ]
  },
  {
   "cell_type": "code",
   "execution_count": 30,
   "metadata": {},
   "outputs": [
    {
     "data": {
      "image/png": "[encoded data removed]",
      "text/plain": [
       "<matplotlib.figure.Figure at 0x1172a2550>"
      ]
     },
     "metadata": {},
     "output_type": "display_data"
    }
   ],
   "source": [
    "df.plot.scatter('ordered_item_count', 'price')\n",
    "plt.xlabel('ordered_item_count')\n",
    "plt.ylabel('price');"
   ]
  },
  {
   "cell_type": "markdown",
   "metadata": {},
   "source": [
    "Как видно, выбросы так или иначе присутствуют во всех видах коррелирующих пар, что может дать определенные неточности при кластеризации."
   ]
  },
  {
   "cell_type": "markdown",
   "metadata": {},
   "source": [
    "# 3. Выполнить подготовку данных для построения модели\n",
    "\n",
    "Выполнить необходимые преобразования данных"
   ]
  },
  {
   "cell_type": "markdown",
   "metadata": {},
   "source": [
    "#### Тепловая карта дала определенное представление о том, как признаки взаимодействуют между собой, но не полное, чтобы лучше понять это взаимодействие, применим метод уменьшения размерности (PCA):"
   ]
  },
  {
   "cell_type": "code",
   "execution_count": 31,
   "metadata": {
    "collapsed": true
   },
   "outputs": [],
   "source": [
    "from sklearn.preprocessing import StandardScaler"
   ]
  },
  {
   "cell_type": "code",
   "execution_count": 32,
   "metadata": {},
   "outputs": [
    {
     "data": {
      "text/plain": [
       "array([[ 3.4117742 , -0.45432116, -0.54664314,  0.4527795 ],\n",
       "       [-0.13675643, -0.24324102, -0.43753383, -0.20555311],\n",
       "       [-0.13675643, -0.53403588, -0.6011978 , -0.3139471 ],\n",
       "       ..., \n",
       "       [-0.13675643, -0.52942009, -0.49208849, -0.18496597],\n",
       "       [-0.13675643,  0.02909067,  1.36276994, -0.13307589],\n",
       "       [-0.13675643, -0.30440026, -0.38297917, -0.13886892]])"
      ]
     },
     "execution_count": 32,
     "metadata": {},
     "output_type": "execute_result"
    }
   ],
   "source": [
    "scaler = StandardScaler()\n",
    "X = scaler.fit_transform(df_features[['QUANTITY', 'discount', 'ordered_item_count', 'price']].as_matrix())\n",
    "X"
   ]
  },
  {
   "cell_type": "markdown",
   "metadata": {},
   "source": [
    "# 4. Провести построение модели "
   ]
  },
  {
   "cell_type": "code",
   "execution_count": 33,
   "metadata": {
    "collapsed": true
   },
   "outputs": [],
   "source": [
    "from sklearn.cluster import KMeans\n",
    "from sklearn.metrics import silhouette_score, silhouette_samples"
   ]
  },
  {
   "cell_type": "code",
   "execution_count": 34,
   "metadata": {},
   "outputs": [
    {
     "name": "stdout",
     "output_type": "stream",
     "text": [
      "2\n",
      "For n_clusters = 2 The inertia_ is : 28334.5415149 The average silhouette_score is : 0.872163092258\n",
      "3\n",
      "For n_clusters = 3 The inertia_ is : 21948.5216978 The average silhouette_score is : 0.857647100616\n",
      "4\n",
      "For n_clusters = 4 The inertia_ is : 17501.5448161 The average silhouette_score is : 0.831490960427\n",
      "5\n",
      "For n_clusters = 5 The inertia_ is : 13983.308511 The average silhouette_score is : 0.81332075057\n",
      "6\n",
      "For n_clusters = 6 The inertia_ is : 11593.3477059 The average silhouette_score is : 0.629049688205\n",
      "7\n",
      "For n_clusters = 7 The inertia_ is : 10056.143041 The average silhouette_score is : 0.632726041831\n",
      "8\n",
      "For n_clusters = 8 The inertia_ is : 8605.96386483 The average silhouette_score is : 0.63311994639\n",
      "9\n",
      "For n_clusters = 9 The inertia_ is : 7502.25096754 The average silhouette_score is : 0.630619246776\n"
     ]
    }
   ],
   "source": [
    "inertias = []\n",
    "silhs = []\n",
    "for n_clusters in range(2, 10):\n",
    "    print(n_clusters)\n",
    "\n",
    "    kmeans = KMeans(init='k-means++', n_clusters=n_clusters, n_init=30)\n",
    "    kmeans.fit(X)\n",
    "    clusters = kmeans.predict(X)\n",
    "    silhouette_avg = silhouette_score(X, clusters)\n",
    "    \n",
    "    print(\"For n_clusters =\", n_clusters, \"The inertia_ is :\", kmeans.inertia_, \"The average silhouette_score is :\", silhouette_avg)\n",
    "    \n",
    "    inertias.append(kmeans.inertia_)\n",
    "    silhs.append(silhouette_avg)"
   ]
  },
  {
   "cell_type": "code",
   "execution_count": 35,
   "metadata": {},
   "outputs": [
    {
     "data": {
      "image/png": "[encoded data removed]",
      "text/plain": [
       "<matplotlib.figure.Figure at 0x118f7af10>"
      ]
     },
     "metadata": {},
     "output_type": "display_data"
    }
   ],
   "source": [
    "plt.plot(range(2, 10), inertias);"
   ]
  },
  {
   "cell_type": "code",
   "execution_count": 36,
   "metadata": {},
   "outputs": [
    {
     "data": {
      "image/png": "[encoded data removed]",
      "text/plain": [
       "<matplotlib.figure.Figure at 0x116db7ed0>"
      ]
     },
     "metadata": {},
     "output_type": "display_data"
    }
   ],
   "source": [
    "plt.plot(range(2, 10), silhs);"
   ]
  },
  {
   "cell_type": "markdown",
   "metadata": {},
   "source": [
    "Если судить по инерции то, наибольший излом у графика инерции находится в районе 4 и 5. Возьмем значение 4 для первой попытки."
   ]
  },
  {
   "cell_type": "code",
   "execution_count": 37,
   "metadata": {
    "collapsed": true
   },
   "outputs": [],
   "source": [
    "df_prod = pd.read_csv('orders.csv')"
   ]
  },
  {
   "cell_type": "code",
   "execution_count": 38,
   "metadata": {
    "collapsed": true
   },
   "outputs": [],
   "source": [
    "X_prod = scaler.fit_transform(df_prod[['QUANTITY', 'discount', 'ordered_item_count', 'price']].as_matrix())"
   ]
  },
  {
   "cell_type": "code",
   "execution_count": 39,
   "metadata": {
    "collapsed": true
   },
   "outputs": [],
   "source": [
    "n_clusters = 4\n",
    "kmeans = KMeans(init='k-means++', n_clusters=n_clusters)\n",
    "kmeans.fit(X_prod)\n",
    "clusters = kmeans.predict(X_prod)"
   ]
  },
  {
   "cell_type": "code",
   "execution_count": 40,
   "metadata": {},
   "outputs": [
    {
     "data": {
      "text/plain": [
       "(557818,)"
      ]
     },
     "execution_count": 40,
     "metadata": {},
     "output_type": "execute_result"
    }
   ],
   "source": [
    "clusters.shape"
   ]
  },
  {
   "cell_type": "markdown",
   "metadata": {},
   "source": [
    "# 5. Проанализировать результат\n",
    "получилось или нет, почему, что можно улучшить, можно ли интерпретировать результат"
   ]
  },
  {
   "cell_type": "code",
   "execution_count": 41,
   "metadata": {
    "collapsed": true
   },
   "outputs": [],
   "source": [
    "df_prod['cluster'] = clusters"
   ]
  },
  {
   "cell_type": "code",
   "execution_count": 42,
   "metadata": {},
   "outputs": [
    {
     "data": {
      "image/png": "[encoded data removed]",
      "text/plain": [
       "<matplotlib.figure.Figure at 0x12929c4d0>"
      ]
     },
     "metadata": {},
     "output_type": "display_data"
    }
   ],
   "source": [
    "df_prod['cluster'].value_counts().plot(kind='bar');"
   ]
  },
  {
   "cell_type": "markdown",
   "metadata": {},
   "source": [
    "#### Посмотрим какие значения попали в 0, 1, 2 и 3 кластера:"
   ]
  },
  {
   "cell_type": "code",
   "execution_count": 43,
   "metadata": {
    "scrolled": false
   },
   "outputs": [
    {
     "data": {
      "text/html": [
       "<div>\n",
       "<style>\n",
       "    .dataframe thead tr:only-child th {\n",
       "        text-align: right;\n",
       "    }\n",
       "\n",
       "    .dataframe thead th {\n",
       "        text-align: left;\n",
       "    }\n",
       "\n",
       "    .dataframe tbody tr th {\n",
       "        vertical-align: top;\n",
       "    }\n",
       "</style>\n",
       "<table border=\"1\" class=\"dataframe\">\n",
       "  <thead>\n",
       "    <tr style=\"text-align: right;\">\n",
       "      <th></th>\n",
       "      <th>DISCOUNT_VALUE</th>\n",
       "      <th>NAME</th>\n",
       "      <th>PRICE</th>\n",
       "      <th>QUANTITY</th>\n",
       "      <th>date_insert</th>\n",
       "      <th>discount</th>\n",
       "      <th>itemID</th>\n",
       "      <th>orderID</th>\n",
       "      <th>ordered_item_count</th>\n",
       "      <th>price</th>\n",
       "      <th>user_id</th>\n",
       "      <th>cluster</th>\n",
       "    </tr>\n",
       "  </thead>\n",
       "  <tbody>\n",
       "    <tr>\n",
       "      <th>299</th>\n",
       "      <td>4.02%</td>\n",
       "      <td>#Пастапаста</td>\n",
       "      <td>1065.00</td>\n",
       "      <td>10</td>\n",
       "      <td>2017-03-17 15:46:28</td>\n",
       "      <td>4037.00</td>\n",
       "      <td>196138</td>\n",
       "      <td>600959</td>\n",
       "      <td>8</td>\n",
       "      <td>42544.00</td>\n",
       "      <td>175158</td>\n",
       "      <td>0</td>\n",
       "    </tr>\n",
       "    <tr>\n",
       "      <th>300</th>\n",
       "      <td>4.02%</td>\n",
       "      <td>#Мясомясо (книга+диск)</td>\n",
       "      <td>999.00</td>\n",
       "      <td>4</td>\n",
       "      <td>2017-03-17 15:46:28</td>\n",
       "      <td>4037.00</td>\n",
       "      <td>195826</td>\n",
       "      <td>600959</td>\n",
       "      <td>8</td>\n",
       "      <td>42544.00</td>\n",
       "      <td>175158</td>\n",
       "      <td>0</td>\n",
       "    </tr>\n",
       "    <tr>\n",
       "      <th>301</th>\n",
       "      <td>4.02%</td>\n",
       "      <td>Про еду, про вино, Прованс</td>\n",
       "      <td>903.00</td>\n",
       "      <td>6</td>\n",
       "      <td>2017-03-17 15:46:28</td>\n",
       "      <td>4037.00</td>\n",
       "      <td>195737</td>\n",
       "      <td>600959</td>\n",
       "      <td>8</td>\n",
       "      <td>42544.00</td>\n",
       "      <td>175158</td>\n",
       "      <td>0</td>\n",
       "    </tr>\n",
       "    <tr>\n",
       "      <th>302</th>\n",
       "      <td>4.02%</td>\n",
       "      <td>Вина Франции</td>\n",
       "      <td>1292.00</td>\n",
       "      <td>3</td>\n",
       "      <td>2017-03-17 15:46:28</td>\n",
       "      <td>4037.00</td>\n",
       "      <td>219306</td>\n",
       "      <td>600959</td>\n",
       "      <td>8</td>\n",
       "      <td>42544.00</td>\n",
       "      <td>175158</td>\n",
       "      <td>0</td>\n",
       "    </tr>\n",
       "    <tr>\n",
       "      <th>303</th>\n",
       "      <td>4.02%</td>\n",
       "      <td>Шампань и другие игристые вина</td>\n",
       "      <td>1292.00</td>\n",
       "      <td>3</td>\n",
       "      <td>2017-03-17 15:46:28</td>\n",
       "      <td>4037.00</td>\n",
       "      <td>709813</td>\n",
       "      <td>600959</td>\n",
       "      <td>8</td>\n",
       "      <td>42544.00</td>\n",
       "      <td>175158</td>\n",
       "      <td>0</td>\n",
       "    </tr>\n",
       "  </tbody>\n",
       "</table>\n",
       "</div>"
      ],
      "text/plain": [
       "    DISCOUNT_VALUE                            NAME   PRICE  QUANTITY  \\\n",
       "299          4.02%                     #Пастапаста 1065.00        10   \n",
       "300          4.02%          #Мясомясо (книга+диск)  999.00         4   \n",
       "301          4.02%      Про еду, про вино, Прованс  903.00         6   \n",
       "302          4.02%                    Вина Франции 1292.00         3   \n",
       "303          4.02%  Шампань и другие игристые вина 1292.00         3   \n",
       "\n",
       "             date_insert  discount  itemID  orderID  ordered_item_count  \\\n",
       "299  2017-03-17 15:46:28   4037.00  196138   600959                   8   \n",
       "300  2017-03-17 15:46:28   4037.00  195826   600959                   8   \n",
       "301  2017-03-17 15:46:28   4037.00  195737   600959                   8   \n",
       "302  2017-03-17 15:46:28   4037.00  219306   600959                   8   \n",
       "303  2017-03-17 15:46:28   4037.00  709813   600959                   8   \n",
       "\n",
       "       price  user_id  cluster  \n",
       "299 42544.00   175158        0  \n",
       "300 42544.00   175158        0  \n",
       "301 42544.00   175158        0  \n",
       "302 42544.00   175158        0  \n",
       "303 42544.00   175158        0  "
      ]
     },
     "execution_count": 43,
     "metadata": {},
     "output_type": "execute_result"
    }
   ],
   "source": [
    "df_prod[df_prod.cluster == 0].head(5)"
   ]
  },
  {
   "cell_type": "code",
   "execution_count": 44,
   "metadata": {},
   "outputs": [
    {
     "data": {
      "text/html": [
       "<div>\n",
       "<style>\n",
       "    .dataframe thead tr:only-child th {\n",
       "        text-align: right;\n",
       "    }\n",
       "\n",
       "    .dataframe thead th {\n",
       "        text-align: left;\n",
       "    }\n",
       "\n",
       "    .dataframe tbody tr th {\n",
       "        vertical-align: top;\n",
       "    }\n",
       "</style>\n",
       "<table border=\"1\" class=\"dataframe\">\n",
       "  <thead>\n",
       "    <tr style=\"text-align: right;\">\n",
       "      <th></th>\n",
       "      <th>DISCOUNT_VALUE</th>\n",
       "      <th>NAME</th>\n",
       "      <th>PRICE</th>\n",
       "      <th>QUANTITY</th>\n",
       "      <th>date_insert</th>\n",
       "      <th>discount</th>\n",
       "      <th>itemID</th>\n",
       "      <th>orderID</th>\n",
       "      <th>ordered_item_count</th>\n",
       "      <th>price</th>\n",
       "      <th>user_id</th>\n",
       "      <th>cluster</th>\n",
       "    </tr>\n",
       "  </thead>\n",
       "  <tbody>\n",
       "    <tr>\n",
       "      <th>306</th>\n",
       "      <td>4.08%</td>\n",
       "      <td>#неслипнется</td>\n",
       "      <td>512.00</td>\n",
       "      <td>15</td>\n",
       "      <td>2017-03-17 15:46:28</td>\n",
       "      <td>4037.00</td>\n",
       "      <td>188927</td>\n",
       "      <td>600959</td>\n",
       "      <td>8</td>\n",
       "      <td>42544.00</td>\n",
       "      <td>175158</td>\n",
       "      <td>1</td>\n",
       "    </tr>\n",
       "    <tr>\n",
       "      <th>562</th>\n",
       "      <td>45.06%</td>\n",
       "      <td>Животные. Все обитатели нашей планеты</td>\n",
       "      <td>834.00</td>\n",
       "      <td>23</td>\n",
       "      <td>2017-03-16 17:41:02</td>\n",
       "      <td>684.00</td>\n",
       "      <td>715598</td>\n",
       "      <td>600352</td>\n",
       "      <td>1</td>\n",
       "      <td>19182.00</td>\n",
       "      <td>198448</td>\n",
       "      <td>1</td>\n",
       "    </tr>\n",
       "    <tr>\n",
       "      <th>570</th>\n",
       "      <td>19.95%</td>\n",
       "      <td>Чайка. Три сестры. Вишневый сад (вес: 513гр.)</td>\n",
       "      <td>276.00</td>\n",
       "      <td>36</td>\n",
       "      <td>2017-03-16 17:08:14</td>\n",
       "      <td>12.00</td>\n",
       "      <td>219266</td>\n",
       "      <td>600329</td>\n",
       "      <td>1</td>\n",
       "      <td>9936.00</td>\n",
       "      <td>910163</td>\n",
       "      <td>1</td>\n",
       "    </tr>\n",
       "    <tr>\n",
       "      <th>594</th>\n",
       "      <td>17.22%</td>\n",
       "      <td>Вселенная (+ наклейки для раскрашивания)</td>\n",
       "      <td>298.00</td>\n",
       "      <td>41</td>\n",
       "      <td>2017-03-16 16:08:19</td>\n",
       "      <td>114.00</td>\n",
       "      <td>669491</td>\n",
       "      <td>600274</td>\n",
       "      <td>3</td>\n",
       "      <td>20818.00</td>\n",
       "      <td>910190</td>\n",
       "      <td>1</td>\n",
       "    </tr>\n",
       "    <tr>\n",
       "      <th>595</th>\n",
       "      <td>17.11%</td>\n",
       "      <td>Космос (с наклейками)</td>\n",
       "      <td>155.00</td>\n",
       "      <td>33</td>\n",
       "      <td>2017-03-16 16:08:19</td>\n",
       "      <td>114.00</td>\n",
       "      <td>706157</td>\n",
       "      <td>600274</td>\n",
       "      <td>3</td>\n",
       "      <td>20818.00</td>\n",
       "      <td>910190</td>\n",
       "      <td>1</td>\n",
       "    </tr>\n",
       "  </tbody>\n",
       "</table>\n",
       "</div>"
      ],
      "text/plain": [
       "    DISCOUNT_VALUE                                           NAME  PRICE  \\\n",
       "306          4.08%                                   #неслипнется 512.00   \n",
       "562         45.06%          Животные. Все обитатели нашей планеты 834.00   \n",
       "570         19.95%  Чайка. Три сестры. Вишневый сад (вес: 513гр.) 276.00   \n",
       "594         17.22%       Вселенная (+ наклейки для раскрашивания) 298.00   \n",
       "595         17.11%                          Космос (с наклейками) 155.00   \n",
       "\n",
       "     QUANTITY          date_insert  discount  itemID  orderID  \\\n",
       "306        15  2017-03-17 15:46:28   4037.00  188927   600959   \n",
       "562        23  2017-03-16 17:41:02    684.00  715598   600352   \n",
       "570        36  2017-03-16 17:08:14     12.00  219266   600329   \n",
       "594        41  2017-03-16 16:08:19    114.00  669491   600274   \n",
       "595        33  2017-03-16 16:08:19    114.00  706157   600274   \n",
       "\n",
       "     ordered_item_count    price  user_id  cluster  \n",
       "306                   8 42544.00   175158        1  \n",
       "562                   1 19182.00   198448        1  \n",
       "570                   1  9936.00   910163        1  \n",
       "594                   3 20818.00   910190        1  \n",
       "595                   3 20818.00   910190        1  "
      ]
     },
     "execution_count": 44,
     "metadata": {},
     "output_type": "execute_result"
    }
   ],
   "source": [
    "df_prod[df_prod.cluster == 1].head(5)"
   ]
  },
  {
   "cell_type": "code",
   "execution_count": 45,
   "metadata": {},
   "outputs": [
    {
     "data": {
      "text/html": [
       "<div>\n",
       "<style>\n",
       "    .dataframe thead tr:only-child th {\n",
       "        text-align: right;\n",
       "    }\n",
       "\n",
       "    .dataframe thead th {\n",
       "        text-align: left;\n",
       "    }\n",
       "\n",
       "    .dataframe tbody tr th {\n",
       "        vertical-align: top;\n",
       "    }\n",
       "</style>\n",
       "<table border=\"1\" class=\"dataframe\">\n",
       "  <thead>\n",
       "    <tr style=\"text-align: right;\">\n",
       "      <th></th>\n",
       "      <th>DISCOUNT_VALUE</th>\n",
       "      <th>NAME</th>\n",
       "      <th>PRICE</th>\n",
       "      <th>QUANTITY</th>\n",
       "      <th>date_insert</th>\n",
       "      <th>discount</th>\n",
       "      <th>itemID</th>\n",
       "      <th>orderID</th>\n",
       "      <th>ordered_item_count</th>\n",
       "      <th>price</th>\n",
       "      <th>user_id</th>\n",
       "      <th>cluster</th>\n",
       "    </tr>\n",
       "  </thead>\n",
       "  <tbody>\n",
       "    <tr>\n",
       "      <th>81195</th>\n",
       "      <td>20.08%</td>\n",
       "      <td>Атлас автодорог России стран СНГ и Балтии (при...</td>\n",
       "      <td>191.20</td>\n",
       "      <td>2</td>\n",
       "      <td>2017-04-12 13:59:09</td>\n",
       "      <td>15299.00</td>\n",
       "      <td>290512</td>\n",
       "      <td>616630</td>\n",
       "      <td>243</td>\n",
       "      <td>74235.60</td>\n",
       "      <td>60383</td>\n",
       "      <td>2</td>\n",
       "    </tr>\n",
       "    <tr>\n",
       "      <th>81196</th>\n",
       "      <td>20.21%</td>\n",
       "      <td>Атлас автодорог России стран СНГ и Балтии (при...</td>\n",
       "      <td>150.40</td>\n",
       "      <td>1</td>\n",
       "      <td>2017-04-12 13:59:09</td>\n",
       "      <td>15299.00</td>\n",
       "      <td>290514</td>\n",
       "      <td>616630</td>\n",
       "      <td>243</td>\n",
       "      <td>74235.60</td>\n",
       "      <td>60383</td>\n",
       "      <td>2</td>\n",
       "    </tr>\n",
       "    <tr>\n",
       "      <th>81197</th>\n",
       "      <td>19.95%</td>\n",
       "      <td>Атлас автодорог России, стран СНГ и Балтии (пр...</td>\n",
       "      <td>344.80</td>\n",
       "      <td>1</td>\n",
       "      <td>2017-04-12 13:59:09</td>\n",
       "      <td>15299.00</td>\n",
       "      <td>272958</td>\n",
       "      <td>616630</td>\n",
       "      <td>243</td>\n",
       "      <td>74235.60</td>\n",
       "      <td>60383</td>\n",
       "      <td>2</td>\n",
       "    </tr>\n",
       "    <tr>\n",
       "      <th>81198</th>\n",
       "      <td>19.9%</td>\n",
       "      <td>Атлас автодорог России, стран СНГ и Балтии (пр...</td>\n",
       "      <td>313.60</td>\n",
       "      <td>1</td>\n",
       "      <td>2017-04-12 13:59:09</td>\n",
       "      <td>15299.00</td>\n",
       "      <td>272959</td>\n",
       "      <td>616630</td>\n",
       "      <td>243</td>\n",
       "      <td>74235.60</td>\n",
       "      <td>60383</td>\n",
       "      <td>2</td>\n",
       "    </tr>\n",
       "    <tr>\n",
       "      <th>81199</th>\n",
       "      <td>20.11%</td>\n",
       "      <td>Атлас автодорог России стран СНГ и Балтии (при...</td>\n",
       "      <td>282.40</td>\n",
       "      <td>1</td>\n",
       "      <td>2017-04-12 13:59:09</td>\n",
       "      <td>15299.00</td>\n",
       "      <td>272998</td>\n",
       "      <td>616630</td>\n",
       "      <td>243</td>\n",
       "      <td>74235.60</td>\n",
       "      <td>60383</td>\n",
       "      <td>2</td>\n",
       "    </tr>\n",
       "  </tbody>\n",
       "</table>\n",
       "</div>"
      ],
      "text/plain": [
       "      DISCOUNT_VALUE                                               NAME  \\\n",
       "81195         20.08%  Атлас автодорог России стран СНГ и Балтии (при...   \n",
       "81196         20.21%  Атлас автодорог России стран СНГ и Балтии (при...   \n",
       "81197         19.95%  Атлас автодорог России, стран СНГ и Балтии (пр...   \n",
       "81198          19.9%  Атлас автодорог России, стран СНГ и Балтии (пр...   \n",
       "81199         20.11%  Атлас автодорог России стран СНГ и Балтии (при...   \n",
       "\n",
       "       PRICE  QUANTITY          date_insert  discount  itemID  orderID  \\\n",
       "81195 191.20         2  2017-04-12 13:59:09  15299.00  290512   616630   \n",
       "81196 150.40         1  2017-04-12 13:59:09  15299.00  290514   616630   \n",
       "81197 344.80         1  2017-04-12 13:59:09  15299.00  272958   616630   \n",
       "81198 313.60         1  2017-04-12 13:59:09  15299.00  272959   616630   \n",
       "81199 282.40         1  2017-04-12 13:59:09  15299.00  272998   616630   \n",
       "\n",
       "       ordered_item_count    price  user_id  cluster  \n",
       "81195                 243 74235.60    60383        2  \n",
       "81196                 243 74235.60    60383        2  \n",
       "81197                 243 74235.60    60383        2  \n",
       "81198                 243 74235.60    60383        2  \n",
       "81199                 243 74235.60    60383        2  "
      ]
     },
     "execution_count": 45,
     "metadata": {},
     "output_type": "execute_result"
    }
   ],
   "source": [
    "df_prod[df_prod.cluster == 2].head(5)"
   ]
  },
  {
   "cell_type": "code",
   "execution_count": 46,
   "metadata": {
    "scrolled": false
   },
   "outputs": [
    {
     "data": {
      "text/html": [
       "<div>\n",
       "<style>\n",
       "    .dataframe thead tr:only-child th {\n",
       "        text-align: right;\n",
       "    }\n",
       "\n",
       "    .dataframe thead th {\n",
       "        text-align: left;\n",
       "    }\n",
       "\n",
       "    .dataframe tbody tr th {\n",
       "        vertical-align: top;\n",
       "    }\n",
       "</style>\n",
       "<table border=\"1\" class=\"dataframe\">\n",
       "  <thead>\n",
       "    <tr style=\"text-align: right;\">\n",
       "      <th></th>\n",
       "      <th>DISCOUNT_VALUE</th>\n",
       "      <th>NAME</th>\n",
       "      <th>PRICE</th>\n",
       "      <th>QUANTITY</th>\n",
       "      <th>date_insert</th>\n",
       "      <th>discount</th>\n",
       "      <th>itemID</th>\n",
       "      <th>orderID</th>\n",
       "      <th>ordered_item_count</th>\n",
       "      <th>price</th>\n",
       "      <th>user_id</th>\n",
       "      <th>cluster</th>\n",
       "    </tr>\n",
       "  </thead>\n",
       "  <tbody>\n",
       "    <tr>\n",
       "      <th>0</th>\n",
       "      <td>23.55%</td>\n",
       "      <td>Хроники Амбера. Том 2</td>\n",
       "      <td>357.00</td>\n",
       "      <td>1</td>\n",
       "      <td>2017-03-19 22:25:20</td>\n",
       "      <td>110.00</td>\n",
       "      <td>169108</td>\n",
       "      <td>602051</td>\n",
       "      <td>1</td>\n",
       "      <td>527.00</td>\n",
       "      <td>911531</td>\n",
       "      <td>3</td>\n",
       "    </tr>\n",
       "    <tr>\n",
       "      <th>1</th>\n",
       "      <td>4.07%</td>\n",
       "      <td>Хроники Амбера. Том 1</td>\n",
       "      <td>448.00</td>\n",
       "      <td>1</td>\n",
       "      <td>2017-03-19 22:19:58</td>\n",
       "      <td>19.00</td>\n",
       "      <td>1394744</td>\n",
       "      <td>602047</td>\n",
       "      <td>1</td>\n",
       "      <td>618.00</td>\n",
       "      <td>911531</td>\n",
       "      <td>3</td>\n",
       "    </tr>\n",
       "    <tr>\n",
       "      <th>2</th>\n",
       "      <td>4.17%</td>\n",
       "      <td>Пищеводитель</td>\n",
       "      <td>414.00</td>\n",
       "      <td>1</td>\n",
       "      <td>2017-03-19 20:58:00</td>\n",
       "      <td>65.00</td>\n",
       "      <td>191276</td>\n",
       "      <td>602017</td>\n",
       "      <td>4</td>\n",
       "      <td>1503.00</td>\n",
       "      <td>911587</td>\n",
       "      <td>3</td>\n",
       "    </tr>\n",
       "    <tr>\n",
       "      <th>3</th>\n",
       "      <td>4.17%</td>\n",
       "      <td>Аудиокн. Мясников. &amp;quot;Ржавчина&amp;quot;: что д...</td>\n",
       "      <td>253.00</td>\n",
       "      <td>1</td>\n",
       "      <td>2017-03-19 20:58:00</td>\n",
       "      <td>65.00</td>\n",
       "      <td>157945</td>\n",
       "      <td>602017</td>\n",
       "      <td>4</td>\n",
       "      <td>1503.00</td>\n",
       "      <td>911587</td>\n",
       "      <td>3</td>\n",
       "    </tr>\n",
       "    <tr>\n",
       "      <th>4</th>\n",
       "      <td>4.09%</td>\n",
       "      <td>Инфекции. Как защитить себя и своего ребенка</td>\n",
       "      <td>422.00</td>\n",
       "      <td>1</td>\n",
       "      <td>2017-03-19 20:58:00</td>\n",
       "      <td>65.00</td>\n",
       "      <td>205173</td>\n",
       "      <td>602017</td>\n",
       "      <td>4</td>\n",
       "      <td>1503.00</td>\n",
       "      <td>911587</td>\n",
       "      <td>3</td>\n",
       "    </tr>\n",
       "  </tbody>\n",
       "</table>\n",
       "</div>"
      ],
      "text/plain": [
       "  DISCOUNT_VALUE                                               NAME  PRICE  \\\n",
       "0         23.55%                              Хроники Амбера. Том 2 357.00   \n",
       "1          4.07%                              Хроники Амбера. Том 1 448.00   \n",
       "2          4.17%                                       Пищеводитель 414.00   \n",
       "3          4.17%  Аудиокн. Мясников. &quot;Ржавчина&quot;: что д... 253.00   \n",
       "4          4.09%       Инфекции. Как защитить себя и своего ребенка 422.00   \n",
       "\n",
       "   QUANTITY          date_insert  discount   itemID  orderID  \\\n",
       "0         1  2017-03-19 22:25:20    110.00   169108   602051   \n",
       "1         1  2017-03-19 22:19:58     19.00  1394744   602047   \n",
       "2         1  2017-03-19 20:58:00     65.00   191276   602017   \n",
       "3         1  2017-03-19 20:58:00     65.00   157945   602017   \n",
       "4         1  2017-03-19 20:58:00     65.00   205173   602017   \n",
       "\n",
       "   ordered_item_count   price  user_id  cluster  \n",
       "0                   1  527.00   911531        3  \n",
       "1                   1  618.00   911531        3  \n",
       "2                   4 1503.00   911587        3  \n",
       "3                   4 1503.00   911587        3  \n",
       "4                   4 1503.00   911587        3  "
      ]
     },
     "execution_count": 46,
     "metadata": {},
     "output_type": "execute_result"
    }
   ],
   "source": [
    "df_prod[df_prod.cluster == 3].head(5)"
   ]
  },
  {
   "cell_type": "markdown",
   "metadata": {},
   "source": [
    "Несмотря на то, что большая часть данных \"свалилась\" в один кластер, кое-какие интересные результаты все же можно извлечь:\n",
    "<ul>\n",
    "<li>В первый кластер попали, по всей видимости, обычные роздничные покупатели</li>\n",
    "<li>Во второй кластер попали оптовые покупатели, покупающие разные книги (низкий параметр QUANTITY), готовые покупать с небольшой скидкой</li>\n",
    "<li>В третий кластер попали оптовые покупатели, покупающие много экземпляров одной книги (высокий параметр QUANTITY)</li>\n",
    "<li>В четвертый кластер попали оптовые покупатели, покупающие разные книги (низкий параметр QUANTITY), готовые покупать только с большой скидкой скидкой</li>\n",
    "</ul>"
   ]
  },
  {
   "cell_type": "markdown",
   "metadata": {},
   "source": [
    "# 6. Повторить при необходимости "
   ]
  },
  {
   "cell_type": "markdown",
   "metadata": {},
   "source": [
    "#### Попробуем сделать тоже самое, но при условии разбиения на 5 кластеров:"
   ]
  },
  {
   "cell_type": "code",
   "execution_count": 47,
   "metadata": {
    "collapsed": true
   },
   "outputs": [],
   "source": [
    "n_clusters = 5\n",
    "kmeans = KMeans(init='k-means++', n_clusters=n_clusters)\n",
    "kmeans.fit(X_prod)\n",
    "clusters = kmeans.predict(X_prod)"
   ]
  },
  {
   "cell_type": "code",
   "execution_count": 48,
   "metadata": {
    "collapsed": true
   },
   "outputs": [],
   "source": [
    "df_prod['cluster'] = clusters"
   ]
  },
  {
   "cell_type": "code",
   "execution_count": 49,
   "metadata": {},
   "outputs": [
    {
     "data": {
      "image/png": "[encoded data removed]",
      "text/plain": [
       "<matplotlib.figure.Figure at 0x11765e3d0>"
      ]
     },
     "metadata": {},
     "output_type": "display_data"
    }
   ],
   "source": [
    "df_prod['cluster'].value_counts().plot(kind='bar');"
   ]
  },
  {
   "cell_type": "code",
   "execution_count": 50,
   "metadata": {},
   "outputs": [
    {
     "data": {
      "text/html": [
       "<div>\n",
       "<style>\n",
       "    .dataframe thead tr:only-child th {\n",
       "        text-align: right;\n",
       "    }\n",
       "\n",
       "    .dataframe thead th {\n",
       "        text-align: left;\n",
       "    }\n",
       "\n",
       "    .dataframe tbody tr th {\n",
       "        vertical-align: top;\n",
       "    }\n",
       "</style>\n",
       "<table border=\"1\" class=\"dataframe\">\n",
       "  <thead>\n",
       "    <tr style=\"text-align: right;\">\n",
       "      <th></th>\n",
       "      <th>DISCOUNT_VALUE</th>\n",
       "      <th>NAME</th>\n",
       "      <th>PRICE</th>\n",
       "      <th>QUANTITY</th>\n",
       "      <th>date_insert</th>\n",
       "      <th>discount</th>\n",
       "      <th>itemID</th>\n",
       "      <th>orderID</th>\n",
       "      <th>ordered_item_count</th>\n",
       "      <th>price</th>\n",
       "      <th>user_id</th>\n",
       "      <th>cluster</th>\n",
       "    </tr>\n",
       "  </thead>\n",
       "  <tbody>\n",
       "    <tr>\n",
       "      <th>0</th>\n",
       "      <td>23.55%</td>\n",
       "      <td>Хроники Амбера. Том 2</td>\n",
       "      <td>357.00</td>\n",
       "      <td>1</td>\n",
       "      <td>2017-03-19 22:25:20</td>\n",
       "      <td>110.00</td>\n",
       "      <td>169108</td>\n",
       "      <td>602051</td>\n",
       "      <td>1</td>\n",
       "      <td>527.00</td>\n",
       "      <td>911531</td>\n",
       "      <td>0</td>\n",
       "    </tr>\n",
       "    <tr>\n",
       "      <th>1</th>\n",
       "      <td>4.07%</td>\n",
       "      <td>Хроники Амбера. Том 1</td>\n",
       "      <td>448.00</td>\n",
       "      <td>1</td>\n",
       "      <td>2017-03-19 22:19:58</td>\n",
       "      <td>19.00</td>\n",
       "      <td>1394744</td>\n",
       "      <td>602047</td>\n",
       "      <td>1</td>\n",
       "      <td>618.00</td>\n",
       "      <td>911531</td>\n",
       "      <td>0</td>\n",
       "    </tr>\n",
       "    <tr>\n",
       "      <th>2</th>\n",
       "      <td>4.17%</td>\n",
       "      <td>Пищеводитель</td>\n",
       "      <td>414.00</td>\n",
       "      <td>1</td>\n",
       "      <td>2017-03-19 20:58:00</td>\n",
       "      <td>65.00</td>\n",
       "      <td>191276</td>\n",
       "      <td>602017</td>\n",
       "      <td>4</td>\n",
       "      <td>1503.00</td>\n",
       "      <td>911587</td>\n",
       "      <td>0</td>\n",
       "    </tr>\n",
       "    <tr>\n",
       "      <th>3</th>\n",
       "      <td>4.17%</td>\n",
       "      <td>Аудиокн. Мясников. &amp;quot;Ржавчина&amp;quot;: что д...</td>\n",
       "      <td>253.00</td>\n",
       "      <td>1</td>\n",
       "      <td>2017-03-19 20:58:00</td>\n",
       "      <td>65.00</td>\n",
       "      <td>157945</td>\n",
       "      <td>602017</td>\n",
       "      <td>4</td>\n",
       "      <td>1503.00</td>\n",
       "      <td>911587</td>\n",
       "      <td>0</td>\n",
       "    </tr>\n",
       "    <tr>\n",
       "      <th>4</th>\n",
       "      <td>4.09%</td>\n",
       "      <td>Инфекции. Как защитить себя и своего ребенка</td>\n",
       "      <td>422.00</td>\n",
       "      <td>1</td>\n",
       "      <td>2017-03-19 20:58:00</td>\n",
       "      <td>65.00</td>\n",
       "      <td>205173</td>\n",
       "      <td>602017</td>\n",
       "      <td>4</td>\n",
       "      <td>1503.00</td>\n",
       "      <td>911587</td>\n",
       "      <td>0</td>\n",
       "    </tr>\n",
       "  </tbody>\n",
       "</table>\n",
       "</div>"
      ],
      "text/plain": [
       "  DISCOUNT_VALUE                                               NAME  PRICE  \\\n",
       "0         23.55%                              Хроники Амбера. Том 2 357.00   \n",
       "1          4.07%                              Хроники Амбера. Том 1 448.00   \n",
       "2          4.17%                                       Пищеводитель 414.00   \n",
       "3          4.17%  Аудиокн. Мясников. &quot;Ржавчина&quot;: что д... 253.00   \n",
       "4          4.09%       Инфекции. Как защитить себя и своего ребенка 422.00   \n",
       "\n",
       "   QUANTITY          date_insert  discount   itemID  orderID  \\\n",
       "0         1  2017-03-19 22:25:20    110.00   169108   602051   \n",
       "1         1  2017-03-19 22:19:58     19.00  1394744   602047   \n",
       "2         1  2017-03-19 20:58:00     65.00   191276   602017   \n",
       "3         1  2017-03-19 20:58:00     65.00   157945   602017   \n",
       "4         1  2017-03-19 20:58:00     65.00   205173   602017   \n",
       "\n",
       "   ordered_item_count   price  user_id  cluster  \n",
       "0                   1  527.00   911531        0  \n",
       "1                   1  618.00   911531        0  \n",
       "2                   4 1503.00   911587        0  \n",
       "3                   4 1503.00   911587        0  \n",
       "4                   4 1503.00   911587        0  "
      ]
     },
     "execution_count": 50,
     "metadata": {},
     "output_type": "execute_result"
    }
   ],
   "source": [
    "df_prod[df_prod.cluster == 0].head(5)"
   ]
  },
  {
   "cell_type": "code",
   "execution_count": 51,
   "metadata": {},
   "outputs": [
    {
     "data": {
      "text/html": [
       "<div>\n",
       "<style>\n",
       "    .dataframe thead tr:only-child th {\n",
       "        text-align: right;\n",
       "    }\n",
       "\n",
       "    .dataframe thead th {\n",
       "        text-align: left;\n",
       "    }\n",
       "\n",
       "    .dataframe tbody tr th {\n",
       "        vertical-align: top;\n",
       "    }\n",
       "</style>\n",
       "<table border=\"1\" class=\"dataframe\">\n",
       "  <thead>\n",
       "    <tr style=\"text-align: right;\">\n",
       "      <th></th>\n",
       "      <th>DISCOUNT_VALUE</th>\n",
       "      <th>NAME</th>\n",
       "      <th>PRICE</th>\n",
       "      <th>QUANTITY</th>\n",
       "      <th>date_insert</th>\n",
       "      <th>discount</th>\n",
       "      <th>itemID</th>\n",
       "      <th>orderID</th>\n",
       "      <th>ordered_item_count</th>\n",
       "      <th>price</th>\n",
       "      <th>user_id</th>\n",
       "      <th>cluster</th>\n",
       "    </tr>\n",
       "  </thead>\n",
       "  <tbody>\n",
       "    <tr>\n",
       "      <th>300</th>\n",
       "      <td>4.02%</td>\n",
       "      <td>#Мясомясо (книга+диск)</td>\n",
       "      <td>999.00</td>\n",
       "      <td>4</td>\n",
       "      <td>2017-03-17 15:46:28</td>\n",
       "      <td>4037.00</td>\n",
       "      <td>195826</td>\n",
       "      <td>600959</td>\n",
       "      <td>8</td>\n",
       "      <td>42544.00</td>\n",
       "      <td>175158</td>\n",
       "      <td>1</td>\n",
       "    </tr>\n",
       "    <tr>\n",
       "      <th>301</th>\n",
       "      <td>4.02%</td>\n",
       "      <td>Про еду, про вино, Прованс</td>\n",
       "      <td>903.00</td>\n",
       "      <td>6</td>\n",
       "      <td>2017-03-17 15:46:28</td>\n",
       "      <td>4037.00</td>\n",
       "      <td>195737</td>\n",
       "      <td>600959</td>\n",
       "      <td>8</td>\n",
       "      <td>42544.00</td>\n",
       "      <td>175158</td>\n",
       "      <td>1</td>\n",
       "    </tr>\n",
       "    <tr>\n",
       "      <th>302</th>\n",
       "      <td>4.02%</td>\n",
       "      <td>Вина Франции</td>\n",
       "      <td>1292.00</td>\n",
       "      <td>3</td>\n",
       "      <td>2017-03-17 15:46:28</td>\n",
       "      <td>4037.00</td>\n",
       "      <td>219306</td>\n",
       "      <td>600959</td>\n",
       "      <td>8</td>\n",
       "      <td>42544.00</td>\n",
       "      <td>175158</td>\n",
       "      <td>1</td>\n",
       "    </tr>\n",
       "    <tr>\n",
       "      <th>303</th>\n",
       "      <td>4.02%</td>\n",
       "      <td>Шампань и другие игристые вина</td>\n",
       "      <td>1292.00</td>\n",
       "      <td>3</td>\n",
       "      <td>2017-03-17 15:46:28</td>\n",
       "      <td>4037.00</td>\n",
       "      <td>709813</td>\n",
       "      <td>600959</td>\n",
       "      <td>8</td>\n",
       "      <td>42544.00</td>\n",
       "      <td>175158</td>\n",
       "      <td>1</td>\n",
       "    </tr>\n",
       "    <tr>\n",
       "      <th>304</th>\n",
       "      <td>4.06%</td>\n",
       "      <td>Вино и еда. Краткий курс для гурманов</td>\n",
       "      <td>1083.00</td>\n",
       "      <td>3</td>\n",
       "      <td>2017-03-17 15:46:28</td>\n",
       "      <td>4037.00</td>\n",
       "      <td>168696</td>\n",
       "      <td>600959</td>\n",
       "      <td>8</td>\n",
       "      <td>42544.00</td>\n",
       "      <td>175158</td>\n",
       "      <td>1</td>\n",
       "    </tr>\n",
       "  </tbody>\n",
       "</table>\n",
       "</div>"
      ],
      "text/plain": [
       "    DISCOUNT_VALUE                                   NAME   PRICE  QUANTITY  \\\n",
       "300          4.02%                 #Мясомясо (книга+диск)  999.00         4   \n",
       "301          4.02%             Про еду, про вино, Прованс  903.00         6   \n",
       "302          4.02%                           Вина Франции 1292.00         3   \n",
       "303          4.02%         Шампань и другие игристые вина 1292.00         3   \n",
       "304          4.06%  Вино и еда. Краткий курс для гурманов 1083.00         3   \n",
       "\n",
       "             date_insert  discount  itemID  orderID  ordered_item_count  \\\n",
       "300  2017-03-17 15:46:28   4037.00  195826   600959                   8   \n",
       "301  2017-03-17 15:46:28   4037.00  195737   600959                   8   \n",
       "302  2017-03-17 15:46:28   4037.00  219306   600959                   8   \n",
       "303  2017-03-17 15:46:28   4037.00  709813   600959                   8   \n",
       "304  2017-03-17 15:46:28   4037.00  168696   600959                   8   \n",
       "\n",
       "       price  user_id  cluster  \n",
       "300 42544.00   175158        1  \n",
       "301 42544.00   175158        1  \n",
       "302 42544.00   175158        1  \n",
       "303 42544.00   175158        1  \n",
       "304 42544.00   175158        1  "
      ]
     },
     "execution_count": 51,
     "metadata": {},
     "output_type": "execute_result"
    }
   ],
   "source": [
    "df_prod[df_prod.cluster == 1].head(5)"
   ]
  },
  {
   "cell_type": "code",
   "execution_count": 52,
   "metadata": {},
   "outputs": [
    {
     "data": {
      "text/html": [
       "<div>\n",
       "<style>\n",
       "    .dataframe thead tr:only-child th {\n",
       "        text-align: right;\n",
       "    }\n",
       "\n",
       "    .dataframe thead th {\n",
       "        text-align: left;\n",
       "    }\n",
       "\n",
       "    .dataframe tbody tr th {\n",
       "        vertical-align: top;\n",
       "    }\n",
       "</style>\n",
       "<table border=\"1\" class=\"dataframe\">\n",
       "  <thead>\n",
       "    <tr style=\"text-align: right;\">\n",
       "      <th></th>\n",
       "      <th>DISCOUNT_VALUE</th>\n",
       "      <th>NAME</th>\n",
       "      <th>PRICE</th>\n",
       "      <th>QUANTITY</th>\n",
       "      <th>date_insert</th>\n",
       "      <th>discount</th>\n",
       "      <th>itemID</th>\n",
       "      <th>orderID</th>\n",
       "      <th>ordered_item_count</th>\n",
       "      <th>price</th>\n",
       "      <th>user_id</th>\n",
       "      <th>cluster</th>\n",
       "    </tr>\n",
       "  </thead>\n",
       "  <tbody>\n",
       "    <tr>\n",
       "      <th>16788</th>\n",
       "      <td>22.22%</td>\n",
       "      <td>Урфин Джюс и его деревянные солдаты (вес: 335гр.)</td>\n",
       "      <td>40.00</td>\n",
       "      <td>200</td>\n",
       "      <td>2017-03-16 14:53:11</td>\n",
       "      <td>14.00</td>\n",
       "      <td>194789</td>\n",
       "      <td>600212</td>\n",
       "      <td>1</td>\n",
       "      <td>8000.00</td>\n",
       "      <td>234692</td>\n",
       "      <td>2</td>\n",
       "    </tr>\n",
       "    <tr>\n",
       "      <th>20571</th>\n",
       "      <td>22.04%</td>\n",
       "      <td>Почему одни страны богатые, а другие бедные</td>\n",
       "      <td>520.00</td>\n",
       "      <td>250</td>\n",
       "      <td>2017-03-22 16:06:06</td>\n",
       "      <td>147.00</td>\n",
       "      <td>189760</td>\n",
       "      <td>604364</td>\n",
       "      <td>1</td>\n",
       "      <td>130650.00</td>\n",
       "      <td>913110</td>\n",
       "      <td>2</td>\n",
       "    </tr>\n",
       "    <tr>\n",
       "      <th>44404</th>\n",
       "      <td>44.91%</td>\n",
       "      <td>Логопедия. Теория и практика</td>\n",
       "      <td>303.00</td>\n",
       "      <td>300</td>\n",
       "      <td>2017-03-20 16:56:22</td>\n",
       "      <td>247.00</td>\n",
       "      <td>716760</td>\n",
       "      <td>602735</td>\n",
       "      <td>1</td>\n",
       "      <td>90900.00</td>\n",
       "      <td>111280</td>\n",
       "      <td>2</td>\n",
       "    </tr>\n",
       "    <tr>\n",
       "      <th>49024</th>\n",
       "      <td>19.01%</td>\n",
       "      <td>Parfums mythiques. Эксклюзивная коллекция леге...</td>\n",
       "      <td>800.00</td>\n",
       "      <td>150</td>\n",
       "      <td>2017-03-29 15:46:06</td>\n",
       "      <td>1788.00</td>\n",
       "      <td>195991</td>\n",
       "      <td>609302</td>\n",
       "      <td>1</td>\n",
       "      <td>122700.00</td>\n",
       "      <td>9169</td>\n",
       "      <td>2</td>\n",
       "    </tr>\n",
       "    <tr>\n",
       "      <th>49845</th>\n",
       "      <td>3.94%</td>\n",
       "      <td>Четвертая промышленная революция (вес: 491гр.)</td>\n",
       "      <td>614.67</td>\n",
       "      <td>300</td>\n",
       "      <td>2017-03-29 16:59:52</td>\n",
       "      <td>-56.67</td>\n",
       "      <td>219567</td>\n",
       "      <td>609331</td>\n",
       "      <td>1</td>\n",
       "      <td>185701.00</td>\n",
       "      <td>916760</td>\n",
       "      <td>2</td>\n",
       "    </tr>\n",
       "  </tbody>\n",
       "</table>\n",
       "</div>"
      ],
      "text/plain": [
       "      DISCOUNT_VALUE                                               NAME  \\\n",
       "16788         22.22%  Урфин Джюс и его деревянные солдаты (вес: 335гр.)   \n",
       "20571         22.04%        Почему одни страны богатые, а другие бедные   \n",
       "44404         44.91%                       Логопедия. Теория и практика   \n",
       "49024         19.01%  Parfums mythiques. Эксклюзивная коллекция леге...   \n",
       "49845          3.94%     Четвертая промышленная революция (вес: 491гр.)   \n",
       "\n",
       "       PRICE  QUANTITY          date_insert  discount  itemID  orderID  \\\n",
       "16788  40.00       200  2017-03-16 14:53:11     14.00  194789   600212   \n",
       "20571 520.00       250  2017-03-22 16:06:06    147.00  189760   604364   \n",
       "44404 303.00       300  2017-03-20 16:56:22    247.00  716760   602735   \n",
       "49024 800.00       150  2017-03-29 15:46:06   1788.00  195991   609302   \n",
       "49845 614.67       300  2017-03-29 16:59:52    -56.67  219567   609331   \n",
       "\n",
       "       ordered_item_count     price  user_id  cluster  \n",
       "16788                   1   8000.00   234692        2  \n",
       "20571                   1 130650.00   913110        2  \n",
       "44404                   1  90900.00   111280        2  \n",
       "49024                   1 122700.00     9169        2  \n",
       "49845                   1 185701.00   916760        2  "
      ]
     },
     "execution_count": 52,
     "metadata": {},
     "output_type": "execute_result"
    }
   ],
   "source": [
    "df_prod[df_prod.cluster == 2].head(5)"
   ]
  },
  {
   "cell_type": "code",
   "execution_count": 53,
   "metadata": {},
   "outputs": [
    {
     "data": {
      "text/html": [
       "<div>\n",
       "<style>\n",
       "    .dataframe thead tr:only-child th {\n",
       "        text-align: right;\n",
       "    }\n",
       "\n",
       "    .dataframe thead th {\n",
       "        text-align: left;\n",
       "    }\n",
       "\n",
       "    .dataframe tbody tr th {\n",
       "        vertical-align: top;\n",
       "    }\n",
       "</style>\n",
       "<table border=\"1\" class=\"dataframe\">\n",
       "  <thead>\n",
       "    <tr style=\"text-align: right;\">\n",
       "      <th></th>\n",
       "      <th>DISCOUNT_VALUE</th>\n",
       "      <th>NAME</th>\n",
       "      <th>PRICE</th>\n",
       "      <th>QUANTITY</th>\n",
       "      <th>date_insert</th>\n",
       "      <th>discount</th>\n",
       "      <th>itemID</th>\n",
       "      <th>orderID</th>\n",
       "      <th>ordered_item_count</th>\n",
       "      <th>price</th>\n",
       "      <th>user_id</th>\n",
       "      <th>cluster</th>\n",
       "    </tr>\n",
       "  </thead>\n",
       "  <tbody>\n",
       "    <tr>\n",
       "      <th>81195</th>\n",
       "      <td>20.08%</td>\n",
       "      <td>Атлас автодорог России стран СНГ и Балтии (при...</td>\n",
       "      <td>191.20</td>\n",
       "      <td>2</td>\n",
       "      <td>2017-04-12 13:59:09</td>\n",
       "      <td>15299.00</td>\n",
       "      <td>290512</td>\n",
       "      <td>616630</td>\n",
       "      <td>243</td>\n",
       "      <td>74235.60</td>\n",
       "      <td>60383</td>\n",
       "      <td>3</td>\n",
       "    </tr>\n",
       "    <tr>\n",
       "      <th>81196</th>\n",
       "      <td>20.21%</td>\n",
       "      <td>Атлас автодорог России стран СНГ и Балтии (при...</td>\n",
       "      <td>150.40</td>\n",
       "      <td>1</td>\n",
       "      <td>2017-04-12 13:59:09</td>\n",
       "      <td>15299.00</td>\n",
       "      <td>290514</td>\n",
       "      <td>616630</td>\n",
       "      <td>243</td>\n",
       "      <td>74235.60</td>\n",
       "      <td>60383</td>\n",
       "      <td>3</td>\n",
       "    </tr>\n",
       "    <tr>\n",
       "      <th>81197</th>\n",
       "      <td>19.95%</td>\n",
       "      <td>Атлас автодорог России, стран СНГ и Балтии (пр...</td>\n",
       "      <td>344.80</td>\n",
       "      <td>1</td>\n",
       "      <td>2017-04-12 13:59:09</td>\n",
       "      <td>15299.00</td>\n",
       "      <td>272958</td>\n",
       "      <td>616630</td>\n",
       "      <td>243</td>\n",
       "      <td>74235.60</td>\n",
       "      <td>60383</td>\n",
       "      <td>3</td>\n",
       "    </tr>\n",
       "    <tr>\n",
       "      <th>81198</th>\n",
       "      <td>19.9%</td>\n",
       "      <td>Атлас автодорог России, стран СНГ и Балтии (пр...</td>\n",
       "      <td>313.60</td>\n",
       "      <td>1</td>\n",
       "      <td>2017-04-12 13:59:09</td>\n",
       "      <td>15299.00</td>\n",
       "      <td>272959</td>\n",
       "      <td>616630</td>\n",
       "      <td>243</td>\n",
       "      <td>74235.60</td>\n",
       "      <td>60383</td>\n",
       "      <td>3</td>\n",
       "    </tr>\n",
       "    <tr>\n",
       "      <th>81199</th>\n",
       "      <td>20.11%</td>\n",
       "      <td>Атлас автодорог России стран СНГ и Балтии (при...</td>\n",
       "      <td>282.40</td>\n",
       "      <td>1</td>\n",
       "      <td>2017-04-12 13:59:09</td>\n",
       "      <td>15299.00</td>\n",
       "      <td>272998</td>\n",
       "      <td>616630</td>\n",
       "      <td>243</td>\n",
       "      <td>74235.60</td>\n",
       "      <td>60383</td>\n",
       "      <td>3</td>\n",
       "    </tr>\n",
       "  </tbody>\n",
       "</table>\n",
       "</div>"
      ],
      "text/plain": [
       "      DISCOUNT_VALUE                                               NAME  \\\n",
       "81195         20.08%  Атлас автодорог России стран СНГ и Балтии (при...   \n",
       "81196         20.21%  Атлас автодорог России стран СНГ и Балтии (при...   \n",
       "81197         19.95%  Атлас автодорог России, стран СНГ и Балтии (пр...   \n",
       "81198          19.9%  Атлас автодорог России, стран СНГ и Балтии (пр...   \n",
       "81199         20.11%  Атлас автодорог России стран СНГ и Балтии (при...   \n",
       "\n",
       "       PRICE  QUANTITY          date_insert  discount  itemID  orderID  \\\n",
       "81195 191.20         2  2017-04-12 13:59:09  15299.00  290512   616630   \n",
       "81196 150.40         1  2017-04-12 13:59:09  15299.00  290514   616630   \n",
       "81197 344.80         1  2017-04-12 13:59:09  15299.00  272958   616630   \n",
       "81198 313.60         1  2017-04-12 13:59:09  15299.00  272959   616630   \n",
       "81199 282.40         1  2017-04-12 13:59:09  15299.00  272998   616630   \n",
       "\n",
       "       ordered_item_count    price  user_id  cluster  \n",
       "81195                 243 74235.60    60383        3  \n",
       "81196                 243 74235.60    60383        3  \n",
       "81197                 243 74235.60    60383        3  \n",
       "81198                 243 74235.60    60383        3  \n",
       "81199                 243 74235.60    60383        3  "
      ]
     },
     "execution_count": 53,
     "metadata": {},
     "output_type": "execute_result"
    }
   ],
   "source": [
    "df_prod[df_prod.cluster == 3].head(5)"
   ]
  },
  {
   "cell_type": "code",
   "execution_count": 54,
   "metadata": {},
   "outputs": [
    {
     "data": {
      "text/html": [
       "<div>\n",
       "<style>\n",
       "    .dataframe thead tr:only-child th {\n",
       "        text-align: right;\n",
       "    }\n",
       "\n",
       "    .dataframe thead th {\n",
       "        text-align: left;\n",
       "    }\n",
       "\n",
       "    .dataframe tbody tr th {\n",
       "        vertical-align: top;\n",
       "    }\n",
       "</style>\n",
       "<table border=\"1\" class=\"dataframe\">\n",
       "  <thead>\n",
       "    <tr style=\"text-align: right;\">\n",
       "      <th></th>\n",
       "      <th>DISCOUNT_VALUE</th>\n",
       "      <th>NAME</th>\n",
       "      <th>PRICE</th>\n",
       "      <th>QUANTITY</th>\n",
       "      <th>date_insert</th>\n",
       "      <th>discount</th>\n",
       "      <th>itemID</th>\n",
       "      <th>orderID</th>\n",
       "      <th>ordered_item_count</th>\n",
       "      <th>price</th>\n",
       "      <th>user_id</th>\n",
       "      <th>cluster</th>\n",
       "    </tr>\n",
       "  </thead>\n",
       "  <tbody>\n",
       "    <tr>\n",
       "      <th>285</th>\n",
       "      <td>45.1%</td>\n",
       "      <td>Атлас мира для детей</td>\n",
       "      <td>325.00</td>\n",
       "      <td>16</td>\n",
       "      <td>2017-03-17 16:44:12</td>\n",
       "      <td>267.00</td>\n",
       "      <td>161951</td>\n",
       "      <td>601000</td>\n",
       "      <td>1</td>\n",
       "      <td>5200.00</td>\n",
       "      <td>118208</td>\n",
       "      <td>4</td>\n",
       "    </tr>\n",
       "    <tr>\n",
       "      <th>299</th>\n",
       "      <td>4.02%</td>\n",
       "      <td>#Пастапаста</td>\n",
       "      <td>1065.00</td>\n",
       "      <td>10</td>\n",
       "      <td>2017-03-17 15:46:28</td>\n",
       "      <td>4037.00</td>\n",
       "      <td>196138</td>\n",
       "      <td>600959</td>\n",
       "      <td>8</td>\n",
       "      <td>42544.00</td>\n",
       "      <td>175158</td>\n",
       "      <td>4</td>\n",
       "    </tr>\n",
       "    <tr>\n",
       "      <th>306</th>\n",
       "      <td>4.08%</td>\n",
       "      <td>#неслипнется</td>\n",
       "      <td>512.00</td>\n",
       "      <td>15</td>\n",
       "      <td>2017-03-17 15:46:28</td>\n",
       "      <td>4037.00</td>\n",
       "      <td>188927</td>\n",
       "      <td>600959</td>\n",
       "      <td>8</td>\n",
       "      <td>42544.00</td>\n",
       "      <td>175158</td>\n",
       "      <td>4</td>\n",
       "    </tr>\n",
       "    <tr>\n",
       "      <th>562</th>\n",
       "      <td>45.06%</td>\n",
       "      <td>Животные. Все обитатели нашей планеты</td>\n",
       "      <td>834.00</td>\n",
       "      <td>23</td>\n",
       "      <td>2017-03-16 17:41:02</td>\n",
       "      <td>684.00</td>\n",
       "      <td>715598</td>\n",
       "      <td>600352</td>\n",
       "      <td>1</td>\n",
       "      <td>19182.00</td>\n",
       "      <td>198448</td>\n",
       "      <td>4</td>\n",
       "    </tr>\n",
       "    <tr>\n",
       "      <th>570</th>\n",
       "      <td>19.95%</td>\n",
       "      <td>Чайка. Три сестры. Вишневый сад (вес: 513гр.)</td>\n",
       "      <td>276.00</td>\n",
       "      <td>36</td>\n",
       "      <td>2017-03-16 17:08:14</td>\n",
       "      <td>12.00</td>\n",
       "      <td>219266</td>\n",
       "      <td>600329</td>\n",
       "      <td>1</td>\n",
       "      <td>9936.00</td>\n",
       "      <td>910163</td>\n",
       "      <td>4</td>\n",
       "    </tr>\n",
       "  </tbody>\n",
       "</table>\n",
       "</div>"
      ],
      "text/plain": [
       "    DISCOUNT_VALUE                                           NAME   PRICE  \\\n",
       "285          45.1%                           Атлас мира для детей  325.00   \n",
       "299          4.02%                                    #Пастапаста 1065.00   \n",
       "306          4.08%                                   #неслипнется  512.00   \n",
       "562         45.06%          Животные. Все обитатели нашей планеты  834.00   \n",
       "570         19.95%  Чайка. Три сестры. Вишневый сад (вес: 513гр.)  276.00   \n",
       "\n",
       "     QUANTITY          date_insert  discount  itemID  orderID  \\\n",
       "285        16  2017-03-17 16:44:12    267.00  161951   601000   \n",
       "299        10  2017-03-17 15:46:28   4037.00  196138   600959   \n",
       "306        15  2017-03-17 15:46:28   4037.00  188927   600959   \n",
       "562        23  2017-03-16 17:41:02    684.00  715598   600352   \n",
       "570        36  2017-03-16 17:08:14     12.00  219266   600329   \n",
       "\n",
       "     ordered_item_count    price  user_id  cluster  \n",
       "285                   1  5200.00   118208        4  \n",
       "299                   8 42544.00   175158        4  \n",
       "306                   8 42544.00   175158        4  \n",
       "562                   1 19182.00   198448        4  \n",
       "570                   1  9936.00   910163        4  "
      ]
     },
     "execution_count": 54,
     "metadata": {},
     "output_type": "execute_result"
    }
   ],
   "source": [
    "df_prod[df_prod.cluster == 4].head(5)"
   ]
  },
  {
   "cell_type": "markdown",
   "metadata": {},
   "source": [
    "Результаты оказались еще более интересными. Помимо розничных попателей, образовались кластеры для крупно оптовых покупателей и среднеоптовых покупателей для параметра ordered_item_count (ordered_item_count < 100 и ordered_item_count > 100). А также кластеры для крупно оптовых покупателей и среднеоптовых покупателей для параметра QUANTITY (QUANTITY < 100 и QUANTITY > 100)."
   ]
  },
  {
   "cell_type": "markdown",
   "metadata": {},
   "source": [
    "# Подсказки\n",
    "\n",
    "* Проводить EDA и работу с признаками на всем датасете\n",
    "* Для построения модели отсеивать данные тем или иным способом (обосновать выбор) - уменьшить объем данных для анализа\n",
    "* Оформлять для сдачи задания все эксперименты (в том числе неудачные). Так мы сможем увидеть процесс работы над заданием\n",
    "* Не тратить 90% времени на первый этап. Планировать время так, чтобы успеть поработать над моделью (в равной степени над каждым пунктом)."
   ]
  }
 ],
 "metadata": {
  "kernelspec": {
   "display_name": "Python 2",
   "language": "python",
   "name": "python2"
  },
  "language_info": {
   "codemirror_mode": {
    "name": "ipython",
    "version": 2
   },
   "file_extension": ".py",
   "mimetype": "text/x-python",
   "name": "python",
   "nbconvert_exporter": "python",
   "pygments_lexer": "ipython2",
   "version": "2.7.13"
  }
 },
 "nbformat": 4,
 "nbformat_minor": 2
}
